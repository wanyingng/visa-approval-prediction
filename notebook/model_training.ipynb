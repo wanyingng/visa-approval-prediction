{
 "cells": [
  {
   "cell_type": "markdown",
   "id": "917166a6-bd9c-4949-9c6f-db726dfeb61d",
   "metadata": {},
   "source": [
    "## 4. Data Preparation"
   ]
  },
  {
   "cell_type": "markdown",
   "id": "beee06af-ed30-44fe-8491-d843f6dd2ae8",
   "metadata": {},
   "source": [
    "### Import the necessary packages"
   ]
  },
  {
   "cell_type": "code",
   "execution_count": 1,
   "id": "0e37ae4f-bed2-45dc-98fd-f9f97fc2396b",
   "metadata": {},
   "outputs": [],
   "source": [
    "import numpy as np\n",
    "import pandas as pd\n",
    "\n",
    "import seaborn as sns\n",
    "from matplotlib import pyplot as plt\n",
    "%matplotlib inline\n",
    "\n",
    "import warnings\n",
    "warnings.filterwarnings('ignore')"
   ]
  },
  {
   "cell_type": "markdown",
   "id": "c8e19b27-b85b-47e9-b0e9-314569d95295",
   "metadata": {},
   "source": [
    "### Import the CSV data as Pandas DataFrame"
   ]
  },
  {
   "cell_type": "code",
   "execution_count": 2,
   "id": "b30742d7-579b-4d2b-ae98-a2efd50b268c",
   "metadata": {},
   "outputs": [
    {
     "data": {
      "text/plain": [
       "(25480, 12)"
      ]
     },
     "execution_count": 2,
     "metadata": {},
     "output_type": "execute_result"
    }
   ],
   "source": [
    "df = pd.read_csv('data/EasyVisa.csv')\n",
    "df.shape"
   ]
  },
  {
   "cell_type": "markdown",
   "id": "dd3aa9bc-6fa6-4345-8bb8-ab76b6ab8b69",
   "metadata": {},
   "source": [
    "### Show the first 5 records of the dataset"
   ]
  },
  {
   "cell_type": "code",
   "execution_count": 3,
   "id": "0026b718-1bbb-42a8-9e98-f67cdfe0f987",
   "metadata": {},
   "outputs": [
    {
     "data": {
      "text/html": [
       "<div>\n",
       "<style scoped>\n",
       "    .dataframe tbody tr th:only-of-type {\n",
       "        vertical-align: middle;\n",
       "    }\n",
       "\n",
       "    .dataframe tbody tr th {\n",
       "        vertical-align: top;\n",
       "    }\n",
       "\n",
       "    .dataframe thead th {\n",
       "        text-align: right;\n",
       "    }\n",
       "</style>\n",
       "<table border=\"1\" class=\"dataframe\">\n",
       "  <thead>\n",
       "    <tr style=\"text-align: right;\">\n",
       "      <th></th>\n",
       "      <th>0</th>\n",
       "      <th>1</th>\n",
       "      <th>2</th>\n",
       "      <th>3</th>\n",
       "      <th>4</th>\n",
       "    </tr>\n",
       "  </thead>\n",
       "  <tbody>\n",
       "    <tr>\n",
       "      <th>case_id</th>\n",
       "      <td>EZYV01</td>\n",
       "      <td>EZYV02</td>\n",
       "      <td>EZYV03</td>\n",
       "      <td>EZYV04</td>\n",
       "      <td>EZYV05</td>\n",
       "    </tr>\n",
       "    <tr>\n",
       "      <th>continent</th>\n",
       "      <td>Asia</td>\n",
       "      <td>Asia</td>\n",
       "      <td>Asia</td>\n",
       "      <td>Asia</td>\n",
       "      <td>Africa</td>\n",
       "    </tr>\n",
       "    <tr>\n",
       "      <th>education_of_employee</th>\n",
       "      <td>High School</td>\n",
       "      <td>Master's</td>\n",
       "      <td>Bachelor's</td>\n",
       "      <td>Bachelor's</td>\n",
       "      <td>Master's</td>\n",
       "    </tr>\n",
       "    <tr>\n",
       "      <th>has_job_experience</th>\n",
       "      <td>N</td>\n",
       "      <td>Y</td>\n",
       "      <td>N</td>\n",
       "      <td>N</td>\n",
       "      <td>Y</td>\n",
       "    </tr>\n",
       "    <tr>\n",
       "      <th>requires_job_training</th>\n",
       "      <td>N</td>\n",
       "      <td>N</td>\n",
       "      <td>Y</td>\n",
       "      <td>N</td>\n",
       "      <td>N</td>\n",
       "    </tr>\n",
       "    <tr>\n",
       "      <th>no_of_employees</th>\n",
       "      <td>14513</td>\n",
       "      <td>2412</td>\n",
       "      <td>44444</td>\n",
       "      <td>98</td>\n",
       "      <td>1082</td>\n",
       "    </tr>\n",
       "    <tr>\n",
       "      <th>yr_of_estab</th>\n",
       "      <td>2007</td>\n",
       "      <td>2002</td>\n",
       "      <td>2008</td>\n",
       "      <td>1897</td>\n",
       "      <td>2005</td>\n",
       "    </tr>\n",
       "    <tr>\n",
       "      <th>region_of_employment</th>\n",
       "      <td>West</td>\n",
       "      <td>Northeast</td>\n",
       "      <td>West</td>\n",
       "      <td>West</td>\n",
       "      <td>South</td>\n",
       "    </tr>\n",
       "    <tr>\n",
       "      <th>prevailing_wage</th>\n",
       "      <td>592.2029</td>\n",
       "      <td>83425.65</td>\n",
       "      <td>122996.86</td>\n",
       "      <td>83434.03</td>\n",
       "      <td>149907.39</td>\n",
       "    </tr>\n",
       "    <tr>\n",
       "      <th>unit_of_wage</th>\n",
       "      <td>Hour</td>\n",
       "      <td>Year</td>\n",
       "      <td>Year</td>\n",
       "      <td>Year</td>\n",
       "      <td>Year</td>\n",
       "    </tr>\n",
       "    <tr>\n",
       "      <th>full_time_position</th>\n",
       "      <td>Y</td>\n",
       "      <td>Y</td>\n",
       "      <td>Y</td>\n",
       "      <td>Y</td>\n",
       "      <td>Y</td>\n",
       "    </tr>\n",
       "    <tr>\n",
       "      <th>case_status</th>\n",
       "      <td>Denied</td>\n",
       "      <td>Certified</td>\n",
       "      <td>Denied</td>\n",
       "      <td>Denied</td>\n",
       "      <td>Certified</td>\n",
       "    </tr>\n",
       "  </tbody>\n",
       "</table>\n",
       "</div>"
      ],
      "text/plain": [
       "                                 0          1           2           3  \\\n",
       "case_id                     EZYV01     EZYV02      EZYV03      EZYV04   \n",
       "continent                     Asia       Asia        Asia        Asia   \n",
       "education_of_employee  High School   Master's  Bachelor's  Bachelor's   \n",
       "has_job_experience               N          Y           N           N   \n",
       "requires_job_training            N          N           Y           N   \n",
       "no_of_employees              14513       2412       44444          98   \n",
       "yr_of_estab                   2007       2002        2008        1897   \n",
       "region_of_employment          West  Northeast        West        West   \n",
       "prevailing_wage           592.2029   83425.65   122996.86    83434.03   \n",
       "unit_of_wage                  Hour       Year        Year        Year   \n",
       "full_time_position               Y          Y           Y           Y   \n",
       "case_status                 Denied  Certified      Denied      Denied   \n",
       "\n",
       "                               4  \n",
       "case_id                   EZYV05  \n",
       "continent                 Africa  \n",
       "education_of_employee   Master's  \n",
       "has_job_experience             Y  \n",
       "requires_job_training          N  \n",
       "no_of_employees             1082  \n",
       "yr_of_estab                 2005  \n",
       "region_of_employment       South  \n",
       "prevailing_wage        149907.39  \n",
       "unit_of_wage                Year  \n",
       "full_time_position             Y  \n",
       "case_status            Certified  "
      ]
     },
     "execution_count": 3,
     "metadata": {},
     "output_type": "execute_result"
    }
   ],
   "source": [
    "df.head().T"
   ]
  },
  {
   "cell_type": "markdown",
   "id": "980fc8b2-f166-4866-a8af-d2f433836275",
   "metadata": {},
   "source": [
    "### Drop `case_id` column from the dataset"
   ]
  },
  {
   "cell_type": "code",
   "execution_count": 4,
   "id": "a1d59307-4379-46c3-aaf1-c6637691c3e2",
   "metadata": {},
   "outputs": [
    {
     "data": {
      "text/plain": [
       "(25480, 11)"
      ]
     },
     "execution_count": 4,
     "metadata": {},
     "output_type": "execute_result"
    }
   ],
   "source": [
    "# Remove the column\n",
    "del df['case_id']\n",
    "df.shape"
   ]
  },
  {
   "cell_type": "markdown",
   "id": "7ed37053-1f09-4687-9008-2888ba063006",
   "metadata": {},
   "source": [
    "### Encode target variable for classification"
   ]
  },
  {
   "cell_type": "code",
   "execution_count": 5,
   "id": "5f47d18b-1ea6-4bf0-a1bb-eacde4a89853",
   "metadata": {},
   "outputs": [
    {
     "data": {
      "text/plain": [
       "0       Denied\n",
       "1    Certified\n",
       "2       Denied\n",
       "3       Denied\n",
       "4    Certified\n",
       "Name: case_status, dtype: object"
      ]
     },
     "execution_count": 5,
     "metadata": {},
     "output_type": "execute_result"
    }
   ],
   "source": [
    "df.case_status.head()"
   ]
  },
  {
   "cell_type": "code",
   "execution_count": 6,
   "id": "c0ae891d-a350-401a-9068-70201fbe0ea7",
   "metadata": {},
   "outputs": [
    {
     "data": {
      "text/plain": [
       "0    0\n",
       "1    1\n",
       "2    0\n",
       "3    0\n",
       "4    1\n",
       "Name: case_status, dtype: int64"
      ]
     },
     "execution_count": 6,
     "metadata": {},
     "output_type": "execute_result"
    }
   ],
   "source": [
    "# Replace Certified/Denied with a number; 1 (Cerified) or 0 (Denied)\n",
    "df.case_status = (df.case_status == 'Certified').astype(int)\n",
    "df.case_status[:5]"
   ]
  },
  {
   "cell_type": "markdown",
   "id": "0560e631-cd95-4823-aa58-25aa180e19c3",
   "metadata": {},
   "source": [
    "### Set up the validation framework\n",
    "\n",
    "#### Prepare the $X$ feature matrix and the $y$ target variable"
   ]
  },
  {
   "cell_type": "code",
   "execution_count": 7,
   "id": "1566299c-c27c-40de-9f49-2c117de3d2aa",
   "metadata": {},
   "outputs": [],
   "source": [
    "from sklearn.model_selection import train_test_split"
   ]
  },
  {
   "cell_type": "code",
   "execution_count": 8,
   "id": "803bf0ea-8a72-4289-ad44-2d411c3bb529",
   "metadata": {},
   "outputs": [],
   "source": [
    "# Perform the train/validation/test split with Scikit-Learn\n",
    "df_full_train, df_test = train_test_split(df, test_size=0.2, random_state=42)\n",
    "df_train, df_val = train_test_split(df_full_train, test_size=0.25, random_state=42)\n",
    "\n",
    "df_train = df_train.reset_index(drop=True)\n",
    "df_val = df_val.reset_index(drop=True)\n",
    "df_test = df_test.reset_index(drop=True)\n",
    "\n",
    "y_train = df_train.case_status.values\n",
    "y_val = df_val.case_status.values\n",
    "y_test = df_test.case_status.values\n",
    "\n",
    "del df_train['case_status']\n",
    "del df_val['case_status']\n",
    "del df_test['case_status']"
   ]
  },
  {
   "cell_type": "code",
   "execution_count": 9,
   "id": "b7c6314c-b42b-47e2-8a26-9104a5d20f13",
   "metadata": {},
   "outputs": [
    {
     "data": {
      "text/plain": [
       "((15288, 10), (5096, 10), (5096, 10))"
      ]
     },
     "execution_count": 9,
     "metadata": {},
     "output_type": "execute_result"
    }
   ],
   "source": [
    "df_train.shape, df_val.shape, df_test.shape"
   ]
  },
  {
   "cell_type": "code",
   "execution_count": 10,
   "id": "356fa1fb-ce44-49c3-8f3e-cd33e24804c5",
   "metadata": {},
   "outputs": [
    {
     "data": {
      "text/html": [
       "<div>\n",
       "<style scoped>\n",
       "    .dataframe tbody tr th:only-of-type {\n",
       "        vertical-align: middle;\n",
       "    }\n",
       "\n",
       "    .dataframe tbody tr th {\n",
       "        vertical-align: top;\n",
       "    }\n",
       "\n",
       "    .dataframe thead th {\n",
       "        text-align: right;\n",
       "    }\n",
       "</style>\n",
       "<table border=\"1\" class=\"dataframe\">\n",
       "  <thead>\n",
       "    <tr style=\"text-align: right;\">\n",
       "      <th></th>\n",
       "      <th>0</th>\n",
       "      <th>1</th>\n",
       "      <th>2</th>\n",
       "      <th>3</th>\n",
       "      <th>4</th>\n",
       "    </tr>\n",
       "  </thead>\n",
       "  <tbody>\n",
       "    <tr>\n",
       "      <th>continent</th>\n",
       "      <td>Asia</td>\n",
       "      <td>North America</td>\n",
       "      <td>Asia</td>\n",
       "      <td>Asia</td>\n",
       "      <td>Europe</td>\n",
       "    </tr>\n",
       "    <tr>\n",
       "      <th>education_of_employee</th>\n",
       "      <td>High School</td>\n",
       "      <td>Bachelor's</td>\n",
       "      <td>Bachelor's</td>\n",
       "      <td>Bachelor's</td>\n",
       "      <td>Doctorate</td>\n",
       "    </tr>\n",
       "    <tr>\n",
       "      <th>has_job_experience</th>\n",
       "      <td>N</td>\n",
       "      <td>N</td>\n",
       "      <td>Y</td>\n",
       "      <td>N</td>\n",
       "      <td>N</td>\n",
       "    </tr>\n",
       "    <tr>\n",
       "      <th>requires_job_training</th>\n",
       "      <td>N</td>\n",
       "      <td>N</td>\n",
       "      <td>N</td>\n",
       "      <td>N</td>\n",
       "      <td>Y</td>\n",
       "    </tr>\n",
       "    <tr>\n",
       "      <th>no_of_employees</th>\n",
       "      <td>1147</td>\n",
       "      <td>1446</td>\n",
       "      <td>3645</td>\n",
       "      <td>845</td>\n",
       "      <td>4020</td>\n",
       "    </tr>\n",
       "    <tr>\n",
       "      <th>yr_of_estab</th>\n",
       "      <td>1995</td>\n",
       "      <td>2002</td>\n",
       "      <td>2014</td>\n",
       "      <td>1946</td>\n",
       "      <td>1892</td>\n",
       "    </tr>\n",
       "    <tr>\n",
       "      <th>region_of_employment</th>\n",
       "      <td>Island</td>\n",
       "      <td>Northeast</td>\n",
       "      <td>South</td>\n",
       "      <td>South</td>\n",
       "      <td>South</td>\n",
       "    </tr>\n",
       "    <tr>\n",
       "      <th>prevailing_wage</th>\n",
       "      <td>55253.09</td>\n",
       "      <td>85496.8</td>\n",
       "      <td>65132.85</td>\n",
       "      <td>62528.22</td>\n",
       "      <td>64325.43</td>\n",
       "    </tr>\n",
       "    <tr>\n",
       "      <th>unit_of_wage</th>\n",
       "      <td>Year</td>\n",
       "      <td>Year</td>\n",
       "      <td>Year</td>\n",
       "      <td>Year</td>\n",
       "      <td>Year</td>\n",
       "    </tr>\n",
       "    <tr>\n",
       "      <th>full_time_position</th>\n",
       "      <td>Y</td>\n",
       "      <td>Y</td>\n",
       "      <td>Y</td>\n",
       "      <td>Y</td>\n",
       "      <td>Y</td>\n",
       "    </tr>\n",
       "  </tbody>\n",
       "</table>\n",
       "</div>"
      ],
      "text/plain": [
       "                                 0              1           2           3  \\\n",
       "continent                     Asia  North America        Asia        Asia   \n",
       "education_of_employee  High School     Bachelor's  Bachelor's  Bachelor's   \n",
       "has_job_experience               N              N           Y           N   \n",
       "requires_job_training            N              N           N           N   \n",
       "no_of_employees               1147           1446        3645         845   \n",
       "yr_of_estab                   1995           2002        2014        1946   \n",
       "region_of_employment        Island      Northeast       South       South   \n",
       "prevailing_wage           55253.09        85496.8    65132.85    62528.22   \n",
       "unit_of_wage                  Year           Year        Year        Year   \n",
       "full_time_position               Y              Y           Y           Y   \n",
       "\n",
       "                               4  \n",
       "continent                 Europe  \n",
       "education_of_employee  Doctorate  \n",
       "has_job_experience             N  \n",
       "requires_job_training          Y  \n",
       "no_of_employees             4020  \n",
       "yr_of_estab                 1892  \n",
       "region_of_employment       South  \n",
       "prevailing_wage         64325.43  \n",
       "unit_of_wage                Year  \n",
       "full_time_position             Y  "
      ]
     },
     "execution_count": 10,
     "metadata": {},
     "output_type": "execute_result"
    }
   ],
   "source": [
    "df_train.head().T"
   ]
  },
  {
   "cell_type": "code",
   "execution_count": 11,
   "id": "e6a4e4e7-e7f0-4561-bce6-9ed2d326a9ef",
   "metadata": {},
   "outputs": [
    {
     "data": {
      "text/plain": [
       "array([0, 0, 1, 1, 1])"
      ]
     },
     "execution_count": 11,
     "metadata": {},
     "output_type": "execute_result"
    }
   ],
   "source": [
    "y_train[:5]"
   ]
  },
  {
   "cell_type": "code",
   "execution_count": 12,
   "id": "aae62249-2f82-4952-b8e2-288e920d7aae",
   "metadata": {},
   "outputs": [],
   "source": [
    "numerical = df_train.select_dtypes(exclude=\"object\").columns\n",
    "categorical = df_train.select_dtypes(include=\"object\").columns"
   ]
  },
  {
   "cell_type": "code",
   "execution_count": 13,
   "id": "bad65684-ec59-4498-814f-92ac0bea9b76",
   "metadata": {},
   "outputs": [
    {
     "data": {
      "text/plain": [
       "Index(['no_of_employees', 'yr_of_estab', 'prevailing_wage'], dtype='object')"
      ]
     },
     "execution_count": 13,
     "metadata": {},
     "output_type": "execute_result"
    }
   ],
   "source": [
    "numerical"
   ]
  },
  {
   "cell_type": "code",
   "execution_count": 14,
   "id": "0c05bd00-13a8-4a1d-8b86-d3fb6a6a356f",
   "metadata": {},
   "outputs": [
    {
     "data": {
      "text/plain": [
       "Index(['continent', 'education_of_employee', 'has_job_experience',\n",
       "       'requires_job_training', 'region_of_employment', 'unit_of_wage',\n",
       "       'full_time_position'],\n",
       "      dtype='object')"
      ]
     },
     "execution_count": 14,
     "metadata": {},
     "output_type": "execute_result"
    }
   ],
   "source": [
    "categorical"
   ]
  },
  {
   "cell_type": "markdown",
   "id": "efd30ea1-dee1-4a19-b8d2-a9a5e60311d7",
   "metadata": {},
   "source": [
    "### Feature Importance Analysis\n",
    "\n",
    "This step aims to determine the most influential factors in predicting the visa application outcome."
   ]
  },
  {
   "cell_type": "markdown",
   "id": "5f190e5e-02c5-412c-8c18-84e8db08e131",
   "metadata": {},
   "source": [
    "#### Calculate Certify Rate and Risk Ratio\n",
    "These metrics help assess the association between categorical features and the target variable:\n",
    "- **Certify Rate:** \n",
    "  * Calculated as the proportion of certified cases within a specific category of a feature. \n",
    "  * A higher certify rate (diff $> 0$) within a category suggests a greater likelihood of certification for that category.\n",
    "  * The difference between a category's certify rate and the overall certification rate provides an indication of the category's association with the target variable. \n",
    "  * Larger differences generally signify stronger associations.\n",
    "- **Risk Ratio:** \n",
    "  * Calculated as the ratio of the probability of certification within a specific category to the overall probability of certification.\n",
    "  * A risk ratio greater than 1 indicates that the category is more likely to be certified compared to the overall average. \n",
    "  * A risk ratio less than 1 indicates a lower likelihood of certification for that category. \n",
    "  * Risk ratios provide a relative measure of the association between a category and the target variable."
   ]
  },
  {
   "cell_type": "code",
   "execution_count": 15,
   "id": "03953b78-bd2d-4a6f-941b-8d617b1e6340",
   "metadata": {},
   "outputs": [
    {
     "data": {
      "text/plain": [
       "np.float64(0.67)"
      ]
     },
     "execution_count": 15,
     "metadata": {},
     "output_type": "execute_result"
    }
   ],
   "source": [
    "# Calculate the certify rate of the entire full train dataset\n",
    "global_certify_rate = df_full_train.case_status.mean()\n",
    "round(global_certify_rate, 2)"
   ]
  },
  {
   "cell_type": "code",
   "execution_count": 16,
   "id": "5a31a3e3-93df-4ee8-8b6f-02b2a90c9c97",
   "metadata": {},
   "outputs": [],
   "source": [
    "from IPython.display import display"
   ]
  },
  {
   "cell_type": "code",
   "execution_count": 17,
   "id": "712aabed-17d3-40cc-871b-59df830151c9",
   "metadata": {},
   "outputs": [
    {
     "name": "stdout",
     "output_type": "stream",
     "text": [
      "continent\n"
     ]
    },
    {
     "data": {
      "text/html": [
       "<div>\n",
       "<style scoped>\n",
       "    .dataframe tbody tr th:only-of-type {\n",
       "        vertical-align: middle;\n",
       "    }\n",
       "\n",
       "    .dataframe tbody tr th {\n",
       "        vertical-align: top;\n",
       "    }\n",
       "\n",
       "    .dataframe thead th {\n",
       "        text-align: right;\n",
       "    }\n",
       "</style>\n",
       "<table border=\"1\" class=\"dataframe\">\n",
       "  <thead>\n",
       "    <tr style=\"text-align: right;\">\n",
       "      <th></th>\n",
       "      <th>mean</th>\n",
       "      <th>count</th>\n",
       "      <th>diff</th>\n",
       "      <th>risk</th>\n",
       "    </tr>\n",
       "    <tr>\n",
       "      <th>continent</th>\n",
       "      <th></th>\n",
       "      <th></th>\n",
       "      <th></th>\n",
       "      <th></th>\n",
       "    </tr>\n",
       "  </thead>\n",
       "  <tbody>\n",
       "    <tr>\n",
       "      <th>Africa</th>\n",
       "      <td>0.715262</td>\n",
       "      <td>439</td>\n",
       "      <td>0.047238</td>\n",
       "      <td>1.070713</td>\n",
       "    </tr>\n",
       "    <tr>\n",
       "      <th>Asia</th>\n",
       "      <td>0.651711</td>\n",
       "      <td>13440</td>\n",
       "      <td>-0.016313</td>\n",
       "      <td>0.975581</td>\n",
       "    </tr>\n",
       "    <tr>\n",
       "      <th>Europe</th>\n",
       "      <td>0.793698</td>\n",
       "      <td>3015</td>\n",
       "      <td>0.125674</td>\n",
       "      <td>1.188128</td>\n",
       "    </tr>\n",
       "    <tr>\n",
       "      <th>North America</th>\n",
       "      <td>0.624811</td>\n",
       "      <td>2652</td>\n",
       "      <td>-0.043212</td>\n",
       "      <td>0.935313</td>\n",
       "    </tr>\n",
       "    <tr>\n",
       "      <th>Oceania</th>\n",
       "      <td>0.651613</td>\n",
       "      <td>155</td>\n",
       "      <td>-0.016411</td>\n",
       "      <td>0.975433</td>\n",
       "    </tr>\n",
       "    <tr>\n",
       "      <th>South America</th>\n",
       "      <td>0.575403</td>\n",
       "      <td>683</td>\n",
       "      <td>-0.092621</td>\n",
       "      <td>0.861350</td>\n",
       "    </tr>\n",
       "  </tbody>\n",
       "</table>\n",
       "</div>"
      ],
      "text/plain": [
       "                   mean  count      diff      risk\n",
       "continent                                         \n",
       "Africa         0.715262    439  0.047238  1.070713\n",
       "Asia           0.651711  13440 -0.016313  0.975581\n",
       "Europe         0.793698   3015  0.125674  1.188128\n",
       "North America  0.624811   2652 -0.043212  0.935313\n",
       "Oceania        0.651613    155 -0.016411  0.975433\n",
       "South America  0.575403    683 -0.092621  0.861350"
      ]
     },
     "metadata": {},
     "output_type": "display_data"
    },
    {
     "name": "stdout",
     "output_type": "stream",
     "text": [
      "\n",
      "\n",
      "education_of_employee\n"
     ]
    },
    {
     "data": {
      "text/html": [
       "<div>\n",
       "<style scoped>\n",
       "    .dataframe tbody tr th:only-of-type {\n",
       "        vertical-align: middle;\n",
       "    }\n",
       "\n",
       "    .dataframe tbody tr th {\n",
       "        vertical-align: top;\n",
       "    }\n",
       "\n",
       "    .dataframe thead th {\n",
       "        text-align: right;\n",
       "    }\n",
       "</style>\n",
       "<table border=\"1\" class=\"dataframe\">\n",
       "  <thead>\n",
       "    <tr style=\"text-align: right;\">\n",
       "      <th></th>\n",
       "      <th>mean</th>\n",
       "      <th>count</th>\n",
       "      <th>diff</th>\n",
       "      <th>risk</th>\n",
       "    </tr>\n",
       "    <tr>\n",
       "      <th>education_of_employee</th>\n",
       "      <th></th>\n",
       "      <th></th>\n",
       "      <th></th>\n",
       "      <th></th>\n",
       "    </tr>\n",
       "  </thead>\n",
       "  <tbody>\n",
       "    <tr>\n",
       "      <th>Bachelor's</th>\n",
       "      <td>0.622198</td>\n",
       "      <td>8208</td>\n",
       "      <td>-0.045826</td>\n",
       "      <td>0.931401</td>\n",
       "    </tr>\n",
       "    <tr>\n",
       "      <th>Doctorate</th>\n",
       "      <td>0.869175</td>\n",
       "      <td>1781</td>\n",
       "      <td>0.201151</td>\n",
       "      <td>1.301113</td>\n",
       "    </tr>\n",
       "    <tr>\n",
       "      <th>High School</th>\n",
       "      <td>0.348540</td>\n",
       "      <td>2740</td>\n",
       "      <td>-0.319484</td>\n",
       "      <td>0.521748</td>\n",
       "    </tr>\n",
       "    <tr>\n",
       "      <th>Master's</th>\n",
       "      <td>0.784716</td>\n",
       "      <td>7655</td>\n",
       "      <td>0.116692</td>\n",
       "      <td>1.174682</td>\n",
       "    </tr>\n",
       "  </tbody>\n",
       "</table>\n",
       "</div>"
      ],
      "text/plain": [
       "                           mean  count      diff      risk\n",
       "education_of_employee                                     \n",
       "Bachelor's             0.622198   8208 -0.045826  0.931401\n",
       "Doctorate              0.869175   1781  0.201151  1.301113\n",
       "High School            0.348540   2740 -0.319484  0.521748\n",
       "Master's               0.784716   7655  0.116692  1.174682"
      ]
     },
     "metadata": {},
     "output_type": "display_data"
    },
    {
     "name": "stdout",
     "output_type": "stream",
     "text": [
      "\n",
      "\n",
      "has_job_experience\n"
     ]
    },
    {
     "data": {
      "text/html": [
       "<div>\n",
       "<style scoped>\n",
       "    .dataframe tbody tr th:only-of-type {\n",
       "        vertical-align: middle;\n",
       "    }\n",
       "\n",
       "    .dataframe tbody tr th {\n",
       "        vertical-align: top;\n",
       "    }\n",
       "\n",
       "    .dataframe thead th {\n",
       "        text-align: right;\n",
       "    }\n",
       "</style>\n",
       "<table border=\"1\" class=\"dataframe\">\n",
       "  <thead>\n",
       "    <tr style=\"text-align: right;\">\n",
       "      <th></th>\n",
       "      <th>mean</th>\n",
       "      <th>count</th>\n",
       "      <th>diff</th>\n",
       "      <th>risk</th>\n",
       "    </tr>\n",
       "    <tr>\n",
       "      <th>has_job_experience</th>\n",
       "      <th></th>\n",
       "      <th></th>\n",
       "      <th></th>\n",
       "      <th></th>\n",
       "    </tr>\n",
       "  </thead>\n",
       "  <tbody>\n",
       "    <tr>\n",
       "      <th>N</th>\n",
       "      <td>0.562683</td>\n",
       "      <td>8543</td>\n",
       "      <td>-0.105341</td>\n",
       "      <td>0.842309</td>\n",
       "    </tr>\n",
       "    <tr>\n",
       "      <th>Y</th>\n",
       "      <td>0.744025</td>\n",
       "      <td>11841</td>\n",
       "      <td>0.076001</td>\n",
       "      <td>1.113770</td>\n",
       "    </tr>\n",
       "  </tbody>\n",
       "</table>\n",
       "</div>"
      ],
      "text/plain": [
       "                        mean  count      diff      risk\n",
       "has_job_experience                                     \n",
       "N                   0.562683   8543 -0.105341  0.842309\n",
       "Y                   0.744025  11841  0.076001  1.113770"
      ]
     },
     "metadata": {},
     "output_type": "display_data"
    },
    {
     "name": "stdout",
     "output_type": "stream",
     "text": [
      "\n",
      "\n",
      "requires_job_training\n"
     ]
    },
    {
     "data": {
      "text/html": [
       "<div>\n",
       "<style scoped>\n",
       "    .dataframe tbody tr th:only-of-type {\n",
       "        vertical-align: middle;\n",
       "    }\n",
       "\n",
       "    .dataframe tbody tr th {\n",
       "        vertical-align: top;\n",
       "    }\n",
       "\n",
       "    .dataframe thead th {\n",
       "        text-align: right;\n",
       "    }\n",
       "</style>\n",
       "<table border=\"1\" class=\"dataframe\">\n",
       "  <thead>\n",
       "    <tr style=\"text-align: right;\">\n",
       "      <th></th>\n",
       "      <th>mean</th>\n",
       "      <th>count</th>\n",
       "      <th>diff</th>\n",
       "      <th>risk</th>\n",
       "    </tr>\n",
       "    <tr>\n",
       "      <th>requires_job_training</th>\n",
       "      <th></th>\n",
       "      <th></th>\n",
       "      <th></th>\n",
       "      <th></th>\n",
       "    </tr>\n",
       "  </thead>\n",
       "  <tbody>\n",
       "    <tr>\n",
       "      <th>N</th>\n",
       "      <td>0.667538</td>\n",
       "      <td>17987</td>\n",
       "      <td>-0.000486</td>\n",
       "      <td>0.999272</td>\n",
       "    </tr>\n",
       "    <tr>\n",
       "      <th>Y</th>\n",
       "      <td>0.671673</td>\n",
       "      <td>2397</td>\n",
       "      <td>0.003649</td>\n",
       "      <td>1.005462</td>\n",
       "    </tr>\n",
       "  </tbody>\n",
       "</table>\n",
       "</div>"
      ],
      "text/plain": [
       "                           mean  count      diff      risk\n",
       "requires_job_training                                     \n",
       "N                      0.667538  17987 -0.000486  0.999272\n",
       "Y                      0.671673   2397  0.003649  1.005462"
      ]
     },
     "metadata": {},
     "output_type": "display_data"
    },
    {
     "name": "stdout",
     "output_type": "stream",
     "text": [
      "\n",
      "\n",
      "region_of_employment\n"
     ]
    },
    {
     "data": {
      "text/html": [
       "<div>\n",
       "<style scoped>\n",
       "    .dataframe tbody tr th:only-of-type {\n",
       "        vertical-align: middle;\n",
       "    }\n",
       "\n",
       "    .dataframe tbody tr th {\n",
       "        vertical-align: top;\n",
       "    }\n",
       "\n",
       "    .dataframe thead th {\n",
       "        text-align: right;\n",
       "    }\n",
       "</style>\n",
       "<table border=\"1\" class=\"dataframe\">\n",
       "  <thead>\n",
       "    <tr style=\"text-align: right;\">\n",
       "      <th></th>\n",
       "      <th>mean</th>\n",
       "      <th>count</th>\n",
       "      <th>diff</th>\n",
       "      <th>risk</th>\n",
       "    </tr>\n",
       "    <tr>\n",
       "      <th>region_of_employment</th>\n",
       "      <th></th>\n",
       "      <th></th>\n",
       "      <th></th>\n",
       "      <th></th>\n",
       "    </tr>\n",
       "  </thead>\n",
       "  <tbody>\n",
       "    <tr>\n",
       "      <th>Island</th>\n",
       "      <td>0.598726</td>\n",
       "      <td>314</td>\n",
       "      <td>-0.069298</td>\n",
       "      <td>0.896264</td>\n",
       "    </tr>\n",
       "    <tr>\n",
       "      <th>Midwest</th>\n",
       "      <td>0.756133</td>\n",
       "      <td>3424</td>\n",
       "      <td>0.088109</td>\n",
       "      <td>1.131895</td>\n",
       "    </tr>\n",
       "    <tr>\n",
       "      <th>Northeast</th>\n",
       "      <td>0.631570</td>\n",
       "      <td>5746</td>\n",
       "      <td>-0.036454</td>\n",
       "      <td>0.945430</td>\n",
       "    </tr>\n",
       "    <tr>\n",
       "      <th>South</th>\n",
       "      <td>0.702063</td>\n",
       "      <td>5622</td>\n",
       "      <td>0.034039</td>\n",
       "      <td>1.050955</td>\n",
       "    </tr>\n",
       "    <tr>\n",
       "      <th>West</th>\n",
       "      <td>0.618416</td>\n",
       "      <td>5278</td>\n",
       "      <td>-0.049608</td>\n",
       "      <td>0.925739</td>\n",
       "    </tr>\n",
       "  </tbody>\n",
       "</table>\n",
       "</div>"
      ],
      "text/plain": [
       "                          mean  count      diff      risk\n",
       "region_of_employment                                     \n",
       "Island                0.598726    314 -0.069298  0.896264\n",
       "Midwest               0.756133   3424  0.088109  1.131895\n",
       "Northeast             0.631570   5746 -0.036454  0.945430\n",
       "South                 0.702063   5622  0.034039  1.050955\n",
       "West                  0.618416   5278 -0.049608  0.925739"
      ]
     },
     "metadata": {},
     "output_type": "display_data"
    },
    {
     "name": "stdout",
     "output_type": "stream",
     "text": [
      "\n",
      "\n",
      "unit_of_wage\n"
     ]
    },
    {
     "data": {
      "text/html": [
       "<div>\n",
       "<style scoped>\n",
       "    .dataframe tbody tr th:only-of-type {\n",
       "        vertical-align: middle;\n",
       "    }\n",
       "\n",
       "    .dataframe tbody tr th {\n",
       "        vertical-align: top;\n",
       "    }\n",
       "\n",
       "    .dataframe thead th {\n",
       "        text-align: right;\n",
       "    }\n",
       "</style>\n",
       "<table border=\"1\" class=\"dataframe\">\n",
       "  <thead>\n",
       "    <tr style=\"text-align: right;\">\n",
       "      <th></th>\n",
       "      <th>mean</th>\n",
       "      <th>count</th>\n",
       "      <th>diff</th>\n",
       "      <th>risk</th>\n",
       "    </tr>\n",
       "    <tr>\n",
       "      <th>unit_of_wage</th>\n",
       "      <th></th>\n",
       "      <th></th>\n",
       "      <th></th>\n",
       "      <th></th>\n",
       "    </tr>\n",
       "  </thead>\n",
       "  <tbody>\n",
       "    <tr>\n",
       "      <th>Hour</th>\n",
       "      <td>0.344484</td>\n",
       "      <td>1704</td>\n",
       "      <td>-0.323540</td>\n",
       "      <td>0.515675</td>\n",
       "    </tr>\n",
       "    <tr>\n",
       "      <th>Month</th>\n",
       "      <td>0.625000</td>\n",
       "      <td>72</td>\n",
       "      <td>-0.043024</td>\n",
       "      <td>0.935595</td>\n",
       "    </tr>\n",
       "    <tr>\n",
       "      <th>Week</th>\n",
       "      <td>0.621622</td>\n",
       "      <td>222</td>\n",
       "      <td>-0.046402</td>\n",
       "      <td>0.930538</td>\n",
       "    </tr>\n",
       "    <tr>\n",
       "      <th>Year</th>\n",
       "      <td>0.698738</td>\n",
       "      <td>18386</td>\n",
       "      <td>0.030714</td>\n",
       "      <td>1.045978</td>\n",
       "    </tr>\n",
       "  </tbody>\n",
       "</table>\n",
       "</div>"
      ],
      "text/plain": [
       "                  mean  count      diff      risk\n",
       "unit_of_wage                                     \n",
       "Hour          0.344484   1704 -0.323540  0.515675\n",
       "Month         0.625000     72 -0.043024  0.935595\n",
       "Week          0.621622    222 -0.046402  0.930538\n",
       "Year          0.698738  18386  0.030714  1.045978"
      ]
     },
     "metadata": {},
     "output_type": "display_data"
    },
    {
     "name": "stdout",
     "output_type": "stream",
     "text": [
      "\n",
      "\n",
      "full_time_position\n"
     ]
    },
    {
     "data": {
      "text/html": [
       "<div>\n",
       "<style scoped>\n",
       "    .dataframe tbody tr th:only-of-type {\n",
       "        vertical-align: middle;\n",
       "    }\n",
       "\n",
       "    .dataframe tbody tr th {\n",
       "        vertical-align: top;\n",
       "    }\n",
       "\n",
       "    .dataframe thead th {\n",
       "        text-align: right;\n",
       "    }\n",
       "</style>\n",
       "<table border=\"1\" class=\"dataframe\">\n",
       "  <thead>\n",
       "    <tr style=\"text-align: right;\">\n",
       "      <th></th>\n",
       "      <th>mean</th>\n",
       "      <th>count</th>\n",
       "      <th>diff</th>\n",
       "      <th>risk</th>\n",
       "    </tr>\n",
       "    <tr>\n",
       "      <th>full_time_position</th>\n",
       "      <th></th>\n",
       "      <th></th>\n",
       "      <th></th>\n",
       "      <th></th>\n",
       "    </tr>\n",
       "  </thead>\n",
       "  <tbody>\n",
       "    <tr>\n",
       "      <th>N</th>\n",
       "      <td>0.686429</td>\n",
       "      <td>2159</td>\n",
       "      <td>0.018405</td>\n",
       "      <td>1.027551</td>\n",
       "    </tr>\n",
       "    <tr>\n",
       "      <th>Y</th>\n",
       "      <td>0.665844</td>\n",
       "      <td>18225</td>\n",
       "      <td>-0.002180</td>\n",
       "      <td>0.996736</td>\n",
       "    </tr>\n",
       "  </tbody>\n",
       "</table>\n",
       "</div>"
      ],
      "text/plain": [
       "                        mean  count      diff      risk\n",
       "full_time_position                                     \n",
       "N                   0.686429   2159  0.018405  1.027551\n",
       "Y                   0.665844  18225 -0.002180  0.996736"
      ]
     },
     "metadata": {},
     "output_type": "display_data"
    },
    {
     "name": "stdout",
     "output_type": "stream",
     "text": [
      "\n",
      "\n"
     ]
    }
   ],
   "source": [
    "# Calculate the difference and risk for all categorical variables\n",
    "for c in categorical:\n",
    "    print(c)\n",
    "    df_group = df_full_train.groupby(c).case_status.agg(['mean', 'count'])\n",
    "    df_group['diff'] = df_group['mean'] - global_certify_rate\n",
    "    df_group['risk'] = df_group['mean'] / global_certify_rate\n",
    "    display(df_group)\n",
    "    print()\n",
    "    print()"
   ]
  },
  {
   "cell_type": "markdown",
   "id": "91892eb4-f51c-44fa-a2a5-8710ce68428b",
   "metadata": {},
   "source": [
    "#### Calculate Mutual Information \n",
    "Mutual Information (MI) measures the amount of information one variable provides about another. \n",
    "\n",
    "We will rank the features based on their MI scores. The feature with the highest MI score is considered the most important, followed by the feature with the second-highest score, and so on. "
   ]
  },
  {
   "cell_type": "code",
   "execution_count": 18,
   "id": "33639ccb-4fd9-495b-baa0-e01c181b027a",
   "metadata": {},
   "outputs": [],
   "source": [
    "from sklearn.metrics import mutual_info_score"
   ]
  },
  {
   "cell_type": "code",
   "execution_count": 19,
   "id": "8115c3d6-f7a8-4f2d-a18b-b0546c7524a2",
   "metadata": {},
   "outputs": [],
   "source": [
    "def mutual_info_certify_score(series):\n",
    "    return mutual_info_score(series, df_full_train.case_status)"
   ]
  },
  {
   "cell_type": "code",
   "execution_count": 26,
   "id": "2c2aacb2-62a9-4c66-94f0-d20922e8bbd6",
   "metadata": {},
   "outputs": [
    {
     "data": {
      "text/plain": [
       "education_of_employee    0.052196\n",
       "unit_of_wage             0.020227\n",
       "has_job_experience       0.017954\n",
       "continent                0.007389\n",
       "region_of_employment     0.006231\n",
       "full_time_position       0.000091\n",
       "requires_job_training    0.000004\n",
       "dtype: float64"
      ]
     },
     "execution_count": 26,
     "metadata": {},
     "output_type": "execute_result"
    }
   ],
   "source": [
    "# Calculate mutual information scores of all categorical variables\n",
    "mi = df_full_train[categorical].apply(mutual_info_certify_score)\n",
    "# Sort the result such that the most important features come first\n",
    "mi.sort_values(ascending=False)"
   ]
  },
  {
   "cell_type": "markdown",
   "id": "05dbe558-bebd-4bae-9c81-defe8c960b90",
   "metadata": {},
   "source": [
    "**Top 5 Features:** \n",
    "* Based on Mutual Information (MI) scores, the top 5 features for inclusion in the model are:\n",
    "    1. `education_of_employee` (MI: 0.052196)\n",
    "    2. `unit_of_wage` (MI: 0.020227)\n",
    "    3. `has_job_experience` (MI: 0.017954)\n",
    "    4. `continent` (MI: 0.007389)\n",
    "    5. `region_of_employment` (MI: 0.006231)\n",
    "\n",
    "**Feature Exclusion:**\n",
    "* `full_time_position` has a very low MI score (0.000091), suggesting limited predictive power. Consider excluding it from the model.\n",
    "* The MI score for `requires_job_training` (0.000004) is extremely low, confirming our earlier finding of no significant association with the target variable using the Chi-Square Test of Independence. This feature will be excluded from the model."
   ]
  },
  {
   "cell_type": "markdown",
   "id": "cede0a90-fb69-4607-8e43-6ff652cf9544",
   "metadata": {},
   "source": [
    "#### Calculate Correlation Coefficient\n",
    "\n",
    "The Pearson correlation coefficient measures the linear relationship between two continuous variables. It can be used to assess the strength and direction of the linear relationship between numerical features and the binary target variable."
   ]
  },
  {
   "cell_type": "code",
   "execution_count": 27,
   "id": "ce3a3b71-4e83-483b-98c1-0282fe09204e",
   "metadata": {},
   "outputs": [
    {
     "data": {
      "text/plain": [
       "no_of_employees    0.004810\n",
       "yr_of_estab        0.008096\n",
       "prevailing_wage    0.075117\n",
       "dtype: float64"
      ]
     },
     "execution_count": 27,
     "metadata": {},
     "output_type": "execute_result"
    }
   ],
   "source": [
    "df_full_train[numerical].corrwith(df_full_train.case_status)"
   ]
  },
  {
   "cell_type": "markdown",
   "id": "d5ae3a7e-3ba1-4e9b-abdb-4309772b3510",
   "metadata": {},
   "source": [
    "Based on the correlation coefficient score of 0.075117 for `prevailing_wage`, we can infer a weak positive correlation between prevailing wage and the likelihood of visa certification by the OFLC."
   ]
  },
  {
   "cell_type": "code",
   "execution_count": 28,
   "id": "b6cfd37e-98fe-46af-ad36-3c60f2e95b9e",
   "metadata": {},
   "outputs": [
    {
     "data": {
      "text/plain": [
       "prevailing_wage    0.075117\n",
       "yr_of_estab        0.008096\n",
       "no_of_employees    0.004810\n",
       "dtype: float64"
      ]
     },
     "execution_count": 28,
     "metadata": {},
     "output_type": "execute_result"
    }
   ],
   "source": [
    "# Rank the importance of each numerical features\n",
    "df_full_train[numerical].corrwith(df_full_train.case_status).abs().sort_values(ascending=False)"
   ]
  },
  {
   "cell_type": "markdown",
   "id": "47d22f1d-1e9b-4967-b46b-4acc8cecba37",
   "metadata": {},
   "source": [
    "This approach allows us to understand the relationship between numerical variables and the likelihood of visa application approval."
   ]
  },
  {
   "cell_type": "code",
   "execution_count": null,
   "id": "3447b696-697a-4a42-a8ab-c77e8171901c",
   "metadata": {},
   "outputs": [],
   "source": []
  },
  {
   "cell_type": "markdown",
   "id": "aa476034-e80d-4f84-8e63-447042e52606",
   "metadata": {},
   "source": [
    "### Feature Extraction"
   ]
  },
  {
   "cell_type": "markdown",
   "id": "a8acda19-c20c-427e-a32d-03168b674d32",
   "metadata": {},
   "source": [
    "#### Determine company age based on the current year and establishment year"
   ]
  },
  {
   "cell_type": "code",
   "execution_count": 31,
   "id": "66d738fb-6101-4765-962a-25010da13a39",
   "metadata": {},
   "outputs": [
    {
     "name": "stdout",
     "output_type": "stream",
     "text": [
      "Current Date: 2025-01-14\n",
      "Current Year: 2025\n"
     ]
    }
   ],
   "source": [
    "# Import date class from datetime module\n",
    "from datetime import date\n",
    " \n",
    "# Retrieve today's date\n",
    "current_date = date.today()\n",
    "print(f'Current Date: {current_date}')\n",
    "current_year = current_date.year\n",
    "print(f'Current Year: {current_year}')"
   ]
  },
  {
   "cell_type": "code",
   "execution_count": 32,
   "id": "913c7480-7c3a-4d23-8938-9d71f7163568",
   "metadata": {},
   "outputs": [],
   "source": [
    "# Add a new column for company age\n",
    "df_train['company_age'] = current_year - df_train['yr_of_estab']\n",
    "df_val['company_age'] = current_year - df_val['yr_of_estab']\n",
    "\n",
    "# Remove the year of establishment column\n",
    "del df_train['yr_of_estab']\n",
    "del df_val['yr_of_estab']"
   ]
  },
  {
   "cell_type": "code",
   "execution_count": 33,
   "id": "b6e2b483-3f72-4437-91f6-6157aac218f1",
   "metadata": {},
   "outputs": [
    {
     "data": {
      "text/html": [
       "<div>\n",
       "<style scoped>\n",
       "    .dataframe tbody tr th:only-of-type {\n",
       "        vertical-align: middle;\n",
       "    }\n",
       "\n",
       "    .dataframe tbody tr th {\n",
       "        vertical-align: top;\n",
       "    }\n",
       "\n",
       "    .dataframe thead th {\n",
       "        text-align: right;\n",
       "    }\n",
       "</style>\n",
       "<table border=\"1\" class=\"dataframe\">\n",
       "  <thead>\n",
       "    <tr style=\"text-align: right;\">\n",
       "      <th></th>\n",
       "      <th>0</th>\n",
       "      <th>1</th>\n",
       "      <th>2</th>\n",
       "      <th>3</th>\n",
       "      <th>4</th>\n",
       "    </tr>\n",
       "  </thead>\n",
       "  <tbody>\n",
       "    <tr>\n",
       "      <th>continent</th>\n",
       "      <td>Asia</td>\n",
       "      <td>North America</td>\n",
       "      <td>Asia</td>\n",
       "      <td>Asia</td>\n",
       "      <td>Europe</td>\n",
       "    </tr>\n",
       "    <tr>\n",
       "      <th>education_of_employee</th>\n",
       "      <td>High School</td>\n",
       "      <td>Bachelor's</td>\n",
       "      <td>Bachelor's</td>\n",
       "      <td>Bachelor's</td>\n",
       "      <td>Doctorate</td>\n",
       "    </tr>\n",
       "    <tr>\n",
       "      <th>has_job_experience</th>\n",
       "      <td>N</td>\n",
       "      <td>N</td>\n",
       "      <td>Y</td>\n",
       "      <td>N</td>\n",
       "      <td>N</td>\n",
       "    </tr>\n",
       "    <tr>\n",
       "      <th>requires_job_training</th>\n",
       "      <td>N</td>\n",
       "      <td>N</td>\n",
       "      <td>N</td>\n",
       "      <td>N</td>\n",
       "      <td>Y</td>\n",
       "    </tr>\n",
       "    <tr>\n",
       "      <th>no_of_employees</th>\n",
       "      <td>1147</td>\n",
       "      <td>1446</td>\n",
       "      <td>3645</td>\n",
       "      <td>845</td>\n",
       "      <td>4020</td>\n",
       "    </tr>\n",
       "    <tr>\n",
       "      <th>region_of_employment</th>\n",
       "      <td>Island</td>\n",
       "      <td>Northeast</td>\n",
       "      <td>South</td>\n",
       "      <td>South</td>\n",
       "      <td>South</td>\n",
       "    </tr>\n",
       "    <tr>\n",
       "      <th>prevailing_wage</th>\n",
       "      <td>55253.09</td>\n",
       "      <td>85496.8</td>\n",
       "      <td>65132.85</td>\n",
       "      <td>62528.22</td>\n",
       "      <td>64325.43</td>\n",
       "    </tr>\n",
       "    <tr>\n",
       "      <th>unit_of_wage</th>\n",
       "      <td>Year</td>\n",
       "      <td>Year</td>\n",
       "      <td>Year</td>\n",
       "      <td>Year</td>\n",
       "      <td>Year</td>\n",
       "    </tr>\n",
       "    <tr>\n",
       "      <th>full_time_position</th>\n",
       "      <td>Y</td>\n",
       "      <td>Y</td>\n",
       "      <td>Y</td>\n",
       "      <td>Y</td>\n",
       "      <td>Y</td>\n",
       "    </tr>\n",
       "    <tr>\n",
       "      <th>company_age</th>\n",
       "      <td>30</td>\n",
       "      <td>23</td>\n",
       "      <td>11</td>\n",
       "      <td>79</td>\n",
       "      <td>133</td>\n",
       "    </tr>\n",
       "  </tbody>\n",
       "</table>\n",
       "</div>"
      ],
      "text/plain": [
       "                                 0              1           2           3  \\\n",
       "continent                     Asia  North America        Asia        Asia   \n",
       "education_of_employee  High School     Bachelor's  Bachelor's  Bachelor's   \n",
       "has_job_experience               N              N           Y           N   \n",
       "requires_job_training            N              N           N           N   \n",
       "no_of_employees               1147           1446        3645         845   \n",
       "region_of_employment        Island      Northeast       South       South   \n",
       "prevailing_wage           55253.09        85496.8    65132.85    62528.22   \n",
       "unit_of_wage                  Year           Year        Year        Year   \n",
       "full_time_position               Y              Y           Y           Y   \n",
       "company_age                     30             23          11          79   \n",
       "\n",
       "                               4  \n",
       "continent                 Europe  \n",
       "education_of_employee  Doctorate  \n",
       "has_job_experience             N  \n",
       "requires_job_training          Y  \n",
       "no_of_employees             4020  \n",
       "region_of_employment       South  \n",
       "prevailing_wage         64325.43  \n",
       "unit_of_wage                Year  \n",
       "full_time_position             Y  \n",
       "company_age                  133  "
      ]
     },
     "execution_count": 33,
     "metadata": {},
     "output_type": "execute_result"
    }
   ],
   "source": [
    "df_train.head().T"
   ]
  },
  {
   "cell_type": "code",
   "execution_count": 34,
   "id": "1570a0ea-ea31-417a-9118-6d8648daf8f6",
   "metadata": {},
   "outputs": [],
   "source": [
    "numerical = df_train.select_dtypes(exclude=\"object\").columns\n",
    "categorical = df_train.select_dtypes(include=\"object\").columns"
   ]
  },
  {
   "cell_type": "markdown",
   "id": "2ba3e3f0-1d12-44c4-987e-9feebf4a706b",
   "metadata": {},
   "source": [
    "### Feature Transformation"
   ]
  },
  {
   "cell_type": "code",
   "execution_count": null,
   "id": "847f7afe-d6b2-4a6a-be34-0d813dd06736",
   "metadata": {},
   "outputs": [],
   "source": []
  },
  {
   "cell_type": "code",
   "execution_count": 35,
   "id": "cccf1fab-f335-4c57-9ca5-b595cb377892",
   "metadata": {},
   "outputs": [
    {
     "data": {
      "text/plain": [
       "Index(['no_of_employees', 'prevailing_wage', 'company_age'], dtype='object')"
      ]
     },
     "execution_count": 35,
     "metadata": {},
     "output_type": "execute_result"
    }
   ],
   "source": [
    "numerical"
   ]
  },
  {
   "cell_type": "code",
   "execution_count": 36,
   "id": "a5472659-cb94-40d2-838e-095c05d73a24",
   "metadata": {},
   "outputs": [
    {
     "data": {
      "image/png": "[encoded data removed]",
      "text/plain": [
       "<Figure size 1200x600 with 3 Axes>"
      ]
     },
     "metadata": {},
     "output_type": "display_data"
    }
   ],
   "source": [
    "# Plot distribution of numerical features before scaling\n",
    "plt.figure(figsize=(12, 6))\n",
    "\n",
    "colors = ['blueviolet', 'palevioletred', 'royalblue']\n",
    "\n",
    "for i, feature in enumerate(numerical):\n",
    "    plt.subplot(2, 2, i+1)\n",
    "    # Plot the histogram\n",
    "    sns.histplot(x=df_train[feature], color=colors[i])\n",
    "    plt.xlabel(feature)\n",
    "    plt.tight_layout()\n",
    "\n",
    "plt.show()"
   ]
  },
  {
   "cell_type": "code",
   "execution_count": 38,
   "id": "47b7d377-2431-46a7-ba1a-0f30714e73cc",
   "metadata": {},
   "outputs": [
    {
     "data": {
      "text/plain": [
       "no_of_employees    12.856499\n",
       "prevailing_wage     0.746797\n",
       "company_age         2.039508\n",
       "dtype: float64"
      ]
     },
     "execution_count": 38,
     "metadata": {},
     "output_type": "execute_result"
    }
   ],
   "source": [
    "# Check Skewness\n",
    "df_train[numerical].skew(axis=0)"
   ]
  },
  {
   "cell_type": "code",
   "execution_count": null,
   "id": "d88418e5-896f-4f5a-a095-c4518655c365",
   "metadata": {},
   "outputs": [],
   "source": []
  },
  {
   "cell_type": "code",
   "execution_count": null,
   "id": "eb963c7e-47f0-4b77-87d3-bcd14008967e",
   "metadata": {},
   "outputs": [],
   "source": []
  },
  {
   "cell_type": "markdown",
   "id": "27cde732-766d-4e5b-8986-2cba831376c0",
   "metadata": {},
   "source": [
    "#### Experiment with Yeo-Johnson transformation"
   ]
  },
  {
   "cell_type": "code",
   "execution_count": 39,
   "id": "052c52e6-302d-406d-9deb-a44a28915208",
   "metadata": {},
   "outputs": [],
   "source": [
    "from sklearn.preprocessing import PowerTransformer"
   ]
  },
  {
   "cell_type": "code",
   "execution_count": 40,
   "id": "429efc97-c7a3-4a51-bfb8-f0afca745c32",
   "metadata": {},
   "outputs": [],
   "source": [
    "transform_features = ['no_of_employees', 'company_age']\n",
    "\n",
    "pt = PowerTransformer(method='yeo-johnson')\n",
    "X_train_transformed = pt.fit_transform(df_train[transform_features])"
   ]
  },
  {
   "cell_type": "code",
   "execution_count": 41,
   "id": "7ef692ff-7925-4b63-a2a1-9b93928b5911",
   "metadata": {},
   "outputs": [],
   "source": [
    "df_transformed = pd.DataFrame(X_train_transformed, columns=transform_features)"
   ]
  },
  {
   "cell_type": "code",
   "execution_count": 42,
   "id": "8681acf1-7471-46be-b3dc-4271c3d10bfd",
   "metadata": {},
   "outputs": [
    {
     "data": {
      "image/png": "[encoded data removed]",
      "text/plain": [
       "<Figure size 1200x500 with 2 Axes>"
      ]
     },
     "metadata": {},
     "output_type": "display_data"
    }
   ],
   "source": [
    "# Plot distribution of numerical features after scaling\n",
    "plt.figure(figsize=(12, 5))\n",
    "\n",
    "colors = ['blueviolet', 'royalblue']\n",
    "\n",
    "for i, feature in enumerate(transform_features):\n",
    "    plt.subplot(1, 2, i+1)\n",
    "    # Plot the histogram\n",
    "    sns.histplot(x=df_transformed[feature], color=colors[i])\n",
    "    plt.xlabel(feature)\n",
    "    plt.tight_layout()\n",
    "\n",
    "plt.show()"
   ]
  },
  {
   "cell_type": "code",
   "execution_count": 43,
   "id": "a9089cef-80dd-47ec-96c5-739886b6bd20",
   "metadata": {},
   "outputs": [
    {
     "data": {
      "text/plain": [
       "no_of_employees    0.467091\n",
       "company_age        0.113265\n",
       "dtype: float64"
      ]
     },
     "execution_count": 43,
     "metadata": {},
     "output_type": "execute_result"
    }
   ],
   "source": [
    "# Check Skewness\n",
    "df_transformed.skew(axis=0)"
   ]
  },
  {
   "cell_type": "code",
   "execution_count": null,
   "id": "ab6e90e4-f6b0-4c48-bd81-e2c8c86d598f",
   "metadata": {},
   "outputs": [],
   "source": []
  },
  {
   "cell_type": "markdown",
   "id": "ab107d0f-4a39-44f6-a127-68c431b276fd",
   "metadata": {},
   "source": [
    "#### Perform Feature Encoding and Scaling"
   ]
  },
  {
   "cell_type": "code",
   "execution_count": 44,
   "id": "4e4e82eb-fb26-403c-979c-17716cb00033",
   "metadata": {},
   "outputs": [],
   "source": [
    "from sklearn.preprocessing import OneHotEncoder, StandardScaler, OrdinalEncoder, PowerTransformer\n",
    "from sklearn.compose import ColumnTransformer \n",
    "from sklearn.pipeline import Pipeline"
   ]
  },
  {
   "cell_type": "code",
   "execution_count": 45,
   "id": "2f009014-3981-4c60-acc5-db3be626412b",
   "metadata": {},
   "outputs": [],
   "source": [
    "# Create ColumnTransformer with 3 types of transformers\n",
    "oh_columns = ['continent', 'unit_of_wage', 'region_of_employment']\n",
    "or_columns = ['has_job_experience', 'requires_job_training', 'full_time_position', 'education_of_employee']\n",
    "transform_columns= ['no_of_employees', 'company_age']\n",
    "\n",
    "oh_transformer = OneHotEncoder()\n",
    "ordinal_encoder = OrdinalEncoder()\n",
    "\n",
    "transform_pipeline = Pipeline(steps=[\n",
    "    ('transformer', PowerTransformer(method='yeo-johnson'))\n",
    "])\n",
    "\n",
    "numeric_transformer = StandardScaler()\n",
    "\n",
    "preprocessor = ColumnTransformer(\n",
    "    [\n",
    "        (\"OneHotEncoder\", oh_transformer, oh_columns),\n",
    "        (\"OrdinalEncoder\", ordinal_encoder, or_columns),\n",
    "        (\"Transformer\", transform_pipeline, transform_columns),\n",
    "        (\"StandardScaler\", numeric_transformer, numerical)\n",
    "    ]\n",
    ")"
   ]
  },
  {
   "cell_type": "code",
   "execution_count": 46,
   "id": "1ad7d744-e2a9-4752-9022-15b8f086be02",
   "metadata": {},
   "outputs": [
    {
     "data": {
      "text/plain": [
       "array([ 0.        ,  1.        ,  0.        ,  0.        ,  0.        ,\n",
       "        0.        ,  0.        ,  0.        ,  0.        ,  1.        ,\n",
       "        1.        ,  0.        ,  0.        ,  0.        ,  0.        ,\n",
       "        0.        ,  0.        ,  1.        ,  2.        , -0.39686515,\n",
       "       -0.00479883, -0.18997351, -0.3702257 , -0.36924446])"
      ]
     },
     "execution_count": 46,
     "metadata": {},
     "output_type": "execute_result"
    }
   ],
   "source": [
    "X_train = preprocessor.fit_transform(df_train)\n",
    "X_train[0]"
   ]
  },
  {
   "cell_type": "code",
   "execution_count": 47,
   "id": "c9a1ca5b-b965-4238-8085-5074407c09f1",
   "metadata": {},
   "outputs": [
    {
     "data": {
      "text/plain": [
       "(15288, 24)"
      ]
     },
     "execution_count": 47,
     "metadata": {},
     "output_type": "execute_result"
    }
   ],
   "source": [
    "X_train.shape"
   ]
  },
  {
   "cell_type": "code",
   "execution_count": 48,
   "id": "bd9dcaae-9807-43af-979c-73bbef3bbfe0",
   "metadata": {},
   "outputs": [
    {
     "data": {
      "text/plain": [
       "array(['OneHotEncoder__continent_Africa', 'OneHotEncoder__continent_Asia',\n",
       "       'OneHotEncoder__continent_Europe',\n",
       "       'OneHotEncoder__continent_North America',\n",
       "       'OneHotEncoder__continent_Oceania',\n",
       "       'OneHotEncoder__continent_South America',\n",
       "       'OneHotEncoder__unit_of_wage_Hour',\n",
       "       'OneHotEncoder__unit_of_wage_Month',\n",
       "       'OneHotEncoder__unit_of_wage_Week',\n",
       "       'OneHotEncoder__unit_of_wage_Year',\n",
       "       'OneHotEncoder__region_of_employment_Island',\n",
       "       'OneHotEncoder__region_of_employment_Midwest',\n",
       "       'OneHotEncoder__region_of_employment_Northeast',\n",
       "       'OneHotEncoder__region_of_employment_South',\n",
       "       'OneHotEncoder__region_of_employment_West',\n",
       "       'OrdinalEncoder__has_job_experience',\n",
       "       'OrdinalEncoder__requires_job_training',\n",
       "       'OrdinalEncoder__full_time_position',\n",
       "       'OrdinalEncoder__education_of_employee',\n",
       "       'Transformer__no_of_employees', 'Transformer__company_age',\n",
       "       'StandardScaler__no_of_employees',\n",
       "       'StandardScaler__prevailing_wage', 'StandardScaler__company_age'],\n",
       "      dtype=object)"
      ]
     },
     "execution_count": 48,
     "metadata": {},
     "output_type": "execute_result"
    }
   ],
   "source": [
    "preprocessor.get_feature_names_out()"
   ]
  },
  {
   "cell_type": "code",
   "execution_count": 49,
   "id": "f2300e63-2b94-45dc-9934-d68ec5308651",
   "metadata": {},
   "outputs": [
    {
     "data": {
      "text/html": [
       "<div>\n",
       "<style scoped>\n",
       "    .dataframe tbody tr th:only-of-type {\n",
       "        vertical-align: middle;\n",
       "    }\n",
       "\n",
       "    .dataframe tbody tr th {\n",
       "        vertical-align: top;\n",
       "    }\n",
       "\n",
       "    .dataframe thead th {\n",
       "        text-align: right;\n",
       "    }\n",
       "</style>\n",
       "<table border=\"1\" class=\"dataframe\">\n",
       "  <thead>\n",
       "    <tr style=\"text-align: right;\">\n",
       "      <th></th>\n",
       "      <th>continent</th>\n",
       "      <th>education_of_employee</th>\n",
       "      <th>has_job_experience</th>\n",
       "      <th>requires_job_training</th>\n",
       "      <th>no_of_employees</th>\n",
       "      <th>region_of_employment</th>\n",
       "      <th>prevailing_wage</th>\n",
       "      <th>unit_of_wage</th>\n",
       "      <th>full_time_position</th>\n",
       "      <th>company_age</th>\n",
       "    </tr>\n",
       "  </thead>\n",
       "  <tbody>\n",
       "    <tr>\n",
       "      <th>0</th>\n",
       "      <td>Asia</td>\n",
       "      <td>High School</td>\n",
       "      <td>N</td>\n",
       "      <td>N</td>\n",
       "      <td>1147</td>\n",
       "      <td>Island</td>\n",
       "      <td>55253.09</td>\n",
       "      <td>Year</td>\n",
       "      <td>Y</td>\n",
       "      <td>30</td>\n",
       "    </tr>\n",
       "  </tbody>\n",
       "</table>\n",
       "</div>"
      ],
      "text/plain": [
       "  continent education_of_employee has_job_experience requires_job_training  \\\n",
       "0      Asia           High School                  N                     N   \n",
       "\n",
       "   no_of_employees region_of_employment  prevailing_wage unit_of_wage  \\\n",
       "0             1147               Island         55253.09         Year   \n",
       "\n",
       "  full_time_position  company_age  \n",
       "0                  Y           30  "
      ]
     },
     "execution_count": 49,
     "metadata": {},
     "output_type": "execute_result"
    }
   ],
   "source": [
    "df_train.head(1)"
   ]
  },
  {
   "cell_type": "code",
   "execution_count": null,
   "id": "2a44b8b8-2774-4196-88cf-21170e229a43",
   "metadata": {},
   "outputs": [],
   "source": []
  },
  {
   "cell_type": "code",
   "execution_count": null,
   "id": "70eae3c6-f274-4687-89fe-8bcc5c82b739",
   "metadata": {},
   "outputs": [],
   "source": []
  },
  {
   "cell_type": "code",
   "execution_count": null,
   "id": "ee66a937-5440-488d-9836-9509ff07a5e0",
   "metadata": {},
   "outputs": [],
   "source": []
  }
 ],
 "metadata": {
  "kernelspec": {
   "display_name": "Python 3 (ipykernel)",
   "language": "python",
   "name": "python3"
  },
  "language_info": {
   "codemirror_mode": {
    "name": "ipython",
    "version": 3
   },
   "file_extension": ".py",
   "mimetype": "text/x-python",
   "name": "python",
   "nbconvert_exporter": "python",
   "pygments_lexer": "ipython3",
   "version": "3.11.3"
  }
 },
 "nbformat": 4,
 "nbformat_minor": 5
}
