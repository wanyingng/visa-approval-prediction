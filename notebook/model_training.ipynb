{
 "cells": [
  {
   "cell_type": "markdown",
   "id": "917166a6-bd9c-4949-9c6f-db726dfeb61d",
   "metadata": {},
   "source": [
    "## 4. Data Preparation"
   ]
  },
  {
   "cell_type": "markdown",
   "id": "beee06af-ed30-44fe-8491-d843f6dd2ae8",
   "metadata": {},
   "source": [
    "### Import the necessary packages"
   ]
  },
  {
   "cell_type": "code",
   "execution_count": 1,
   "id": "0e37ae4f-bed2-45dc-98fd-f9f97fc2396b",
   "metadata": {},
   "outputs": [],
   "source": [
    "import numpy as np\n",
    "import pandas as pd\n",
    "\n",
    "import seaborn as sns\n",
    "from matplotlib import pyplot as plt\n",
    "%matplotlib inline\n",
    "\n",
    "import warnings\n",
    "warnings.filterwarnings('ignore')"
   ]
  },
  {
   "cell_type": "markdown",
   "id": "c8e19b27-b85b-47e9-b0e9-314569d95295",
   "metadata": {},
   "source": [
    "### Import the CSV data as Pandas DataFrame"
   ]
  },
  {
   "cell_type": "code",
   "execution_count": 2,
   "id": "b30742d7-579b-4d2b-ae98-a2efd50b268c",
   "metadata": {},
   "outputs": [
    {
     "data": {
      "text/plain": [
       "(25480, 12)"
      ]
     },
     "execution_count": 2,
     "metadata": {},
     "output_type": "execute_result"
    }
   ],
   "source": [
    "df = pd.read_csv('data/EasyVisa.csv')\n",
    "df.shape"
   ]
  },
  {
   "cell_type": "markdown",
   "id": "dd3aa9bc-6fa6-4345-8bb8-ab76b6ab8b69",
   "metadata": {},
   "source": [
    "### Show the first 5 records of the dataset"
   ]
  },
  {
   "cell_type": "code",
   "execution_count": 3,
   "id": "0026b718-1bbb-42a8-9e98-f67cdfe0f987",
   "metadata": {},
   "outputs": [
    {
     "data": {
      "text/html": [
       "<div>\n",
       "<style scoped>\n",
       "    .dataframe tbody tr th:only-of-type {\n",
       "        vertical-align: middle;\n",
       "    }\n",
       "\n",
       "    .dataframe tbody tr th {\n",
       "        vertical-align: top;\n",
       "    }\n",
       "\n",
       "    .dataframe thead th {\n",
       "        text-align: right;\n",
       "    }\n",
       "</style>\n",
       "<table border=\"1\" class=\"dataframe\">\n",
       "  <thead>\n",
       "    <tr style=\"text-align: right;\">\n",
       "      <th></th>\n",
       "      <th>0</th>\n",
       "      <th>1</th>\n",
       "      <th>2</th>\n",
       "      <th>3</th>\n",
       "      <th>4</th>\n",
       "    </tr>\n",
       "  </thead>\n",
       "  <tbody>\n",
       "    <tr>\n",
       "      <th>case_id</th>\n",
       "      <td>EZYV01</td>\n",
       "      <td>EZYV02</td>\n",
       "      <td>EZYV03</td>\n",
       "      <td>EZYV04</td>\n",
       "      <td>EZYV05</td>\n",
       "    </tr>\n",
       "    <tr>\n",
       "      <th>continent</th>\n",
       "      <td>Asia</td>\n",
       "      <td>Asia</td>\n",
       "      <td>Asia</td>\n",
       "      <td>Asia</td>\n",
       "      <td>Africa</td>\n",
       "    </tr>\n",
       "    <tr>\n",
       "      <th>education_of_employee</th>\n",
       "      <td>High School</td>\n",
       "      <td>Master's</td>\n",
       "      <td>Bachelor's</td>\n",
       "      <td>Bachelor's</td>\n",
       "      <td>Master's</td>\n",
       "    </tr>\n",
       "    <tr>\n",
       "      <th>has_job_experience</th>\n",
       "      <td>N</td>\n",
       "      <td>Y</td>\n",
       "      <td>N</td>\n",
       "      <td>N</td>\n",
       "      <td>Y</td>\n",
       "    </tr>\n",
       "    <tr>\n",
       "      <th>requires_job_training</th>\n",
       "      <td>N</td>\n",
       "      <td>N</td>\n",
       "      <td>Y</td>\n",
       "      <td>N</td>\n",
       "      <td>N</td>\n",
       "    </tr>\n",
       "    <tr>\n",
       "      <th>no_of_employees</th>\n",
       "      <td>14513</td>\n",
       "      <td>2412</td>\n",
       "      <td>44444</td>\n",
       "      <td>98</td>\n",
       "      <td>1082</td>\n",
       "    </tr>\n",
       "    <tr>\n",
       "      <th>yr_of_estab</th>\n",
       "      <td>2007</td>\n",
       "      <td>2002</td>\n",
       "      <td>2008</td>\n",
       "      <td>1897</td>\n",
       "      <td>2005</td>\n",
       "    </tr>\n",
       "    <tr>\n",
       "      <th>region_of_employment</th>\n",
       "      <td>West</td>\n",
       "      <td>Northeast</td>\n",
       "      <td>West</td>\n",
       "      <td>West</td>\n",
       "      <td>South</td>\n",
       "    </tr>\n",
       "    <tr>\n",
       "      <th>prevailing_wage</th>\n",
       "      <td>592.2029</td>\n",
       "      <td>83425.65</td>\n",
       "      <td>122996.86</td>\n",
       "      <td>83434.03</td>\n",
       "      <td>149907.39</td>\n",
       "    </tr>\n",
       "    <tr>\n",
       "      <th>unit_of_wage</th>\n",
       "      <td>Hour</td>\n",
       "      <td>Year</td>\n",
       "      <td>Year</td>\n",
       "      <td>Year</td>\n",
       "      <td>Year</td>\n",
       "    </tr>\n",
       "    <tr>\n",
       "      <th>full_time_position</th>\n",
       "      <td>Y</td>\n",
       "      <td>Y</td>\n",
       "      <td>Y</td>\n",
       "      <td>Y</td>\n",
       "      <td>Y</td>\n",
       "    </tr>\n",
       "    <tr>\n",
       "      <th>case_status</th>\n",
       "      <td>Denied</td>\n",
       "      <td>Certified</td>\n",
       "      <td>Denied</td>\n",
       "      <td>Denied</td>\n",
       "      <td>Certified</td>\n",
       "    </tr>\n",
       "  </tbody>\n",
       "</table>\n",
       "</div>"
      ],
      "text/plain": [
       "                                 0          1           2           3  \\\n",
       "case_id                     EZYV01     EZYV02      EZYV03      EZYV04   \n",
       "continent                     Asia       Asia        Asia        Asia   \n",
       "education_of_employee  High School   Master's  Bachelor's  Bachelor's   \n",
       "has_job_experience               N          Y           N           N   \n",
       "requires_job_training            N          N           Y           N   \n",
       "no_of_employees              14513       2412       44444          98   \n",
       "yr_of_estab                   2007       2002        2008        1897   \n",
       "region_of_employment          West  Northeast        West        West   \n",
       "prevailing_wage           592.2029   83425.65   122996.86    83434.03   \n",
       "unit_of_wage                  Hour       Year        Year        Year   \n",
       "full_time_position               Y          Y           Y           Y   \n",
       "case_status                 Denied  Certified      Denied      Denied   \n",
       "\n",
       "                               4  \n",
       "case_id                   EZYV05  \n",
       "continent                 Africa  \n",
       "education_of_employee   Master's  \n",
       "has_job_experience             Y  \n",
       "requires_job_training          N  \n",
       "no_of_employees             1082  \n",
       "yr_of_estab                 2005  \n",
       "region_of_employment       South  \n",
       "prevailing_wage        149907.39  \n",
       "unit_of_wage                Year  \n",
       "full_time_position             Y  \n",
       "case_status            Certified  "
      ]
     },
     "execution_count": 3,
     "metadata": {},
     "output_type": "execute_result"
    }
   ],
   "source": [
    "df.head().T"
   ]
  },
  {
   "cell_type": "code",
   "execution_count": 4,
   "id": "a28ea8a5-6e1b-4802-b2f5-efbdd8e6d0fc",
   "metadata": {},
   "outputs": [
    {
     "data": {
      "text/plain": [
       "(25469, 12)"
      ]
     },
     "execution_count": 4,
     "metadata": {},
     "output_type": "execute_result"
    }
   ],
   "source": [
    "# Remove outliers\n",
    "df = df[df['prevailing_wage'] >= 7.25]\n",
    "df.shape"
   ]
  },
  {
   "cell_type": "code",
   "execution_count": 5,
   "id": "8db80f0e-5141-4057-98cd-4f6c7ab0a161",
   "metadata": {},
   "outputs": [
    {
     "data": {
      "text/plain": [
       "(33, 12)"
      ]
     },
     "execution_count": 5,
     "metadata": {},
     "output_type": "execute_result"
    }
   ],
   "source": [
    "df[df['no_of_employees'] <= 0].shape"
   ]
  },
  {
   "cell_type": "code",
   "execution_count": 6,
   "id": "614b4e69-8ce1-4e65-badd-76bc8e3497f4",
   "metadata": {},
   "outputs": [
    {
     "data": {
      "text/plain": [
       "(25436, 12)"
      ]
     },
     "execution_count": 6,
     "metadata": {},
     "output_type": "execute_result"
    }
   ],
   "source": [
    "df = df[df['no_of_employees'] > 0]\n",
    "df.shape"
   ]
  },
  {
   "cell_type": "markdown",
   "id": "980fc8b2-f166-4866-a8af-d2f433836275",
   "metadata": {},
   "source": [
    "### Drop `case_id` column from the dataset"
   ]
  },
  {
   "cell_type": "code",
   "execution_count": 7,
   "id": "a1d59307-4379-46c3-aaf1-c6637691c3e2",
   "metadata": {},
   "outputs": [
    {
     "data": {
      "text/plain": [
       "(25436, 11)"
      ]
     },
     "execution_count": 7,
     "metadata": {},
     "output_type": "execute_result"
    }
   ],
   "source": [
    "# Remove the column\n",
    "del df['case_id']\n",
    "df.shape"
   ]
  },
  {
   "cell_type": "markdown",
   "id": "7ed37053-1f09-4687-9008-2888ba063006",
   "metadata": {},
   "source": [
    "### Encode target variable for classification"
   ]
  },
  {
   "cell_type": "code",
   "execution_count": 8,
   "id": "5f47d18b-1ea6-4bf0-a1bb-eacde4a89853",
   "metadata": {},
   "outputs": [
    {
     "data": {
      "text/plain": [
       "0       Denied\n",
       "1    Certified\n",
       "2       Denied\n",
       "3       Denied\n",
       "4    Certified\n",
       "Name: case_status, dtype: object"
      ]
     },
     "execution_count": 8,
     "metadata": {},
     "output_type": "execute_result"
    }
   ],
   "source": [
    "df.case_status.head()"
   ]
  },
  {
   "cell_type": "code",
   "execution_count": 9,
   "id": "c0ae891d-a350-401a-9068-70201fbe0ea7",
   "metadata": {},
   "outputs": [
    {
     "data": {
      "text/plain": [
       "0    0\n",
       "1    1\n",
       "2    0\n",
       "3    0\n",
       "4    1\n",
       "Name: case_status, dtype: int32"
      ]
     },
     "execution_count": 9,
     "metadata": {},
     "output_type": "execute_result"
    }
   ],
   "source": [
    "# Replace Certified/Denied with a number; 1 (Cerified) or 0 (Denied)\n",
    "df.case_status = (df.case_status == 'Certified').astype(int)\n",
    "df.case_status[:5]"
   ]
  },
  {
   "cell_type": "markdown",
   "id": "0560e631-cd95-4823-aa58-25aa180e19c3",
   "metadata": {},
   "source": [
    "### Set up the validation framework\n",
    "\n",
    "#### Prepare the $X$ feature matrix and the $y$ target variable"
   ]
  },
  {
   "cell_type": "code",
   "execution_count": 10,
   "id": "1566299c-c27c-40de-9f49-2c117de3d2aa",
   "metadata": {},
   "outputs": [],
   "source": [
    "from sklearn.model_selection import train_test_split"
   ]
  },
  {
   "cell_type": "code",
   "execution_count": 11,
   "id": "803bf0ea-8a72-4289-ad44-2d411c3bb529",
   "metadata": {},
   "outputs": [],
   "source": [
    "# Perform the train/validation/test split with Scikit-Learn\n",
    "df_full_train, df_test = train_test_split(df, test_size=0.2, random_state=42)\n",
    "df_train, df_val = train_test_split(df_full_train, test_size=0.25, random_state=42)\n",
    "\n",
    "df_train = df_train.reset_index(drop=True)\n",
    "df_val = df_val.reset_index(drop=True)\n",
    "df_test = df_test.reset_index(drop=True)\n",
    "\n",
    "y_train = df_train.case_status.values\n",
    "y_val = df_val.case_status.values\n",
    "y_test = df_test.case_status.values\n",
    "\n",
    "del df_train['case_status']\n",
    "del df_val['case_status']\n",
    "del df_test['case_status']"
   ]
  },
  {
   "cell_type": "code",
   "execution_count": 12,
   "id": "b7c6314c-b42b-47e2-8a26-9104a5d20f13",
   "metadata": {},
   "outputs": [
    {
     "data": {
      "text/plain": [
       "((15261, 10), (5087, 10), (5088, 10))"
      ]
     },
     "execution_count": 12,
     "metadata": {},
     "output_type": "execute_result"
    }
   ],
   "source": [
    "df_train.shape, df_val.shape, df_test.shape"
   ]
  },
  {
   "cell_type": "code",
   "execution_count": 13,
   "id": "356fa1fb-ce44-49c3-8f3e-cd33e24804c5",
   "metadata": {},
   "outputs": [
    {
     "data": {
      "text/html": [
       "<div>\n",
       "<style scoped>\n",
       "    .dataframe tbody tr th:only-of-type {\n",
       "        vertical-align: middle;\n",
       "    }\n",
       "\n",
       "    .dataframe tbody tr th {\n",
       "        vertical-align: top;\n",
       "    }\n",
       "\n",
       "    .dataframe thead th {\n",
       "        text-align: right;\n",
       "    }\n",
       "</style>\n",
       "<table border=\"1\" class=\"dataframe\">\n",
       "  <thead>\n",
       "    <tr style=\"text-align: right;\">\n",
       "      <th></th>\n",
       "      <th>0</th>\n",
       "      <th>1</th>\n",
       "      <th>2</th>\n",
       "      <th>3</th>\n",
       "      <th>4</th>\n",
       "    </tr>\n",
       "  </thead>\n",
       "  <tbody>\n",
       "    <tr>\n",
       "      <th>continent</th>\n",
       "      <td>Asia</td>\n",
       "      <td>Asia</td>\n",
       "      <td>Asia</td>\n",
       "      <td>Asia</td>\n",
       "      <td>Asia</td>\n",
       "    </tr>\n",
       "    <tr>\n",
       "      <th>education_of_employee</th>\n",
       "      <td>Bachelor's</td>\n",
       "      <td>Bachelor's</td>\n",
       "      <td>Master's</td>\n",
       "      <td>Bachelor's</td>\n",
       "      <td>Master's</td>\n",
       "    </tr>\n",
       "    <tr>\n",
       "      <th>has_job_experience</th>\n",
       "      <td>N</td>\n",
       "      <td>N</td>\n",
       "      <td>N</td>\n",
       "      <td>Y</td>\n",
       "      <td>N</td>\n",
       "    </tr>\n",
       "    <tr>\n",
       "      <th>requires_job_training</th>\n",
       "      <td>N</td>\n",
       "      <td>N</td>\n",
       "      <td>N</td>\n",
       "      <td>N</td>\n",
       "      <td>N</td>\n",
       "    </tr>\n",
       "    <tr>\n",
       "      <th>no_of_employees</th>\n",
       "      <td>2500</td>\n",
       "      <td>1527</td>\n",
       "      <td>5380</td>\n",
       "      <td>3035</td>\n",
       "      <td>546</td>\n",
       "    </tr>\n",
       "    <tr>\n",
       "      <th>yr_of_estab</th>\n",
       "      <td>1971</td>\n",
       "      <td>2013</td>\n",
       "      <td>1998</td>\n",
       "      <td>1907</td>\n",
       "      <td>2014</td>\n",
       "    </tr>\n",
       "    <tr>\n",
       "      <th>region_of_employment</th>\n",
       "      <td>Northeast</td>\n",
       "      <td>South</td>\n",
       "      <td>West</td>\n",
       "      <td>West</td>\n",
       "      <td>South</td>\n",
       "    </tr>\n",
       "    <tr>\n",
       "      <th>prevailing_wage</th>\n",
       "      <td>105.87</td>\n",
       "      <td>38764.07</td>\n",
       "      <td>37037.67</td>\n",
       "      <td>89891.32</td>\n",
       "      <td>149133.36</td>\n",
       "    </tr>\n",
       "    <tr>\n",
       "      <th>unit_of_wage</th>\n",
       "      <td>Hour</td>\n",
       "      <td>Year</td>\n",
       "      <td>Year</td>\n",
       "      <td>Year</td>\n",
       "      <td>Year</td>\n",
       "    </tr>\n",
       "    <tr>\n",
       "      <th>full_time_position</th>\n",
       "      <td>Y</td>\n",
       "      <td>Y</td>\n",
       "      <td>Y</td>\n",
       "      <td>N</td>\n",
       "      <td>Y</td>\n",
       "    </tr>\n",
       "  </tbody>\n",
       "</table>\n",
       "</div>"
      ],
      "text/plain": [
       "                                0           1         2           3          4\n",
       "continent                    Asia        Asia      Asia        Asia       Asia\n",
       "education_of_employee  Bachelor's  Bachelor's  Master's  Bachelor's   Master's\n",
       "has_job_experience              N           N         N           Y          N\n",
       "requires_job_training           N           N         N           N          N\n",
       "no_of_employees              2500        1527      5380        3035        546\n",
       "yr_of_estab                  1971        2013      1998        1907       2014\n",
       "region_of_employment    Northeast       South      West        West      South\n",
       "prevailing_wage            105.87    38764.07  37037.67    89891.32  149133.36\n",
       "unit_of_wage                 Hour        Year      Year        Year       Year\n",
       "full_time_position              Y           Y         Y           N          Y"
      ]
     },
     "execution_count": 13,
     "metadata": {},
     "output_type": "execute_result"
    }
   ],
   "source": [
    "df_train.head().T"
   ]
  },
  {
   "cell_type": "code",
   "execution_count": 14,
   "id": "e6a4e4e7-e7f0-4561-bce6-9ed2d326a9ef",
   "metadata": {},
   "outputs": [
    {
     "data": {
      "text/plain": [
       "array([1, 0, 0, 1, 1])"
      ]
     },
     "execution_count": 14,
     "metadata": {},
     "output_type": "execute_result"
    }
   ],
   "source": [
    "y_train[:5]"
   ]
  },
  {
   "cell_type": "code",
   "execution_count": 15,
   "id": "ad3a1a99-2ee0-479e-bc72-2a06b82c10d7",
   "metadata": {},
   "outputs": [
    {
     "name": "stdout",
     "output_type": "stream",
     "text": [
      "Percentage of classes in training set:\n",
      "case_status\n",
      "1              67.07\n",
      "0              32.93\n",
      "Name: proportion, dtype: float64\n",
      "Percentage of classes in validation set:\n",
      "case_status\n",
      "1              66.58\n",
      "0              33.42\n",
      "Name: proportion, dtype: float64\n"
     ]
    }
   ],
   "source": [
    "print(\"Percentage of classes in training set:\")\n",
    "print(pd.DataFrame(y_train, columns=['case_status']).value_counts(normalize=True).round(4) * 100)\n",
    "\n",
    "print(\"Percentage of classes in validation set:\")\n",
    "print(pd.DataFrame(y_val, columns=['case_status']).value_counts(normalize=True).round(4) * 100)"
   ]
  },
  {
   "cell_type": "code",
   "execution_count": 16,
   "id": "aae62249-2f82-4952-b8e2-288e920d7aae",
   "metadata": {},
   "outputs": [],
   "source": [
    "numerical = df_train.select_dtypes(exclude=\"object\").columns\n",
    "categorical = df_train.select_dtypes(include=\"object\").columns"
   ]
  },
  {
   "cell_type": "code",
   "execution_count": 17,
   "id": "bad65684-ec59-4498-814f-92ac0bea9b76",
   "metadata": {},
   "outputs": [
    {
     "data": {
      "text/plain": [
       "Index(['no_of_employees', 'yr_of_estab', 'prevailing_wage'], dtype='object')"
      ]
     },
     "execution_count": 17,
     "metadata": {},
     "output_type": "execute_result"
    }
   ],
   "source": [
    "numerical"
   ]
  },
  {
   "cell_type": "code",
   "execution_count": 18,
   "id": "0c05bd00-13a8-4a1d-8b86-d3fb6a6a356f",
   "metadata": {},
   "outputs": [
    {
     "data": {
      "text/plain": [
       "Index(['continent', 'education_of_employee', 'has_job_experience',\n",
       "       'requires_job_training', 'region_of_employment', 'unit_of_wage',\n",
       "       'full_time_position'],\n",
       "      dtype='object')"
      ]
     },
     "execution_count": 18,
     "metadata": {},
     "output_type": "execute_result"
    }
   ],
   "source": [
    "categorical"
   ]
  },
  {
   "cell_type": "markdown",
   "id": "efd30ea1-dee1-4a19-b8d2-a9a5e60311d7",
   "metadata": {},
   "source": [
    "### Feature Importance Analysis\n",
    "\n",
    "This step aims to determine the most influential factors in predicting the visa application outcome."
   ]
  },
  {
   "cell_type": "markdown",
   "id": "5f190e5e-02c5-412c-8c18-84e8db08e131",
   "metadata": {},
   "source": [
    "#### Calculate Certify Rate and Risk Ratio\n",
    "These metrics help assess the association between categorical features and the target variable:\n",
    "- **Certify Rate:** \n",
    "  * Calculated as the proportion of certified cases within a specific category of a feature. \n",
    "  * A higher certify rate (diff $> 0$) within a category suggests a greater likelihood of certification for that category.\n",
    "  * The difference between a category's certify rate and the overall certification rate provides an indication of the category's association with the target variable. \n",
    "  * Larger differences generally signify stronger associations.\n",
    "- **Risk Ratio:** \n",
    "  * Calculated as the ratio of the probability of certification within a specific category to the overall probability of certification.\n",
    "  * A risk ratio greater than 1 indicates that the category is more likely to be certified compared to the overall average. \n",
    "  * A risk ratio less than 1 indicates a lower likelihood of certification for that category. \n",
    "  * Risk ratios provide a relative measure of the association between a category and the target variable."
   ]
  },
  {
   "cell_type": "code",
   "execution_count": 19,
   "id": "03953b78-bd2d-4a6f-941b-8d617b1e6340",
   "metadata": {},
   "outputs": [
    {
     "data": {
      "text/plain": [
       "0.67"
      ]
     },
     "execution_count": 19,
     "metadata": {},
     "output_type": "execute_result"
    }
   ],
   "source": [
    "# Calculate the certify rate of the entire full train dataset\n",
    "global_certify_rate = df_full_train.case_status.mean()\n",
    "round(global_certify_rate, 2)"
   ]
  },
  {
   "cell_type": "code",
   "execution_count": 20,
   "id": "5a31a3e3-93df-4ee8-8b6f-02b2a90c9c97",
   "metadata": {},
   "outputs": [],
   "source": [
    "from IPython.display import display"
   ]
  },
  {
   "cell_type": "code",
   "execution_count": 21,
   "id": "712aabed-17d3-40cc-871b-59df830151c9",
   "metadata": {},
   "outputs": [
    {
     "name": "stdout",
     "output_type": "stream",
     "text": [
      "continent\n"
     ]
    },
    {
     "data": {
      "text/html": [
       "<div>\n",
       "<style scoped>\n",
       "    .dataframe tbody tr th:only-of-type {\n",
       "        vertical-align: middle;\n",
       "    }\n",
       "\n",
       "    .dataframe tbody tr th {\n",
       "        vertical-align: top;\n",
       "    }\n",
       "\n",
       "    .dataframe thead th {\n",
       "        text-align: right;\n",
       "    }\n",
       "</style>\n",
       "<table border=\"1\" class=\"dataframe\">\n",
       "  <thead>\n",
       "    <tr style=\"text-align: right;\">\n",
       "      <th></th>\n",
       "      <th>mean</th>\n",
       "      <th>count</th>\n",
       "      <th>diff</th>\n",
       "      <th>risk</th>\n",
       "    </tr>\n",
       "    <tr>\n",
       "      <th>continent</th>\n",
       "      <th></th>\n",
       "      <th></th>\n",
       "      <th></th>\n",
       "      <th></th>\n",
       "    </tr>\n",
       "  </thead>\n",
       "  <tbody>\n",
       "    <tr>\n",
       "      <th>Africa</th>\n",
       "      <td>0.704225</td>\n",
       "      <td>426</td>\n",
       "      <td>0.034774</td>\n",
       "      <td>1.051944</td>\n",
       "    </tr>\n",
       "    <tr>\n",
       "      <th>Asia</th>\n",
       "      <td>0.655190</td>\n",
       "      <td>13506</td>\n",
       "      <td>-0.014261</td>\n",
       "      <td>0.978697</td>\n",
       "    </tr>\n",
       "    <tr>\n",
       "      <th>Europe</th>\n",
       "      <td>0.792256</td>\n",
       "      <td>2970</td>\n",
       "      <td>0.122804</td>\n",
       "      <td>1.183440</td>\n",
       "    </tr>\n",
       "    <tr>\n",
       "      <th>North America</th>\n",
       "      <td>0.624667</td>\n",
       "      <td>2627</td>\n",
       "      <td>-0.044785</td>\n",
       "      <td>0.933103</td>\n",
       "    </tr>\n",
       "    <tr>\n",
       "      <th>Oceania</th>\n",
       "      <td>0.640000</td>\n",
       "      <td>150</td>\n",
       "      <td>-0.029452</td>\n",
       "      <td>0.956006</td>\n",
       "    </tr>\n",
       "    <tr>\n",
       "      <th>South America</th>\n",
       "      <td>0.572496</td>\n",
       "      <td>669</td>\n",
       "      <td>-0.096955</td>\n",
       "      <td>0.855172</td>\n",
       "    </tr>\n",
       "  </tbody>\n",
       "</table>\n",
       "</div>"
      ],
      "text/plain": [
       "                   mean  count      diff      risk\n",
       "continent                                         \n",
       "Africa         0.704225    426  0.034774  1.051944\n",
       "Asia           0.655190  13506 -0.014261  0.978697\n",
       "Europe         0.792256   2970  0.122804  1.183440\n",
       "North America  0.624667   2627 -0.044785  0.933103\n",
       "Oceania        0.640000    150 -0.029452  0.956006\n",
       "South America  0.572496    669 -0.096955  0.855172"
      ]
     },
     "metadata": {},
     "output_type": "display_data"
    },
    {
     "name": "stdout",
     "output_type": "stream",
     "text": [
      "\n",
      "\n",
      "education_of_employee\n"
     ]
    },
    {
     "data": {
      "text/html": [
       "<div>\n",
       "<style scoped>\n",
       "    .dataframe tbody tr th:only-of-type {\n",
       "        vertical-align: middle;\n",
       "    }\n",
       "\n",
       "    .dataframe tbody tr th {\n",
       "        vertical-align: top;\n",
       "    }\n",
       "\n",
       "    .dataframe thead th {\n",
       "        text-align: right;\n",
       "    }\n",
       "</style>\n",
       "<table border=\"1\" class=\"dataframe\">\n",
       "  <thead>\n",
       "    <tr style=\"text-align: right;\">\n",
       "      <th></th>\n",
       "      <th>mean</th>\n",
       "      <th>count</th>\n",
       "      <th>diff</th>\n",
       "      <th>risk</th>\n",
       "    </tr>\n",
       "    <tr>\n",
       "      <th>education_of_employee</th>\n",
       "      <th></th>\n",
       "      <th></th>\n",
       "      <th></th>\n",
       "      <th></th>\n",
       "    </tr>\n",
       "  </thead>\n",
       "  <tbody>\n",
       "    <tr>\n",
       "      <th>Bachelor's</th>\n",
       "      <td>0.624189</td>\n",
       "      <td>8169</td>\n",
       "      <td>-0.045263</td>\n",
       "      <td>0.932389</td>\n",
       "    </tr>\n",
       "    <tr>\n",
       "      <th>Doctorate</th>\n",
       "      <td>0.867435</td>\n",
       "      <td>1735</td>\n",
       "      <td>0.197984</td>\n",
       "      <td>1.295740</td>\n",
       "    </tr>\n",
       "    <tr>\n",
       "      <th>High School</th>\n",
       "      <td>0.343601</td>\n",
       "      <td>2727</td>\n",
       "      <td>-0.325851</td>\n",
       "      <td>0.513258</td>\n",
       "    </tr>\n",
       "    <tr>\n",
       "      <th>Master's</th>\n",
       "      <td>0.788001</td>\n",
       "      <td>7717</td>\n",
       "      <td>0.118549</td>\n",
       "      <td>1.177084</td>\n",
       "    </tr>\n",
       "  </tbody>\n",
       "</table>\n",
       "</div>"
      ],
      "text/plain": [
       "                           mean  count      diff      risk\n",
       "education_of_employee                                     \n",
       "Bachelor's             0.624189   8169 -0.045263  0.932389\n",
       "Doctorate              0.867435   1735  0.197984  1.295740\n",
       "High School            0.343601   2727 -0.325851  0.513258\n",
       "Master's               0.788001   7717  0.118549  1.177084"
      ]
     },
     "metadata": {},
     "output_type": "display_data"
    },
    {
     "name": "stdout",
     "output_type": "stream",
     "text": [
      "\n",
      "\n",
      "has_job_experience\n"
     ]
    },
    {
     "data": {
      "text/html": [
       "<div>\n",
       "<style scoped>\n",
       "    .dataframe tbody tr th:only-of-type {\n",
       "        vertical-align: middle;\n",
       "    }\n",
       "\n",
       "    .dataframe tbody tr th {\n",
       "        vertical-align: top;\n",
       "    }\n",
       "\n",
       "    .dataframe thead th {\n",
       "        text-align: right;\n",
       "    }\n",
       "</style>\n",
       "<table border=\"1\" class=\"dataframe\">\n",
       "  <thead>\n",
       "    <tr style=\"text-align: right;\">\n",
       "      <th></th>\n",
       "      <th>mean</th>\n",
       "      <th>count</th>\n",
       "      <th>diff</th>\n",
       "      <th>risk</th>\n",
       "    </tr>\n",
       "    <tr>\n",
       "      <th>has_job_experience</th>\n",
       "      <th></th>\n",
       "      <th></th>\n",
       "      <th></th>\n",
       "      <th></th>\n",
       "    </tr>\n",
       "  </thead>\n",
       "  <tbody>\n",
       "    <tr>\n",
       "      <th>N</th>\n",
       "      <td>0.562215</td>\n",
       "      <td>8559</td>\n",
       "      <td>-0.107236</td>\n",
       "      <td>0.839815</td>\n",
       "    </tr>\n",
       "    <tr>\n",
       "      <th>Y</th>\n",
       "      <td>0.747307</td>\n",
       "      <td>11789</td>\n",
       "      <td>0.077855</td>\n",
       "      <td>1.116297</td>\n",
       "    </tr>\n",
       "  </tbody>\n",
       "</table>\n",
       "</div>"
      ],
      "text/plain": [
       "                        mean  count      diff      risk\n",
       "has_job_experience                                     \n",
       "N                   0.562215   8559 -0.107236  0.839815\n",
       "Y                   0.747307  11789  0.077855  1.116297"
      ]
     },
     "metadata": {},
     "output_type": "display_data"
    },
    {
     "name": "stdout",
     "output_type": "stream",
     "text": [
      "\n",
      "\n",
      "requires_job_training\n"
     ]
    },
    {
     "data": {
      "text/html": [
       "<div>\n",
       "<style scoped>\n",
       "    .dataframe tbody tr th:only-of-type {\n",
       "        vertical-align: middle;\n",
       "    }\n",
       "\n",
       "    .dataframe tbody tr th {\n",
       "        vertical-align: top;\n",
       "    }\n",
       "\n",
       "    .dataframe thead th {\n",
       "        text-align: right;\n",
       "    }\n",
       "</style>\n",
       "<table border=\"1\" class=\"dataframe\">\n",
       "  <thead>\n",
       "    <tr style=\"text-align: right;\">\n",
       "      <th></th>\n",
       "      <th>mean</th>\n",
       "      <th>count</th>\n",
       "      <th>diff</th>\n",
       "      <th>risk</th>\n",
       "    </tr>\n",
       "    <tr>\n",
       "      <th>requires_job_training</th>\n",
       "      <th></th>\n",
       "      <th></th>\n",
       "      <th></th>\n",
       "      <th></th>\n",
       "    </tr>\n",
       "  </thead>\n",
       "  <tbody>\n",
       "    <tr>\n",
       "      <th>N</th>\n",
       "      <td>0.667928</td>\n",
       "      <td>17966</td>\n",
       "      <td>-0.001523</td>\n",
       "      <td>0.997725</td>\n",
       "    </tr>\n",
       "    <tr>\n",
       "      <th>Y</th>\n",
       "      <td>0.680940</td>\n",
       "      <td>2382</td>\n",
       "      <td>0.011489</td>\n",
       "      <td>1.017162</td>\n",
       "    </tr>\n",
       "  </tbody>\n",
       "</table>\n",
       "</div>"
      ],
      "text/plain": [
       "                           mean  count      diff      risk\n",
       "requires_job_training                                     \n",
       "N                      0.667928  17966 -0.001523  0.997725\n",
       "Y                      0.680940   2382  0.011489  1.017162"
      ]
     },
     "metadata": {},
     "output_type": "display_data"
    },
    {
     "name": "stdout",
     "output_type": "stream",
     "text": [
      "\n",
      "\n",
      "region_of_employment\n"
     ]
    },
    {
     "data": {
      "text/html": [
       "<div>\n",
       "<style scoped>\n",
       "    .dataframe tbody tr th:only-of-type {\n",
       "        vertical-align: middle;\n",
       "    }\n",
       "\n",
       "    .dataframe tbody tr th {\n",
       "        vertical-align: top;\n",
       "    }\n",
       "\n",
       "    .dataframe thead th {\n",
       "        text-align: right;\n",
       "    }\n",
       "</style>\n",
       "<table border=\"1\" class=\"dataframe\">\n",
       "  <thead>\n",
       "    <tr style=\"text-align: right;\">\n",
       "      <th></th>\n",
       "      <th>mean</th>\n",
       "      <th>count</th>\n",
       "      <th>diff</th>\n",
       "      <th>risk</th>\n",
       "    </tr>\n",
       "    <tr>\n",
       "      <th>region_of_employment</th>\n",
       "      <th></th>\n",
       "      <th></th>\n",
       "      <th></th>\n",
       "      <th></th>\n",
       "    </tr>\n",
       "  </thead>\n",
       "  <tbody>\n",
       "    <tr>\n",
       "      <th>Island</th>\n",
       "      <td>0.590759</td>\n",
       "      <td>303</td>\n",
       "      <td>-0.078692</td>\n",
       "      <td>0.882452</td>\n",
       "    </tr>\n",
       "    <tr>\n",
       "      <th>Midwest</th>\n",
       "      <td>0.759977</td>\n",
       "      <td>3458</td>\n",
       "      <td>0.090525</td>\n",
       "      <td>1.135223</td>\n",
       "    </tr>\n",
       "    <tr>\n",
       "      <th>Northeast</th>\n",
       "      <td>0.635173</td>\n",
       "      <td>5726</td>\n",
       "      <td>-0.034279</td>\n",
       "      <td>0.948796</td>\n",
       "    </tr>\n",
       "    <tr>\n",
       "      <th>South</th>\n",
       "      <td>0.702804</td>\n",
       "      <td>5599</td>\n",
       "      <td>0.033353</td>\n",
       "      <td>1.049821</td>\n",
       "    </tr>\n",
       "    <tr>\n",
       "      <th>West</th>\n",
       "      <td>0.616306</td>\n",
       "      <td>5262</td>\n",
       "      <td>-0.053146</td>\n",
       "      <td>0.920613</td>\n",
       "    </tr>\n",
       "  </tbody>\n",
       "</table>\n",
       "</div>"
      ],
      "text/plain": [
       "                          mean  count      diff      risk\n",
       "region_of_employment                                     \n",
       "Island                0.590759    303 -0.078692  0.882452\n",
       "Midwest               0.759977   3458  0.090525  1.135223\n",
       "Northeast             0.635173   5726 -0.034279  0.948796\n",
       "South                 0.702804   5599  0.033353  1.049821\n",
       "West                  0.616306   5262 -0.053146  0.920613"
      ]
     },
     "metadata": {},
     "output_type": "display_data"
    },
    {
     "name": "stdout",
     "output_type": "stream",
     "text": [
      "\n",
      "\n",
      "unit_of_wage\n"
     ]
    },
    {
     "data": {
      "text/html": [
       "<div>\n",
       "<style scoped>\n",
       "    .dataframe tbody tr th:only-of-type {\n",
       "        vertical-align: middle;\n",
       "    }\n",
       "\n",
       "    .dataframe tbody tr th {\n",
       "        vertical-align: top;\n",
       "    }\n",
       "\n",
       "    .dataframe thead th {\n",
       "        text-align: right;\n",
       "    }\n",
       "</style>\n",
       "<table border=\"1\" class=\"dataframe\">\n",
       "  <thead>\n",
       "    <tr style=\"text-align: right;\">\n",
       "      <th></th>\n",
       "      <th>mean</th>\n",
       "      <th>count</th>\n",
       "      <th>diff</th>\n",
       "      <th>risk</th>\n",
       "    </tr>\n",
       "    <tr>\n",
       "      <th>unit_of_wage</th>\n",
       "      <th></th>\n",
       "      <th></th>\n",
       "      <th></th>\n",
       "      <th></th>\n",
       "    </tr>\n",
       "  </thead>\n",
       "  <tbody>\n",
       "    <tr>\n",
       "      <th>Hour</th>\n",
       "      <td>0.344425</td>\n",
       "      <td>1713</td>\n",
       "      <td>-0.325027</td>\n",
       "      <td>0.514488</td>\n",
       "    </tr>\n",
       "    <tr>\n",
       "      <th>Month</th>\n",
       "      <td>0.557143</td>\n",
       "      <td>70</td>\n",
       "      <td>-0.112309</td>\n",
       "      <td>0.832238</td>\n",
       "    </tr>\n",
       "    <tr>\n",
       "      <th>Week</th>\n",
       "      <td>0.625000</td>\n",
       "      <td>216</td>\n",
       "      <td>-0.044452</td>\n",
       "      <td>0.933600</td>\n",
       "    </tr>\n",
       "    <tr>\n",
       "      <th>Year</th>\n",
       "      <td>0.700747</td>\n",
       "      <td>18349</td>\n",
       "      <td>0.031295</td>\n",
       "      <td>1.046747</td>\n",
       "    </tr>\n",
       "  </tbody>\n",
       "</table>\n",
       "</div>"
      ],
      "text/plain": [
       "                  mean  count      diff      risk\n",
       "unit_of_wage                                     \n",
       "Hour          0.344425   1713 -0.325027  0.514488\n",
       "Month         0.557143     70 -0.112309  0.832238\n",
       "Week          0.625000    216 -0.044452  0.933600\n",
       "Year          0.700747  18349  0.031295  1.046747"
      ]
     },
     "metadata": {},
     "output_type": "display_data"
    },
    {
     "name": "stdout",
     "output_type": "stream",
     "text": [
      "\n",
      "\n",
      "full_time_position\n"
     ]
    },
    {
     "data": {
      "text/html": [
       "<div>\n",
       "<style scoped>\n",
       "    .dataframe tbody tr th:only-of-type {\n",
       "        vertical-align: middle;\n",
       "    }\n",
       "\n",
       "    .dataframe tbody tr th {\n",
       "        vertical-align: top;\n",
       "    }\n",
       "\n",
       "    .dataframe thead th {\n",
       "        text-align: right;\n",
       "    }\n",
       "</style>\n",
       "<table border=\"1\" class=\"dataframe\">\n",
       "  <thead>\n",
       "    <tr style=\"text-align: right;\">\n",
       "      <th></th>\n",
       "      <th>mean</th>\n",
       "      <th>count</th>\n",
       "      <th>diff</th>\n",
       "      <th>risk</th>\n",
       "    </tr>\n",
       "    <tr>\n",
       "      <th>full_time_position</th>\n",
       "      <th></th>\n",
       "      <th></th>\n",
       "      <th></th>\n",
       "      <th></th>\n",
       "    </tr>\n",
       "  </thead>\n",
       "  <tbody>\n",
       "    <tr>\n",
       "      <th>N</th>\n",
       "      <td>0.691667</td>\n",
       "      <td>2160</td>\n",
       "      <td>0.022215</td>\n",
       "      <td>1.033184</td>\n",
       "    </tr>\n",
       "    <tr>\n",
       "      <th>Y</th>\n",
       "      <td>0.666813</td>\n",
       "      <td>18188</td>\n",
       "      <td>-0.002638</td>\n",
       "      <td>0.996059</td>\n",
       "    </tr>\n",
       "  </tbody>\n",
       "</table>\n",
       "</div>"
      ],
      "text/plain": [
       "                        mean  count      diff      risk\n",
       "full_time_position                                     \n",
       "N                   0.691667   2160  0.022215  1.033184\n",
       "Y                   0.666813  18188 -0.002638  0.996059"
      ]
     },
     "metadata": {},
     "output_type": "display_data"
    },
    {
     "name": "stdout",
     "output_type": "stream",
     "text": [
      "\n",
      "\n"
     ]
    }
   ],
   "source": [
    "# Calculate the difference and risk for all categorical variables\n",
    "for c in categorical:\n",
    "    print(c)\n",
    "    df_group = df_full_train.groupby(c).case_status.agg(['mean', 'count'])\n",
    "    df_group['diff'] = df_group['mean'] - global_certify_rate\n",
    "    df_group['risk'] = df_group['mean'] / global_certify_rate\n",
    "    display(df_group)\n",
    "    print()\n",
    "    print()"
   ]
  },
  {
   "cell_type": "markdown",
   "id": "91892eb4-f51c-44fa-a2a5-8710ce68428b",
   "metadata": {},
   "source": [
    "#### Calculate Mutual Information \n",
    "Mutual Information (MI) measures the amount of information one variable provides about another. \n",
    "\n",
    "We will rank the features based on their MI scores. The feature with the highest MI score is considered the most important, followed by the feature with the second-highest score, and so on. "
   ]
  },
  {
   "cell_type": "code",
   "execution_count": 22,
   "id": "33639ccb-4fd9-495b-baa0-e01c181b027a",
   "metadata": {},
   "outputs": [],
   "source": [
    "from sklearn.metrics import mutual_info_score"
   ]
  },
  {
   "cell_type": "code",
   "execution_count": 23,
   "id": "8115c3d6-f7a8-4f2d-a18b-b0546c7524a2",
   "metadata": {},
   "outputs": [],
   "source": [
    "def mutual_info_certify_score(series):\n",
    "    return mutual_info_score(series, df_full_train.case_status)"
   ]
  },
  {
   "cell_type": "code",
   "execution_count": 24,
   "id": "2c2aacb2-62a9-4c66-94f0-d20922e8bbd6",
   "metadata": {},
   "outputs": [
    {
     "data": {
      "text/plain": [
       "education_of_employee    0.053302\n",
       "unit_of_wage             0.020692\n",
       "has_job_experience       0.018769\n",
       "continent                0.007012\n",
       "region_of_employment     0.006578\n",
       "full_time_position       0.000134\n",
       "requires_job_training    0.000040\n",
       "dtype: float64"
      ]
     },
     "execution_count": 24,
     "metadata": {},
     "output_type": "execute_result"
    }
   ],
   "source": [
    "# Calculate mutual information scores of all categorical variables\n",
    "mi = df_full_train[categorical].apply(mutual_info_certify_score)\n",
    "# Sort the result such that the most important features come first\n",
    "mi.sort_values(ascending=False)"
   ]
  },
  {
   "cell_type": "code",
   "execution_count": 25,
   "id": "4d1c1614-3a2a-4c8c-a51e-ae591ba07477",
   "metadata": {},
   "outputs": [
    {
     "data": {
      "image/png": "[encoded data removed]",
      "text/plain": [
       "<Figure size 640x480 with 1 Axes>"
      ]
     },
     "metadata": {},
     "output_type": "display_data"
    }
   ],
   "source": [
    "# Plot the bar graph\n",
    "mi.nlargest(20).plot(kind='barh', ec='black', color=['lightpink', 'paleturquoise', 'moccasin', 'plum', 'lightcoral', 'sandybrown']).invert_yaxis()"
   ]
  },
  {
   "cell_type": "markdown",
   "id": "05dbe558-bebd-4bae-9c81-defe8c960b90",
   "metadata": {},
   "source": [
    "**Top 5 Features:** \n",
    "* Based on Mutual Information (MI) scores, the top 5 categorical features for inclusion in the model are:\n",
    "    1. `education_of_employee` (MI: 0.052196)\n",
    "    2. `unit_of_wage` (MI: 0.020227)\n",
    "    3. `has_job_experience` (MI: 0.017954)\n",
    "    4. `continent` (MI: 0.007389)\n",
    "    5. `region_of_employment` (MI: 0.006231)\n",
    "\n",
    "**Feature Exclusion:**\n",
    "* `full_time_position` has a very low MI score (0.000091), suggesting limited predictive power. Consider excluding it from the model.\n",
    "* The MI score for `requires_job_training` (0.000004) is extremely low, confirming our earlier finding of no significant association with the target variable using the Chi-Square Test of Independence. This feature will be excluded from the model."
   ]
  },
  {
   "cell_type": "markdown",
   "id": "cede0a90-fb69-4607-8e43-6ff652cf9544",
   "metadata": {},
   "source": [
    "#### Calculate Correlation Coefficient\n",
    "\n",
    "The Pearson correlation coefficient measures the linear relationship between two continuous variables. It can be used to assess the strength and direction of the linear relationship between numerical features and the binary target variable."
   ]
  },
  {
   "cell_type": "code",
   "execution_count": 26,
   "id": "ce3a3b71-4e83-483b-98c1-0282fe09204e",
   "metadata": {},
   "outputs": [
    {
     "data": {
      "text/plain": [
       "no_of_employees    0.010961\n",
       "yr_of_estab        0.008774\n",
       "prevailing_wage    0.078885\n",
       "dtype: float64"
      ]
     },
     "execution_count": 26,
     "metadata": {},
     "output_type": "execute_result"
    }
   ],
   "source": [
    "df_full_train[numerical].corrwith(df_full_train.case_status)"
   ]
  },
  {
   "cell_type": "markdown",
   "id": "d5ae3a7e-3ba1-4e9b-abdb-4309772b3510",
   "metadata": {},
   "source": [
    "Based on the correlation coefficient score of 0.075117 for `prevailing_wage`, we can infer a weak positive correlation between prevailing wage and the likelihood of visa certification by the OFLC."
   ]
  },
  {
   "cell_type": "code",
   "execution_count": 27,
   "id": "b6cfd37e-98fe-46af-ad36-3c60f2e95b9e",
   "metadata": {},
   "outputs": [
    {
     "data": {
      "text/plain": [
       "prevailing_wage    0.078885\n",
       "no_of_employees    0.010961\n",
       "yr_of_estab        0.008774\n",
       "dtype: float64"
      ]
     },
     "execution_count": 27,
     "metadata": {},
     "output_type": "execute_result"
    }
   ],
   "source": [
    "# Rank the importance of each numerical features\n",
    "corr_scores_abs = df_full_train[numerical].corrwith(df_full_train.case_status).abs().sort_values(ascending=False)\n",
    "corr_scores_abs"
   ]
  },
  {
   "cell_type": "code",
   "execution_count": 28,
   "id": "f45fe37b-b7ed-4b34-aee3-6d9b0bb6f63b",
   "metadata": {},
   "outputs": [
    {
     "data": {
      "image/png": "[encoded data removed]",
      "text/plain": [
       "<Figure size 640x480 with 1 Axes>"
      ]
     },
     "metadata": {},
     "output_type": "display_data"
    }
   ],
   "source": [
    "# Plot the bar graph\n",
    "corr_scores_abs.nlargest(20).plot(kind='barh', ec='black', color=['lightpink', 'paleturquoise', 'moccasin']).invert_yaxis()"
   ]
  },
  {
   "cell_type": "markdown",
   "id": "47d22f1d-1e9b-4967-b46b-4acc8cecba37",
   "metadata": {},
   "source": [
    "**Observation:** `prevailing_wage` emerged as the most important numerical feature, followed by `yr_of_estab` and then `no_of_employees` in predicting visa application approval. "
   ]
  },
  {
   "cell_type": "markdown",
   "id": "cb4c86a1-5066-4de2-877e-5cc3e876d213",
   "metadata": {},
   "source": [
    "### Baseline Model"
   ]
  },
  {
   "cell_type": "code",
   "execution_count": 29,
   "id": "df001096-130b-49c5-915b-76252b573b8a",
   "metadata": {},
   "outputs": [],
   "source": [
    "from sklearn.feature_extraction import DictVectorizer\n",
    "from sklearn.linear_model import LogisticRegression"
   ]
  },
  {
   "cell_type": "code",
   "execution_count": 30,
   "id": "b404e3d4-02e1-4f8a-9c51-efc53ec9ef1b",
   "metadata": {},
   "outputs": [
    {
     "data": {
      "text/plain": [
       "Index(['no_of_employees', 'yr_of_estab', 'prevailing_wage'], dtype='object')"
      ]
     },
     "execution_count": 30,
     "metadata": {},
     "output_type": "execute_result"
    }
   ],
   "source": [
    "numerical"
   ]
  },
  {
   "cell_type": "code",
   "execution_count": 31,
   "id": "5c1dccfe-6000-4ba2-9258-97a40817e8e8",
   "metadata": {},
   "outputs": [
    {
     "data": {
      "text/plain": [
       "Index(['continent', 'education_of_employee', 'has_job_experience',\n",
       "       'requires_job_training', 'region_of_employment', 'unit_of_wage',\n",
       "       'full_time_position'],\n",
       "      dtype='object')"
      ]
     },
     "execution_count": 31,
     "metadata": {},
     "output_type": "execute_result"
    }
   ],
   "source": [
    "categorical"
   ]
  },
  {
   "cell_type": "code",
   "execution_count": 37,
   "id": "0be837ff-3be0-4469-b4ec-1d2096705108",
   "metadata": {},
   "outputs": [
    {
     "data": {
      "text/plain": [
       "0.7328484371928445"
      ]
     },
     "execution_count": 37,
     "metadata": {},
     "output_type": "execute_result"
    }
   ],
   "source": [
    "dv = DictVectorizer(sparse=False)\n",
    "\n",
    "train_dict = df_train[list(categorical) + list(numerical)].to_dict(orient='records')\n",
    "X_train_baseline = dv.fit_transform(train_dict)\n",
    "\n",
    "val_dict = df_val[list(categorical) + list(numerical)].to_dict(orient='records')\n",
    "X_val_baseline = dv.transform(val_dict)\n",
    "\n",
    "model = LogisticRegression()\n",
    "model.fit(X_train_baseline, y_train)\n",
    "\n",
    "y_pred = model.predict_proba(X_val_baseline)[:, 1]\n",
    "approval_outcome = (y_pred >= 0.5)\n",
    "(y_val == approval_outcome).mean()"
   ]
  },
  {
   "cell_type": "markdown",
   "id": "d7ea60d1-e7c7-4fbc-bb7a-0333fb74abaa",
   "metadata": {},
   "source": [
    "Our baseline logistic regression model achieved an accuracy of 73.3%."
   ]
  },
  {
   "cell_type": "code",
   "execution_count": 38,
   "id": "f0ed009e-d391-4d76-84f8-aa17973af49e",
   "metadata": {},
   "outputs": [
    {
     "name": "stdout",
     "output_type": "stream",
     "text": [
      "0.00 0.666\n",
      "0.05 0.666\n",
      "0.10 0.668\n",
      "0.15 0.672\n",
      "0.20 0.686\n",
      "0.25 0.689\n",
      "0.30 0.694\n",
      "0.35 0.703\n",
      "0.40 0.711\n",
      "0.45 0.725\n",
      "0.50 0.733\n",
      "0.55 0.737\n",
      "0.60 0.731\n",
      "0.65 0.695\n",
      "0.70 0.664\n",
      "0.75 0.657\n",
      "0.80 0.594\n",
      "0.85 0.507\n",
      "0.90 0.438\n",
      "0.95 0.340\n",
      "1.00 0.334\n"
     ]
    }
   ],
   "source": [
    "thresholds = np.linspace(0, 1, 21)\n",
    "scores = []\n",
    "\n",
    "for t in thresholds:\n",
    "    approval_outcome = (y_pred >= t)\n",
    "    score = (y_val == approval_outcome).mean()\n",
    "    print('%.2f %.3f' % (t, score))\n",
    "    scores.append(score)"
   ]
  },
  {
   "cell_type": "code",
   "execution_count": 39,
   "id": "a57e2e63-a1dd-4ee1-a4ad-363136246e3d",
   "metadata": {},
   "outputs": [
    {
     "data": {
      "text/plain": [
       "Text(0.5, 0, 'Threshold')"
      ]
     },
     "execution_count": 39,
     "metadata": {},
     "output_type": "execute_result"
    },
    {
     "data": {
      "image/png": "[encoded data removed]",
      "text/plain": [
       "<Figure size 640x480 with 1 Axes>"
      ]
     },
     "metadata": {},
     "output_type": "display_data"
    }
   ],
   "source": [
    "# Create a plot that shows how accuracy changes depending on the threshold\n",
    "plt.plot(thresholds, scores)\n",
    "plt.ylabel('Accuracy')\n",
    "plt.xlabel('Threshold')"
   ]
  },
  {
   "cell_type": "code",
   "execution_count": 41,
   "id": "45c32cd7-9c5a-4a25-a05e-30649f7910d4",
   "metadata": {},
   "outputs": [
    {
     "data": {
      "text/plain": [
       "0.7379595046196187"
      ]
     },
     "execution_count": 41,
     "metadata": {},
     "output_type": "execute_result"
    }
   ],
   "source": [
    "approval_outcome = (y_pred >= 0.56)\n",
    "score = (y_val == approval_outcome).mean()\n",
    "score"
   ]
  },
  {
   "cell_type": "markdown",
   "id": "02ef19e8-44f3-47c4-bfa2-813d35cc869c",
   "metadata": {},
   "source": [
    "Through experimentation with various thresholds between 0 and 1, we determined that a threshold of 0.56 yielded the highest accuracy (73.8%) for our logistic regression model on this specific dataset."
   ]
  },
  {
   "cell_type": "markdown",
   "id": "6043080f-3af8-4fe0-959d-f7cf2de2c6d1",
   "metadata": {},
   "source": [
    "### Dummy Model"
   ]
  },
  {
   "cell_type": "code",
   "execution_count": 43,
   "id": "59d67732-3888-43d0-a08c-1943d079fd7b",
   "metadata": {},
   "outputs": [],
   "source": [
    "from collections import Counter"
   ]
  },
  {
   "cell_type": "code",
   "execution_count": 44,
   "id": "84c9b84b-199e-4f2a-b428-db702c591e0d",
   "metadata": {},
   "outputs": [
    {
     "data": {
      "text/plain": [
       "5087"
      ]
     },
     "execution_count": 44,
     "metadata": {},
     "output_type": "execute_result"
    }
   ],
   "source": [
    "len(y_val)"
   ]
  },
  {
   "cell_type": "code",
   "execution_count": 45,
   "id": "9e3819b7-5439-4507-ad5d-bc8918baf156",
   "metadata": {},
   "outputs": [
    {
     "data": {
      "text/plain": [
       "Counter({1: 3387, 0: 1700})"
      ]
     },
     "execution_count": 45,
     "metadata": {},
     "output_type": "execute_result"
    }
   ],
   "source": [
    "# Count # of Certified & Denied values in validation set\n",
    "Counter(y_val)"
   ]
  },
  {
   "cell_type": "code",
   "execution_count": 46,
   "id": "cae29ee4-9d9f-4f5e-a8fc-b11c8ddb3994",
   "metadata": {},
   "outputs": [
    {
     "data": {
      "text/plain": [
       "0.6658148220955377"
      ]
     },
     "execution_count": 46,
     "metadata": {},
     "output_type": "execute_result"
    }
   ],
   "source": [
    "y_val.mean()"
   ]
  },
  {
   "cell_type": "code",
   "execution_count": 47,
   "id": "5bc6e4b9-87de-4e46-920f-ff238d55d551",
   "metadata": {},
   "outputs": [
    {
     "data": {
      "text/plain": [
       "0.33418517790446234"
      ]
     },
     "execution_count": 47,
     "metadata": {},
     "output_type": "execute_result"
    }
   ],
   "source": [
    "1 - y_val.mean()"
   ]
  },
  {
   "cell_type": "markdown",
   "id": "1c77d51a-c59e-45fb-b001-774d5d685cfb",
   "metadata": {},
   "source": [
    "**Observations:**\n",
    "* The baseline logistic regression model achieved an accuracy of 73.3%, which is only a slight improvement (6%) over a simple dummy model that always predicts \"Certified.\" \n",
    "* This limited improvement suggests that the model may not be effectively capturing the underlying patterns in the data.\n",
    "\n",
    "**Class Imbalance:**\n",
    "* The dataset exhibits class imbalance, with approximately 67% of applications certified and 33% denied. \n",
    "* In such scenarios, accuracy can be a misleading metric. A model that simply predicts the majority class (in this case, \"Certified\") will achieve high accuracy without necessarily capturing meaningful relationships within the data."
   ]
  },
  {
   "cell_type": "markdown",
   "id": "0d8515a7-baa4-4d32-a603-5901c22910d8",
   "metadata": {},
   "source": [
    "### Baseline Model Evaluation Metrics"
   ]
  },
  {
   "cell_type": "code",
   "execution_count": 71,
   "id": "f2542f25-4773-4422-86b2-edb6b85e1058",
   "metadata": {},
   "outputs": [],
   "source": [
    "# Split the target variable y in validation set into certified and denied\n",
    "actual_positive = (y_val == 1)\n",
    "actual_negative = (y_val == 0)"
   ]
  },
  {
   "cell_type": "code",
   "execution_count": 72,
   "id": "ddaf41d0-61be-4a87-82b2-e0651597d73e",
   "metadata": {},
   "outputs": [],
   "source": [
    "# Split the predictions on validation set into certified and denied\n",
    "t = 0.5\n",
    "predict_positive = (y_pred >= t)\n",
    "predict_negative = (y_pred < t)"
   ]
  },
  {
   "cell_type": "code",
   "execution_count": 73,
   "id": "20c56cfd-c19a-40a1-80eb-f61cd17df144",
   "metadata": {},
   "outputs": [],
   "source": [
    "# Combine prediction and actual into one and count how many of them\n",
    "tp = (predict_positive & actual_positive).sum()\n",
    "tn = (predict_negative & actual_negative).sum()\n",
    "\n",
    "fp = (predict_positive & actual_negative).sum()\n",
    "fn = (predict_negative & actual_positive).sum()"
   ]
  },
  {
   "cell_type": "code",
   "execution_count": 74,
   "id": "3d51f2c8-b94e-4675-a70f-e28f55848496",
   "metadata": {},
   "outputs": [
    {
     "data": {
      "text/plain": [
       "array([[ 739,  961],\n",
       "       [ 398, 2989]])"
      ]
     },
     "execution_count": 74,
     "metadata": {},
     "output_type": "execute_result"
    }
   ],
   "source": [
    "confusion_matrix = np.array([\n",
    "    [tn, fp],\n",
    "    [fn, tp]\n",
    "])\n",
    "confusion_matrix"
   ]
  },
  {
   "cell_type": "markdown",
   "id": "23b0ab25-e7ca-4feb-bf7d-4ea232c6b907",
   "metadata": {},
   "source": [
    "Now we know what kind of errors the model makes. We have more false positives than false negatives.\n",
    "\n",
    "Two different types of errors, with false positives being more difficult to catch. "
   ]
  },
  {
   "cell_type": "code",
   "execution_count": 75,
   "id": "a6e3a21d-ab69-4453-b803-8ae5cad78860",
   "metadata": {},
   "outputs": [
    {
     "data": {
      "text/plain": [
       "array([[0.15, 0.19],\n",
       "       [0.08, 0.59]])"
      ]
     },
     "execution_count": 75,
     "metadata": {},
     "output_type": "execute_result"
    }
   ],
   "source": [
    "# Instead of absolute numbers, we can have percentages\n",
    "(confusion_matrix / confusion_matrix.sum()).round(2)"
   ]
  },
  {
   "cell_type": "markdown",
   "id": "c80e2510-0e63-44fa-a536-3dacb020aaf3",
   "metadata": {},
   "source": [
    "**Model Misclassifications:**\n",
    "- **False Positives:** The model predicts that an application will be certified, but it should be denied.\n",
    "  - This can result in unqualified individuals filling positions that could be filled by qualified U.S. citizens, potentially leading to job displacement.\n",
    "- **False Negatives:** The model predicts that an application will be denied, but it should be certified.\n",
    "  - This can lead to the rejection of qualified and skilled foreign workers, potentially hindering economic growth and depriving the U.S. of valuable human resources.\n",
    "\n",
    "**Importance of Minimizing Misclassifications:**\n",
    "\n",
    "Both types of misclassifications have significant consequences.\n",
    "- **False Positives:** Can lead to unfair competition for U.S. workers and potential security concerns.\n",
    "- **False Negatives:** Can result in the loss of skilled labor and hinder economic growth.\n",
    "\n",
    "**Addressing Misclassifications:**\n",
    "- The F1 score is a valuable metric for evaluating the model's performance, as it considers both precision (minimizing false positives) and recall (minimizing false negatives).\n",
    "- Higher F1 scores generally indicate better model performance in minimizing both types of misclassifications."
   ]
  },
  {
   "cell_type": "code",
   "execution_count": 76,
   "id": "d8ee4da1-6e37-4939-b4f9-95d933b9ad49",
   "metadata": {},
   "outputs": [
    {
     "data": {
      "text/plain": [
       "0.7328484371928445"
      ]
     },
     "execution_count": 76,
     "metadata": {},
     "output_type": "execute_result"
    }
   ],
   "source": [
    "# Calculate accuracy\n",
    "acc = (tp + tn) / (tp + tn + fp + fn)\n",
    "acc"
   ]
  },
  {
   "cell_type": "code",
   "execution_count": 77,
   "id": "d04e66ac-a060-41e8-bb02-3679888a7f7b",
   "metadata": {},
   "outputs": [
    {
     "data": {
      "text/plain": [
       "0.7567088607594936"
      ]
     },
     "execution_count": 77,
     "metadata": {},
     "output_type": "execute_result"
    }
   ],
   "source": [
    "# Calculate precision\n",
    "p = tp / (tp + fp)\n",
    "p"
   ]
  },
  {
   "cell_type": "code",
   "execution_count": 78,
   "id": "7cd5bb4b-f0cc-4b85-831b-74bf82f8d53d",
   "metadata": {},
   "outputs": [
    {
     "data": {
      "text/plain": [
       "0.24329113924050638"
      ]
     },
     "execution_count": 78,
     "metadata": {},
     "output_type": "execute_result"
    }
   ],
   "source": [
    "1 - p"
   ]
  },
  {
   "cell_type": "markdown",
   "id": "9942c6c5-615e-4048-b615-74da09b2bcb1",
   "metadata": {},
   "source": [
    "Approximately 24% of the model's predictions are false positives, meaning the model incorrectly predicts that an application should be certified when it should actually be denied."
   ]
  },
  {
   "cell_type": "code",
   "execution_count": 79,
   "id": "7421e412-8e37-4384-8bc2-888de8db8274",
   "metadata": {},
   "outputs": [
    {
     "data": {
      "text/plain": [
       "0.8824918807204015"
      ]
     },
     "execution_count": 79,
     "metadata": {},
     "output_type": "execute_result"
    }
   ],
   "source": [
    "# Calculate recall\n",
    "r = tp / (tp + fn)\n",
    "r"
   ]
  },
  {
   "cell_type": "code",
   "execution_count": 80,
   "id": "8d5cef82-a197-4561-bfc3-4ec0a5bbeac9",
   "metadata": {},
   "outputs": [
    {
     "data": {
      "text/plain": [
       "0.11750811927959848"
      ]
     },
     "execution_count": 80,
     "metadata": {},
     "output_type": "execute_result"
    }
   ],
   "source": [
    "1 - r"
   ]
  },
  {
   "cell_type": "markdown",
   "id": "76a5c2d6-01bd-4647-a2aa-5f4df7ec85b9",
   "metadata": {},
   "source": [
    "Our model failed to identify approximately 12% of applications that should have been certified (false negative rate of 12%).\n",
    "\n",
    "While an overall accuracy of 73.3% might seem decent, it can be misleading due to class imbalance. A closer look at precision and recall reveals that our model exhibits strong performance in identifying true positives."
   ]
  },
  {
   "cell_type": "code",
   "execution_count": 81,
   "id": "26975071-6999-468c-936a-0efb323cf315",
   "metadata": {},
   "outputs": [
    {
     "data": {
      "text/plain": [
       "0.8147744309663351"
      ]
     },
     "execution_count": 81,
     "metadata": {},
     "output_type": "execute_result"
    }
   ],
   "source": [
    "# Calculate f1 score\n",
    "f1_score = 2 * p * r / (p + r)\n",
    "f1_score"
   ]
  },
  {
   "cell_type": "markdown",
   "id": "184452a0-43e6-40f8-a1b5-26157193ab46",
   "metadata": {},
   "source": [
    "With an F1-score of 0.81, the model demonstrates excellent performance. This high score reflects a strong balance between precision and recall, effectively identifying true positives while minimizing both false positives and false negatives. This indicates a highly accurate and reliable model for predicting visa application outcomes. "
   ]
  },
  {
   "cell_type": "code",
   "execution_count": 82,
   "id": "072a0249-179b-4276-9e7f-1a74a330490f",
   "metadata": {},
   "outputs": [],
   "source": [
    "from sklearn.metrics import roc_curve"
   ]
  },
  {
   "cell_type": "code",
   "execution_count": 83,
   "id": "398570c9-6be8-4e3c-8755-74a2029c8f37",
   "metadata": {},
   "outputs": [],
   "source": [
    "fpr, tpr, thresholds = roc_curve(y_val, y_pred)"
   ]
  },
  {
   "cell_type": "code",
   "execution_count": 116,
   "id": "ab89e4dd-006c-41ba-81c4-d8f31050b140",
   "metadata": {},
   "outputs": [
    {
     "data": {
      "text/plain": [
       "<matplotlib.legend.Legend at 0x21b626c4c90>"
      ]
     },
     "execution_count": 116,
     "metadata": {},
     "output_type": "execute_result"
    },
    {
     "data": {
      "image/png": "[encoded data removed]",
      "text/plain": [
       "<Figure size 500x500 with 1 Axes>"
      ]
     },
     "metadata": {},
     "output_type": "display_data"
    }
   ],
   "source": [
    "# Plot the ROC curves\n",
    "plt.figure(figsize=(5, 5))\n",
    "\n",
    "plt.plot(fpr, tpr, label='Model')\n",
    "plt.plot([0, 1], [0, 1], label='Random', linestyle='--')\n",
    "plt.xlim(xmin=0.0)\n",
    "plt.ylim(ymin=0.0)\n",
    "\n",
    "plt.xlabel('FPR')\n",
    "plt.ylabel('TPR')\n",
    "\n",
    "plt.legend()"
   ]
  },
  {
   "cell_type": "markdown",
   "id": "dc412243-6cd8-4630-aae4-3b0839904e0f",
   "metadata": {},
   "source": [
    "**Understanding model performance with ROC Curves**\n",
    "\n",
    "ROC curves visualize how a model's performance changes as the classification threshold varies. At very high thresholds, all models tend to predict \"Denied,\" leading to low True Positive Rates (TPR) and low False Positive Rates (FPR).\n",
    "\n",
    "Good models exhibit a steep initial increase in TPR with minimal increase in FPR as the threshold decreases. This indicates a strong ability to correctly classify true positives while minimizing false positives. The ROC curve of a good model typically ascends sharply towards the top-left corner of the plot.\n",
    "\n",
    "On the other hand, poor models demonstrate a rapid increase in FPR alongside TPR, indicating a higher rate of false positive predictions. The ROC curve of a poor model tends to have a shallower slope and may curve towards the right sooner."
   ]
  },
  {
   "cell_type": "code",
   "execution_count": 88,
   "id": "460b5ffe-35da-4ed4-8925-f129d5489ab4",
   "metadata": {},
   "outputs": [],
   "source": [
    "from sklearn.metrics import roc_auc_score"
   ]
  },
  {
   "cell_type": "code",
   "execution_count": 114,
   "id": "72fc9f14-daf1-4787-932e-8c11484f702a",
   "metadata": {},
   "outputs": [
    {
     "data": {
      "text/plain": [
       "0.7578002396707133"
      ]
     },
     "execution_count": 114,
     "metadata": {},
     "output_type": "execute_result"
    }
   ],
   "source": [
    "auroc = roc_auc_score(y_val, y_pred)\n",
    "auroc"
   ]
  },
  {
   "cell_type": "markdown",
   "id": "e2fc3f06-a8d5-49ab-a393-656ac4139dc2",
   "metadata": {},
   "source": [
    "The baseline model exhibits an AUROC score of 0.7578. While this score is moderate, it suggests that the model may have limited ability to effectively differentiate between positive and negative instances."
   ]
  },
  {
   "cell_type": "code",
   "execution_count": 112,
   "id": "99a3f52b-b359-405f-9420-217bc5963012",
   "metadata": {},
   "outputs": [],
   "source": [
    "from sklearn.metrics import precision_recall_curve, average_precision_score"
   ]
  },
  {
   "cell_type": "code",
   "execution_count": 93,
   "id": "11ef02c1-187c-4755-9caf-c5bc5e8cd601",
   "metadata": {},
   "outputs": [],
   "source": [
    "precision, recall, thresholds = precision_recall_curve(y_val, y_pred)"
   ]
  },
  {
   "cell_type": "code",
   "execution_count": 115,
   "id": "cdb502f8-a1bd-424d-9df3-64209818ed28",
   "metadata": {},
   "outputs": [
    {
     "data": {
      "image/png": "[encoded data removed]",
      "text/plain": [
       "<Figure size 500x500 with 1 Axes>"
      ]
     },
     "metadata": {},
     "output_type": "display_data"
    }
   ],
   "source": [
    "# Plot the PR curve\n",
    "plt.figure(figsize=(5, 5))\n",
    "\n",
    "plt.plot(recall, precision, label='Model')\n",
    "plt.xlim(xmin=0.0)\n",
    "plt.ylim(ymin=0.0)\n",
    "\n",
    "plt.xlabel('Recall')\n",
    "plt.ylabel('Precision')\n",
    "\n",
    "plt.legend()\n",
    "plt.show()"
   ]
  },
  {
   "cell_type": "code",
   "execution_count": 113,
   "id": "04c05aad-e6ff-4d6b-bcc5-ad14b178e17f",
   "metadata": {},
   "outputs": [
    {
     "data": {
      "text/plain": [
       "0.8539331481681338"
      ]
     },
     "execution_count": 113,
     "metadata": {},
     "output_type": "execute_result"
    }
   ],
   "source": [
    "auprc = average_precision_score(y_val, y_pred)\n",
    "auprc"
   ]
  },
  {
   "cell_type": "code",
   "execution_count": null,
   "id": "634d711b-2355-4b6b-af55-6be86ce0106e",
   "metadata": {},
   "outputs": [],
   "source": []
  },
  {
   "cell_type": "markdown",
   "id": "aa476034-e80d-4f84-8e63-447042e52606",
   "metadata": {},
   "source": [
    "### Feature Extraction"
   ]
  },
  {
   "cell_type": "markdown",
   "id": "a8acda19-c20c-427e-a32d-03168b674d32",
   "metadata": {},
   "source": [
    "#### Determine company age based on the current year and establishment year"
   ]
  },
  {
   "cell_type": "code",
   "execution_count": null,
   "id": "913c7480-7c3a-4d23-8938-9d71f7163568",
   "metadata": {},
   "outputs": [],
   "source": [
    "# Add a new column for company age\n",
    "year = 2016\n",
    "df_train['company_age'] = year - df_train['yr_of_estab']\n",
    "df_val['company_age'] = year - df_val['yr_of_estab']\n",
    "\n",
    "# Remove the year of establishment column\n",
    "del df_train['yr_of_estab']\n",
    "del df_val['yr_of_estab']"
   ]
  },
  {
   "cell_type": "code",
   "execution_count": null,
   "id": "b6e2b483-3f72-4437-91f6-6157aac218f1",
   "metadata": {},
   "outputs": [],
   "source": [
    "df_train.head().T"
   ]
  },
  {
   "cell_type": "code",
   "execution_count": null,
   "id": "1570a0ea-ea31-417a-9118-6d8648daf8f6",
   "metadata": {},
   "outputs": [],
   "source": [
    "numerical = df_train.select_dtypes(exclude=\"object\").columns\n",
    "categorical = df_train.select_dtypes(include=\"object\").columns"
   ]
  },
  {
   "cell_type": "markdown",
   "id": "2ba3e3f0-1d12-44c4-987e-9feebf4a706b",
   "metadata": {},
   "source": [
    "### Feature Transformation"
   ]
  },
  {
   "cell_type": "code",
   "execution_count": null,
   "id": "847f7afe-d6b2-4a6a-be34-0d813dd06736",
   "metadata": {},
   "outputs": [],
   "source": []
  },
  {
   "cell_type": "code",
   "execution_count": null,
   "id": "cccf1fab-f335-4c57-9ca5-b595cb377892",
   "metadata": {},
   "outputs": [],
   "source": [
    "numerical"
   ]
  },
  {
   "cell_type": "code",
   "execution_count": null,
   "id": "a5472659-cb94-40d2-838e-095c05d73a24",
   "metadata": {},
   "outputs": [],
   "source": [
    "# Plot distribution of numerical features before scaling\n",
    "plt.figure(figsize=(12, 6))\n",
    "\n",
    "colors = ['lightpink', 'paleturquoise', 'moccasin']\n",
    "\n",
    "for i, feature in enumerate(numerical):\n",
    "    plt.subplot(2, 2, i+1)\n",
    "    # Plot the histogram\n",
    "    sns.histplot(x=df_train[feature], color=colors[i])\n",
    "    plt.xlabel(feature)\n",
    "    plt.tight_layout()\n",
    "\n",
    "plt.show()"
   ]
  },
  {
   "cell_type": "code",
   "execution_count": null,
   "id": "47b7d377-2431-46a7-ba1a-0f30714e73cc",
   "metadata": {},
   "outputs": [],
   "source": [
    "# Check Skewness\n",
    "df_train[numerical].skew(axis=0)"
   ]
  },
  {
   "cell_type": "code",
   "execution_count": null,
   "id": "d88418e5-896f-4f5a-a095-c4518655c365",
   "metadata": {},
   "outputs": [],
   "source": []
  },
  {
   "cell_type": "code",
   "execution_count": null,
   "id": "eb963c7e-47f0-4b77-87d3-bcd14008967e",
   "metadata": {},
   "outputs": [],
   "source": []
  },
  {
   "cell_type": "markdown",
   "id": "27cde732-766d-4e5b-8986-2cba831376c0",
   "metadata": {},
   "source": [
    "#### Experiment with Yeo-Johnson transformation"
   ]
  },
  {
   "cell_type": "code",
   "execution_count": null,
   "id": "052c52e6-302d-406d-9deb-a44a28915208",
   "metadata": {},
   "outputs": [],
   "source": [
    "from sklearn.preprocessing import PowerTransformer"
   ]
  },
  {
   "cell_type": "code",
   "execution_count": null,
   "id": "429efc97-c7a3-4a51-bfb8-f0afca745c32",
   "metadata": {},
   "outputs": [],
   "source": [
    "transform_features = ['no_of_employees', 'company_age']\n",
    "\n",
    "pt = PowerTransformer(method='yeo-johnson')\n",
    "X_train_transformed = pt.fit_transform(df_train[transform_features])"
   ]
  },
  {
   "cell_type": "code",
   "execution_count": null,
   "id": "7ef692ff-7925-4b63-a2a1-9b93928b5911",
   "metadata": {},
   "outputs": [],
   "source": [
    "df_transformed = pd.DataFrame(X_train_transformed, columns=transform_features)"
   ]
  },
  {
   "cell_type": "code",
   "execution_count": null,
   "id": "8681acf1-7471-46be-b3dc-4271c3d10bfd",
   "metadata": {},
   "outputs": [],
   "source": [
    "# Plot distribution of numerical features after scaling\n",
    "plt.figure(figsize=(12, 5))\n",
    "\n",
    "colors = ['lightpink', 'moccasin']\n",
    "\n",
    "for i, feature in enumerate(transform_features):\n",
    "    plt.subplot(1, 2, i+1)\n",
    "    # Plot the histogram\n",
    "    sns.histplot(x=df_transformed[feature], color=colors[i])\n",
    "    plt.xlabel(feature)\n",
    "    plt.tight_layout()\n",
    "\n",
    "plt.show()"
   ]
  },
  {
   "cell_type": "code",
   "execution_count": null,
   "id": "a9089cef-80dd-47ec-96c5-739886b6bd20",
   "metadata": {},
   "outputs": [],
   "source": [
    "# Check Skewness\n",
    "df_transformed.skew(axis=0)"
   ]
  },
  {
   "cell_type": "code",
   "execution_count": null,
   "id": "ab6e90e4-f6b0-4c48-bd81-e2c8c86d598f",
   "metadata": {},
   "outputs": [],
   "source": []
  },
  {
   "cell_type": "markdown",
   "id": "ab107d0f-4a39-44f6-a127-68c431b276fd",
   "metadata": {},
   "source": [
    "#### Perform Feature Encoding and Scaling"
   ]
  },
  {
   "cell_type": "code",
   "execution_count": null,
   "id": "6f98ce9b-fdff-4f78-8beb-95a5ac2a4e4d",
   "metadata": {},
   "outputs": [],
   "source": [
    "df_train.has_job_experience.head()"
   ]
  },
  {
   "cell_type": "code",
   "execution_count": null,
   "id": "0f54d92e-b40d-4f39-a933-9108aaee4c97",
   "metadata": {},
   "outputs": [],
   "source": [
    "# Replace Y/N with a number: 1 (Y) or 0 (N)\n",
    "df_train.has_job_experience = (df_train.has_job_experience == 'Y').astype(int)\n",
    "df_val.has_job_experience = (df_val.has_job_experience == 'Y').astype(int)\n",
    "df_train.has_job_experience[:5]"
   ]
  },
  {
   "cell_type": "code",
   "execution_count": null,
   "id": "a69180b2-f5e6-417a-9aff-ebc1ec72b81b",
   "metadata": {},
   "outputs": [],
   "source": [
    "df_train.full_time_position.head()"
   ]
  },
  {
   "cell_type": "code",
   "execution_count": null,
   "id": "acf46b28-8218-4505-9b33-d45f30c7f87a",
   "metadata": {},
   "outputs": [],
   "source": [
    "# Replace Y/N with a number: 1 (Y) or 0 (N)\n",
    "df_train.full_time_position = (df_train.full_time_position == 'Y').astype(int)\n",
    "df_val.full_time_position = (df_val.full_time_position == 'Y').astype(int)\n",
    "df_train.full_time_position[:5]"
   ]
  },
  {
   "cell_type": "code",
   "execution_count": null,
   "id": "fc3c6237-2025-4416-a158-5fe2eddfe888",
   "metadata": {},
   "outputs": [],
   "source": [
    "df_train.requires_job_training.head()"
   ]
  },
  {
   "cell_type": "code",
   "execution_count": null,
   "id": "b918cdf7-0e87-4a22-96f0-570933f5cd5c",
   "metadata": {},
   "outputs": [],
   "source": [
    "# Replace Y/N with a number: 1 (Y) or 0 (N)\n",
    "df_train.requires_job_training = (df_train.requires_job_training == 'Y').astype(int)\n",
    "df_val.requires_job_training = (df_val.requires_job_training == 'Y').astype(int)\n",
    "df_train.requires_job_training[:5]"
   ]
  },
  {
   "cell_type": "code",
   "execution_count": null,
   "id": "8ea1dd98-7fd7-4e96-a0aa-1065f3352f31",
   "metadata": {},
   "outputs": [],
   "source": [
    "df_train.head()"
   ]
  },
  {
   "cell_type": "code",
   "execution_count": null,
   "id": "bcefe683-b263-4f1c-a23b-ee14d7167909",
   "metadata": {},
   "outputs": [],
   "source": []
  },
  {
   "cell_type": "code",
   "execution_count": null,
   "id": "4e4e82eb-fb26-403c-979c-17716cb00033",
   "metadata": {},
   "outputs": [],
   "source": [
    "from sklearn.preprocessing import OneHotEncoder, StandardScaler, OrdinalEncoder, PowerTransformer\n",
    "from sklearn.compose import ColumnTransformer \n",
    "from sklearn.pipeline import Pipeline"
   ]
  },
  {
   "cell_type": "code",
   "execution_count": null,
   "id": "2f009014-3981-4c60-acc5-db3be626412b",
   "metadata": {},
   "outputs": [],
   "source": [
    "# Create ColumnTransformer with 2 types of transformers\n",
    "oh_columns = ['continent', 'unit_of_wage', 'region_of_employment', 'education_of_employee']\n",
    "transform_columns= ['no_of_employees', 'company_age']\n",
    "\n",
    "oh_transformer = OneHotEncoder()\n",
    "\n",
    "transform_pipeline = Pipeline(steps=[\n",
    "    ('transformer', PowerTransformer(method='yeo-johnson'))\n",
    "])\n",
    "\n",
    "numeric_transformer = StandardScaler()\n",
    "\n",
    "preprocessor = ColumnTransformer(\n",
    "    [\n",
    "        (\"OneHotEncoder\", oh_transformer, oh_columns),\n",
    "        (\"Transformer\", transform_pipeline, transform_columns),\n",
    "        (\"StandardScaler\", numeric_transformer, numerical)\n",
    "    ], remainder='passthrough'\n",
    ")"
   ]
  },
  {
   "cell_type": "code",
   "execution_count": null,
   "id": "1ad7d744-e2a9-4752-9022-15b8f086be02",
   "metadata": {},
   "outputs": [],
   "source": [
    "X_train = preprocessor.fit_transform(df_train)\n",
    "X_train[0]"
   ]
  },
  {
   "cell_type": "code",
   "execution_count": null,
   "id": "c9a1ca5b-b965-4238-8085-5074407c09f1",
   "metadata": {},
   "outputs": [],
   "source": [
    "X_train.shape"
   ]
  },
  {
   "cell_type": "code",
   "execution_count": null,
   "id": "bd9dcaae-9807-43af-979c-73bbef3bbfe0",
   "metadata": {},
   "outputs": [],
   "source": [
    "preprocessor.get_feature_names_out()"
   ]
  },
  {
   "cell_type": "code",
   "execution_count": null,
   "id": "f2300e63-2b94-45dc-9934-d68ec5308651",
   "metadata": {},
   "outputs": [],
   "source": [
    "df_train.head(1)"
   ]
  },
  {
   "cell_type": "code",
   "execution_count": null,
   "id": "2a44b8b8-2774-4196-88cf-21170e229a43",
   "metadata": {},
   "outputs": [],
   "source": [
    "X_val = preprocessor.transform(df_val)\n",
    "X_val[0]"
   ]
  },
  {
   "cell_type": "code",
   "execution_count": null,
   "id": "70eae3c6-f274-4687-89fe-8bcc5c82b739",
   "metadata": {},
   "outputs": [],
   "source": [
    "X_val.shape"
   ]
  },
  {
   "cell_type": "code",
   "execution_count": null,
   "id": "6a09f9d7-ddb0-4015-84e5-b9fc5cc35770",
   "metadata": {},
   "outputs": [],
   "source": []
  },
  {
   "cell_type": "code",
   "execution_count": null,
   "id": "2112e4cd-d810-4411-89f2-02b28f75cbfe",
   "metadata": {},
   "outputs": [],
   "source": []
  },
  {
   "cell_type": "code",
   "execution_count": null,
   "id": "81d3f7b4-e390-4beb-a8f4-c5ebfb4d0671",
   "metadata": {},
   "outputs": [],
   "source": [
    "\n",
    "from sklearn.ensemble import RandomForestClassifier, AdaBoostClassifier, GradientBoostingClassifier\n",
    "from sklearn.neighbors import KNeighborsClassifier\n",
    "from sklearn.tree import DecisionTreeClassifier\n",
    "from sklearn.svm import SVC\n",
    "from sklearn.metrics import (accuracy_score, classification_report, ConfusionMatrixDisplay, precision_score, \n",
    "                            recall_score, f1_score, roc_auc_score, roc_curve) \n",
    "from xgboost import XGBClassifier\n",
    "from catboost import CatBoostClassifier"
   ]
  },
  {
   "cell_type": "code",
   "execution_count": null,
   "id": "a5f4a13c-a0d8-4689-892a-58dac08eb360",
   "metadata": {},
   "outputs": [],
   "source": [
    "def evaluate_clf(y, y_pred):\n",
    "    acc = accuracy_score(y, y_pred)\n",
    "    f1 = f1_score(y, y_pred)\n",
    "    precision = precision_score(y, y_pred)\n",
    "    recall = recall_score(y, y_pred)\n",
    "    auroc = roc_auc_score(y, y_pred)\n",
    "    return acc, f1 , precision, recall, auroc"
   ]
  },
  {
   "cell_type": "code",
   "execution_count": null,
   "id": "2bcd8050-c663-40ea-8ba0-b4e2e13208e7",
   "metadata": {},
   "outputs": [],
   "source": [
    "models = {\n",
    "    \"Random Forest\": RandomForestClassifier(random_state=42),\n",
    "    \"Decision Tree\": DecisionTreeClassifier(random_state=42),\n",
    "    \"Gradient Boosting\": GradientBoostingClassifier(random_state=42),\n",
    "    \"Logistic Regression\": LogisticRegression(),\n",
    "    \"K-Neighbors Classifier\": KNeighborsClassifier(),\n",
    "    \"XGBClassifier\": XGBClassifier(random_state=42), \n",
    "    \"CatBoosting Classifier\": CatBoostClassifier(random_state=42, verbose=False),\n",
    "    \"Support Vector Classifier\": SVC(),\n",
    "    \"AdaBoost Classifier\": AdaBoostClassifier(random_state=42)\n",
    "}"
   ]
  },
  {
   "cell_type": "code",
   "execution_count": null,
   "id": "dd5de114-30c8-4a5a-a42a-be806054cb8a",
   "metadata": {},
   "outputs": [],
   "source": [
    "# Evaluate models and return a report \n",
    "def evaluate_models(X_train, y_train, X_test, y_test, models):\n",
    "    models_list = []\n",
    "    accuracy_list = []\n",
    "    f1_list = []\n",
    "    auc_list = []\n",
    "    \n",
    "    for i in range(len(list(models))):\n",
    "        model = list(models.values())[i]\n",
    "        # Train the model\n",
    "        model.fit(X_train, y_train)\n",
    "\n",
    "        # Make predictions\n",
    "        y_train_pred = model.predict(X_train)\n",
    "        y_test_pred = model.predict(X_test)\n",
    "\n",
    "        # Training set performance\n",
    "        (model_train_accuracy, model_train_f1, model_train_precision,\n",
    "        model_train_recall, model_train_auroc_score) = evaluate_clf(y_train ,y_train_pred)\n",
    "\n",
    "        # Validation set performance\n",
    "        (model_test_accuracy, model_test_f1, model_test_precision,\n",
    "        model_test_recall, model_test_auroc_score) = evaluate_clf(y_test, y_test_pred)\n",
    "\n",
    "        print(list(models.keys())[i])\n",
    "        models_list.append(list(models.keys())[i])\n",
    "\n",
    "        print('Model performance on Training set')\n",
    "        print(\"- Accuracy: {:.4f}\".format(model_train_accuracy))\n",
    "        print('- F1 score: {:.4f}'.format(model_train_f1)) \n",
    "        print('- Precision: {:.4f}'.format(model_train_precision))\n",
    "        print('- Recall: {:.4f}'.format(model_train_recall))\n",
    "        print('- AUROC score: {:.4f}'.format(model_train_auroc_score))\n",
    "\n",
    "        print('----------------------------------')\n",
    "\n",
    "        print('Model performance on Validation set')\n",
    "        print('- Accuracy: {:.4f}'.format(model_test_accuracy))\n",
    "        accuracy_list.append(model_test_accuracy)\n",
    "        print('- F1 score: {:.4f}'.format(model_test_f1))\n",
    "        f1_list.append(model_test_f1)\n",
    "        print('- Precision: {:.4f}'.format(model_test_precision))\n",
    "        print('- Recall: {:.4f}'.format(model_test_recall))\n",
    "        print('- AUROC score: {:.4f}'.format(model_test_auroc_score))\n",
    "        auc_list.append(model_test_auroc_score)\n",
    "        print('='*35)\n",
    "        print('\\n')\n",
    "        \n",
    "    report = pd.DataFrame(list(zip(models_list, accuracy_list, f1_list, auc_list)), \n",
    "                          columns=['Model Name', 'Accuracy', 'F1 Score', 'ROC AUC']).sort_values(by=['Accuracy'], \n",
    "                                                                                                 ascending=False)\n",
    "        \n",
    "    return report"
   ]
  },
  {
   "cell_type": "code",
   "execution_count": null,
   "id": "899f4be1-4bc0-461a-bf2b-8296294bee50",
   "metadata": {},
   "outputs": [],
   "source": []
  },
  {
   "cell_type": "code",
   "execution_count": null,
   "id": "d06a91c0-14a1-4de2-a8c8-03bdd5a4999a",
   "metadata": {},
   "outputs": [],
   "source": [
    "Counter(y_train)"
   ]
  },
  {
   "cell_type": "code",
   "execution_count": null,
   "id": "4747e3c2-55fc-44d4-aea4-a55569aacff1",
   "metadata": {},
   "outputs": [],
   "source": [
    "base_model_report = evaluate_models(X_train=X_train, y_train=y_train, \n",
    "                                    X_test=X_val, y_test=y_val, models=models)"
   ]
  },
  {
   "cell_type": "code",
   "execution_count": null,
   "id": "04dfb077-db30-4c68-af2a-dd8ab2e4223d",
   "metadata": {},
   "outputs": [],
   "source": [
    "base_model_report"
   ]
  },
  {
   "cell_type": "code",
   "execution_count": null,
   "id": "c6c99b00-d636-4a4c-b0cb-8e3d8b30eeb1",
   "metadata": {},
   "outputs": [],
   "source": []
  },
  {
   "cell_type": "code",
   "execution_count": null,
   "id": "3cea81e8-e7c7-4fb4-895e-1f20906a0d08",
   "metadata": {},
   "outputs": [],
   "source": [
    "from imblearn.over_sampling import SMOTE"
   ]
  },
  {
   "cell_type": "code",
   "execution_count": null,
   "id": "497c715f-40c0-486d-b116-014fba565440",
   "metadata": {},
   "outputs": [],
   "source": [
    "smt = SMOTE(random_state=42)\n",
    "X_train_sm, y_train_sm = smt.fit_resample(X_train, y_train)"
   ]
  },
  {
   "cell_type": "code",
   "execution_count": null,
   "id": "a5224fc3-1f0f-46a7-bcac-142d27927a52",
   "metadata": {},
   "outputs": [],
   "source": [
    "Counter(y_train_sm)"
   ]
  },
  {
   "cell_type": "code",
   "execution_count": null,
   "id": "4eb4be25-3b16-4d4e-9e16-9f37c7b97ef8",
   "metadata": {},
   "outputs": [],
   "source": [
    "base_model_report = evaluate_models(X_train=X_train_sm, y_train=y_train_sm, \n",
    "                                    X_test=X_val, y_test=y_val, models=models)"
   ]
  },
  {
   "cell_type": "code",
   "execution_count": null,
   "id": "790b2293-0b5a-4dba-916f-2543734663e2",
   "metadata": {},
   "outputs": [],
   "source": [
    "base_model_report"
   ]
  },
  {
   "cell_type": "code",
   "execution_count": null,
   "id": "a2fedcb5-139d-4c7a-a1f9-0a7fcc77b39a",
   "metadata": {},
   "outputs": [],
   "source": []
  },
  {
   "cell_type": "code",
   "execution_count": null,
   "id": "cf7436b9-8e96-47d1-8299-3891572f0be0",
   "metadata": {},
   "outputs": [],
   "source": []
  },
  {
   "cell_type": "code",
   "execution_count": null,
   "id": "03db99ac-2396-4d81-98a2-ce32ee215f71",
   "metadata": {},
   "outputs": [],
   "source": []
  },
  {
   "cell_type": "code",
   "execution_count": null,
   "id": "8d903441-9a3b-421c-bc7d-681604706729",
   "metadata": {},
   "outputs": [],
   "source": [
    "from imblearn.over_sampling import ADASYN"
   ]
  },
  {
   "cell_type": "code",
   "execution_count": null,
   "id": "1c7384dd-0d50-4496-9e4f-dc033e0eb38e",
   "metadata": {},
   "outputs": [],
   "source": [
    "ada = ADASYN(random_state=42)\n",
    "X_train_ada, y_train_ada = ada.fit_resample(X_train, y_train)"
   ]
  },
  {
   "cell_type": "code",
   "execution_count": null,
   "id": "9170ce83-74f4-4f26-bd43-c7ec80ed623d",
   "metadata": {},
   "outputs": [],
   "source": [
    "Counter(y_train_ada)"
   ]
  },
  {
   "cell_type": "code",
   "execution_count": null,
   "id": "2b983ff5-92d5-4447-89a7-9bb74865864f",
   "metadata": {},
   "outputs": [],
   "source": [
    "base_model_report = evaluate_models(X_train=X_train_ada, y_train=y_train_ada, \n",
    "                                    X_test=X_val, y_test=y_val, models=models)"
   ]
  },
  {
   "cell_type": "code",
   "execution_count": null,
   "id": "0cf91a9b-d25a-48c3-93ee-2648ef306185",
   "metadata": {},
   "outputs": [],
   "source": [
    "base_model_report"
   ]
  },
  {
   "cell_type": "code",
   "execution_count": null,
   "id": "1ddce981-999d-4b6e-93a5-24257ceb4ff1",
   "metadata": {},
   "outputs": [],
   "source": []
  },
  {
   "cell_type": "code",
   "execution_count": null,
   "id": "5e319950-2cbd-4538-aa2f-5625637fb59d",
   "metadata": {},
   "outputs": [],
   "source": [
    "from imblearn.combine import SMOTETomek"
   ]
  },
  {
   "cell_type": "code",
   "execution_count": null,
   "id": "cb8949f5-0619-4c46-aadd-ee5cd45b1fc3",
   "metadata": {},
   "outputs": [],
   "source": [
    "smtom = SMOTETomek(random_state=42)\n",
    "X_train_smtom, y_train_smtom = smtom.fit_resample(X_train, y_train)"
   ]
  },
  {
   "cell_type": "code",
   "execution_count": null,
   "id": "a8f87303-81cf-4f2f-b366-62d1f8a15bce",
   "metadata": {},
   "outputs": [],
   "source": [
    "Counter(y_train_smtom)"
   ]
  },
  {
   "cell_type": "code",
   "execution_count": null,
   "id": "a9c7cfda-27c8-4657-b5ca-3644adf1415c",
   "metadata": {},
   "outputs": [],
   "source": [
    "base_model_report = evaluate_models(X_train=X_train_smtom, y_train=y_train_smtom, \n",
    "                                    X_test=X_val, y_test=y_val, models=models)"
   ]
  },
  {
   "cell_type": "code",
   "execution_count": null,
   "id": "8a61f207-6a2e-49ed-85ad-0048abc6240a",
   "metadata": {},
   "outputs": [],
   "source": [
    "base_model_report"
   ]
  },
  {
   "cell_type": "code",
   "execution_count": null,
   "id": "c20d9135-6699-46ee-b4f8-fb1e590ca0ab",
   "metadata": {},
   "outputs": [],
   "source": []
  }
 ],
 "metadata": {
  "kernelspec": {
   "display_name": "Python 3 (ipykernel)",
   "language": "python",
   "name": "python3"
  },
  "language_info": {
   "codemirror_mode": {
    "name": "ipython",
    "version": 3
   },
   "file_extension": ".py",
   "mimetype": "text/x-python",
   "name": "python",
   "nbconvert_exporter": "python",
   "pygments_lexer": "ipython3",
   "version": "3.11.3"
  }
 },
 "nbformat": 4,
 "nbformat_minor": 5
}
