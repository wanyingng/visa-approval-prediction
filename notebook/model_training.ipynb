{
 "cells": [
  {
   "cell_type": "markdown",
   "id": "917166a6-bd9c-4949-9c6f-db726dfeb61d",
   "metadata": {},
   "source": [
    "## 4. Data Preparation"
   ]
  },
  {
   "cell_type": "markdown",
   "id": "beee06af-ed30-44fe-8491-d843f6dd2ae8",
   "metadata": {},
   "source": [
    "### Import the necessary packages"
   ]
  },
  {
   "cell_type": "code",
   "execution_count": 1,
   "id": "0e37ae4f-bed2-45dc-98fd-f9f97fc2396b",
   "metadata": {},
   "outputs": [],
   "source": [
    "import numpy as np\n",
    "import pandas as pd\n",
    "\n",
    "import seaborn as sns\n",
    "from matplotlib import pyplot as plt\n",
    "%matplotlib inline\n",
    "\n",
    "import warnings\n",
    "warnings.filterwarnings('ignore')"
   ]
  },
  {
   "cell_type": "markdown",
   "id": "c8e19b27-b85b-47e9-b0e9-314569d95295",
   "metadata": {},
   "source": [
    "### Import the CSV data as Pandas DataFrame"
   ]
  },
  {
   "cell_type": "code",
   "execution_count": 2,
   "id": "b30742d7-579b-4d2b-ae98-a2efd50b268c",
   "metadata": {},
   "outputs": [
    {
     "data": {
      "text/plain": [
       "(25480, 12)"
      ]
     },
     "execution_count": 2,
     "metadata": {},
     "output_type": "execute_result"
    }
   ],
   "source": [
    "df = pd.read_csv('data/EasyVisa.csv')\n",
    "df.shape"
   ]
  },
  {
   "cell_type": "markdown",
   "id": "dd3aa9bc-6fa6-4345-8bb8-ab76b6ab8b69",
   "metadata": {},
   "source": [
    "### Show the first 5 records of the dataset"
   ]
  },
  {
   "cell_type": "code",
   "execution_count": 3,
   "id": "0026b718-1bbb-42a8-9e98-f67cdfe0f987",
   "metadata": {},
   "outputs": [
    {
     "data": {
      "text/html": [
       "<div>\n",
       "<style scoped>\n",
       "    .dataframe tbody tr th:only-of-type {\n",
       "        vertical-align: middle;\n",
       "    }\n",
       "\n",
       "    .dataframe tbody tr th {\n",
       "        vertical-align: top;\n",
       "    }\n",
       "\n",
       "    .dataframe thead th {\n",
       "        text-align: right;\n",
       "    }\n",
       "</style>\n",
       "<table border=\"1\" class=\"dataframe\">\n",
       "  <thead>\n",
       "    <tr style=\"text-align: right;\">\n",
       "      <th></th>\n",
       "      <th>0</th>\n",
       "      <th>1</th>\n",
       "      <th>2</th>\n",
       "      <th>3</th>\n",
       "      <th>4</th>\n",
       "    </tr>\n",
       "  </thead>\n",
       "  <tbody>\n",
       "    <tr>\n",
       "      <th>case_id</th>\n",
       "      <td>EZYV01</td>\n",
       "      <td>EZYV02</td>\n",
       "      <td>EZYV03</td>\n",
       "      <td>EZYV04</td>\n",
       "      <td>EZYV05</td>\n",
       "    </tr>\n",
       "    <tr>\n",
       "      <th>continent</th>\n",
       "      <td>Asia</td>\n",
       "      <td>Asia</td>\n",
       "      <td>Asia</td>\n",
       "      <td>Asia</td>\n",
       "      <td>Africa</td>\n",
       "    </tr>\n",
       "    <tr>\n",
       "      <th>education_of_employee</th>\n",
       "      <td>High School</td>\n",
       "      <td>Master's</td>\n",
       "      <td>Bachelor's</td>\n",
       "      <td>Bachelor's</td>\n",
       "      <td>Master's</td>\n",
       "    </tr>\n",
       "    <tr>\n",
       "      <th>has_job_experience</th>\n",
       "      <td>N</td>\n",
       "      <td>Y</td>\n",
       "      <td>N</td>\n",
       "      <td>N</td>\n",
       "      <td>Y</td>\n",
       "    </tr>\n",
       "    <tr>\n",
       "      <th>requires_job_training</th>\n",
       "      <td>N</td>\n",
       "      <td>N</td>\n",
       "      <td>Y</td>\n",
       "      <td>N</td>\n",
       "      <td>N</td>\n",
       "    </tr>\n",
       "    <tr>\n",
       "      <th>no_of_employees</th>\n",
       "      <td>14513</td>\n",
       "      <td>2412</td>\n",
       "      <td>44444</td>\n",
       "      <td>98</td>\n",
       "      <td>1082</td>\n",
       "    </tr>\n",
       "    <tr>\n",
       "      <th>yr_of_estab</th>\n",
       "      <td>2007</td>\n",
       "      <td>2002</td>\n",
       "      <td>2008</td>\n",
       "      <td>1897</td>\n",
       "      <td>2005</td>\n",
       "    </tr>\n",
       "    <tr>\n",
       "      <th>region_of_employment</th>\n",
       "      <td>West</td>\n",
       "      <td>Northeast</td>\n",
       "      <td>West</td>\n",
       "      <td>West</td>\n",
       "      <td>South</td>\n",
       "    </tr>\n",
       "    <tr>\n",
       "      <th>prevailing_wage</th>\n",
       "      <td>592.2029</td>\n",
       "      <td>83425.65</td>\n",
       "      <td>122996.86</td>\n",
       "      <td>83434.03</td>\n",
       "      <td>149907.39</td>\n",
       "    </tr>\n",
       "    <tr>\n",
       "      <th>unit_of_wage</th>\n",
       "      <td>Hour</td>\n",
       "      <td>Year</td>\n",
       "      <td>Year</td>\n",
       "      <td>Year</td>\n",
       "      <td>Year</td>\n",
       "    </tr>\n",
       "    <tr>\n",
       "      <th>full_time_position</th>\n",
       "      <td>Y</td>\n",
       "      <td>Y</td>\n",
       "      <td>Y</td>\n",
       "      <td>Y</td>\n",
       "      <td>Y</td>\n",
       "    </tr>\n",
       "    <tr>\n",
       "      <th>case_status</th>\n",
       "      <td>Denied</td>\n",
       "      <td>Certified</td>\n",
       "      <td>Denied</td>\n",
       "      <td>Denied</td>\n",
       "      <td>Certified</td>\n",
       "    </tr>\n",
       "  </tbody>\n",
       "</table>\n",
       "</div>"
      ],
      "text/plain": [
       "                                 0          1           2           3  \\\n",
       "case_id                     EZYV01     EZYV02      EZYV03      EZYV04   \n",
       "continent                     Asia       Asia        Asia        Asia   \n",
       "education_of_employee  High School   Master's  Bachelor's  Bachelor's   \n",
       "has_job_experience               N          Y           N           N   \n",
       "requires_job_training            N          N           Y           N   \n",
       "no_of_employees              14513       2412       44444          98   \n",
       "yr_of_estab                   2007       2002        2008        1897   \n",
       "region_of_employment          West  Northeast        West        West   \n",
       "prevailing_wage           592.2029   83425.65   122996.86    83434.03   \n",
       "unit_of_wage                  Hour       Year        Year        Year   \n",
       "full_time_position               Y          Y           Y           Y   \n",
       "case_status                 Denied  Certified      Denied      Denied   \n",
       "\n",
       "                               4  \n",
       "case_id                   EZYV05  \n",
       "continent                 Africa  \n",
       "education_of_employee   Master's  \n",
       "has_job_experience             Y  \n",
       "requires_job_training          N  \n",
       "no_of_employees             1082  \n",
       "yr_of_estab                 2005  \n",
       "region_of_employment       South  \n",
       "prevailing_wage        149907.39  \n",
       "unit_of_wage                Year  \n",
       "full_time_position             Y  \n",
       "case_status            Certified  "
      ]
     },
     "execution_count": 3,
     "metadata": {},
     "output_type": "execute_result"
    }
   ],
   "source": [
    "df.head().T"
   ]
  },
  {
   "cell_type": "markdown",
   "id": "7e1cdc5e-3e48-4e91-b9c3-9c59a921a815",
   "metadata": {},
   "source": [
    "### Remove data inconsistencies"
   ]
  },
  {
   "cell_type": "code",
   "execution_count": 4,
   "id": "a28ea8a5-6e1b-4802-b2f5-efbdd8e6d0fc",
   "metadata": {},
   "outputs": [
    {
     "data": {
      "text/plain": [
       "(25469, 12)"
      ]
     },
     "execution_count": 4,
     "metadata": {},
     "output_type": "execute_result"
    }
   ],
   "source": [
    "# Drop records with prevailing wage below US federal minimum\n",
    "df = df[df['prevailing_wage'] >= 7.25]\n",
    "df.shape"
   ]
  },
  {
   "cell_type": "code",
   "execution_count": 5,
   "id": "614b4e69-8ce1-4e65-badd-76bc8e3497f4",
   "metadata": {},
   "outputs": [
    {
     "data": {
      "text/plain": [
       "(25436, 12)"
      ]
     },
     "execution_count": 5,
     "metadata": {},
     "output_type": "execute_result"
    }
   ],
   "source": [
    "# Drop records with negative number of employees\n",
    "df = df[df['no_of_employees'] > 0]\n",
    "df.shape"
   ]
  },
  {
   "cell_type": "markdown",
   "id": "980fc8b2-f166-4866-a8af-d2f433836275",
   "metadata": {},
   "source": [
    "### Drop `case_id` column from the dataset"
   ]
  },
  {
   "cell_type": "code",
   "execution_count": 6,
   "id": "a1d59307-4379-46c3-aaf1-c6637691c3e2",
   "metadata": {},
   "outputs": [
    {
     "data": {
      "text/plain": [
       "(25436, 11)"
      ]
     },
     "execution_count": 6,
     "metadata": {},
     "output_type": "execute_result"
    }
   ],
   "source": [
    "# Remove the column\n",
    "del df['case_id']\n",
    "df.shape"
   ]
  },
  {
   "cell_type": "markdown",
   "id": "7ed37053-1f09-4687-9008-2888ba063006",
   "metadata": {},
   "source": [
    "### Encode target variable for classification"
   ]
  },
  {
   "cell_type": "code",
   "execution_count": 7,
   "id": "5f47d18b-1ea6-4bf0-a1bb-eacde4a89853",
   "metadata": {},
   "outputs": [
    {
     "data": {
      "text/plain": [
       "0       Denied\n",
       "1    Certified\n",
       "2       Denied\n",
       "3       Denied\n",
       "4    Certified\n",
       "Name: case_status, dtype: object"
      ]
     },
     "execution_count": 7,
     "metadata": {},
     "output_type": "execute_result"
    }
   ],
   "source": [
    "df.case_status.head()"
   ]
  },
  {
   "cell_type": "code",
   "execution_count": 8,
   "id": "c0ae891d-a350-401a-9068-70201fbe0ea7",
   "metadata": {},
   "outputs": [
    {
     "data": {
      "text/plain": [
       "0    0\n",
       "1    1\n",
       "2    0\n",
       "3    0\n",
       "4    1\n",
       "Name: case_status, dtype: int32"
      ]
     },
     "execution_count": 8,
     "metadata": {},
     "output_type": "execute_result"
    }
   ],
   "source": [
    "# Replace Certified/Denied with a number: 1 (Cerified) or 0 (Denied)\n",
    "df.case_status = (df.case_status == 'Certified').astype(int)\n",
    "df.case_status[:5]"
   ]
  },
  {
   "cell_type": "markdown",
   "id": "0560e631-cd95-4823-aa58-25aa180e19c3",
   "metadata": {},
   "source": [
    "### Set up the validation framework\n",
    "\n",
    "#### Prepare the $X$ feature matrix and the $y$ target variable"
   ]
  },
  {
   "cell_type": "code",
   "execution_count": 9,
   "id": "1566299c-c27c-40de-9f49-2c117de3d2aa",
   "metadata": {},
   "outputs": [],
   "source": [
    "from sklearn.model_selection import train_test_split"
   ]
  },
  {
   "cell_type": "code",
   "execution_count": 10,
   "id": "803bf0ea-8a72-4289-ad44-2d411c3bb529",
   "metadata": {},
   "outputs": [],
   "source": [
    "# Perform the train, validation, test split with Scikit-Learn\n",
    "df_full_train, df_test = train_test_split(df, test_size=0.2, random_state=42)\n",
    "df_train, df_val = train_test_split(df_full_train, test_size=0.25, random_state=42)\n",
    "\n",
    "df_train = df_train.reset_index(drop=True)\n",
    "df_val = df_val.reset_index(drop=True)\n",
    "df_test = df_test.reset_index(drop=True)\n",
    "\n",
    "y_train = df_train.case_status.values\n",
    "y_val = df_val.case_status.values\n",
    "y_test = df_test.case_status.values\n",
    "\n",
    "del df_train['case_status']\n",
    "del df_val['case_status']\n",
    "del df_test['case_status']"
   ]
  },
  {
   "cell_type": "code",
   "execution_count": 11,
   "id": "b7c6314c-b42b-47e2-8a26-9104a5d20f13",
   "metadata": {},
   "outputs": [
    {
     "data": {
      "text/plain": [
       "((15261, 10), (5087, 10), (5088, 10))"
      ]
     },
     "execution_count": 11,
     "metadata": {},
     "output_type": "execute_result"
    }
   ],
   "source": [
    "df_train.shape, df_val.shape, df_test.shape"
   ]
  },
  {
   "cell_type": "code",
   "execution_count": 12,
   "id": "356fa1fb-ce44-49c3-8f3e-cd33e24804c5",
   "metadata": {},
   "outputs": [
    {
     "data": {
      "text/html": [
       "<div>\n",
       "<style scoped>\n",
       "    .dataframe tbody tr th:only-of-type {\n",
       "        vertical-align: middle;\n",
       "    }\n",
       "\n",
       "    .dataframe tbody tr th {\n",
       "        vertical-align: top;\n",
       "    }\n",
       "\n",
       "    .dataframe thead th {\n",
       "        text-align: right;\n",
       "    }\n",
       "</style>\n",
       "<table border=\"1\" class=\"dataframe\">\n",
       "  <thead>\n",
       "    <tr style=\"text-align: right;\">\n",
       "      <th></th>\n",
       "      <th>0</th>\n",
       "      <th>1</th>\n",
       "      <th>2</th>\n",
       "      <th>3</th>\n",
       "      <th>4</th>\n",
       "    </tr>\n",
       "  </thead>\n",
       "  <tbody>\n",
       "    <tr>\n",
       "      <th>continent</th>\n",
       "      <td>Asia</td>\n",
       "      <td>Asia</td>\n",
       "      <td>Asia</td>\n",
       "      <td>Asia</td>\n",
       "      <td>Asia</td>\n",
       "    </tr>\n",
       "    <tr>\n",
       "      <th>education_of_employee</th>\n",
       "      <td>Bachelor's</td>\n",
       "      <td>Bachelor's</td>\n",
       "      <td>Master's</td>\n",
       "      <td>Bachelor's</td>\n",
       "      <td>Master's</td>\n",
       "    </tr>\n",
       "    <tr>\n",
       "      <th>has_job_experience</th>\n",
       "      <td>N</td>\n",
       "      <td>N</td>\n",
       "      <td>N</td>\n",
       "      <td>Y</td>\n",
       "      <td>N</td>\n",
       "    </tr>\n",
       "    <tr>\n",
       "      <th>requires_job_training</th>\n",
       "      <td>N</td>\n",
       "      <td>N</td>\n",
       "      <td>N</td>\n",
       "      <td>N</td>\n",
       "      <td>N</td>\n",
       "    </tr>\n",
       "    <tr>\n",
       "      <th>no_of_employees</th>\n",
       "      <td>2500</td>\n",
       "      <td>1527</td>\n",
       "      <td>5380</td>\n",
       "      <td>3035</td>\n",
       "      <td>546</td>\n",
       "    </tr>\n",
       "    <tr>\n",
       "      <th>yr_of_estab</th>\n",
       "      <td>1971</td>\n",
       "      <td>2013</td>\n",
       "      <td>1998</td>\n",
       "      <td>1907</td>\n",
       "      <td>2014</td>\n",
       "    </tr>\n",
       "    <tr>\n",
       "      <th>region_of_employment</th>\n",
       "      <td>Northeast</td>\n",
       "      <td>South</td>\n",
       "      <td>West</td>\n",
       "      <td>West</td>\n",
       "      <td>South</td>\n",
       "    </tr>\n",
       "    <tr>\n",
       "      <th>prevailing_wage</th>\n",
       "      <td>105.87</td>\n",
       "      <td>38764.07</td>\n",
       "      <td>37037.67</td>\n",
       "      <td>89891.32</td>\n",
       "      <td>149133.36</td>\n",
       "    </tr>\n",
       "    <tr>\n",
       "      <th>unit_of_wage</th>\n",
       "      <td>Hour</td>\n",
       "      <td>Year</td>\n",
       "      <td>Year</td>\n",
       "      <td>Year</td>\n",
       "      <td>Year</td>\n",
       "    </tr>\n",
       "    <tr>\n",
       "      <th>full_time_position</th>\n",
       "      <td>Y</td>\n",
       "      <td>Y</td>\n",
       "      <td>Y</td>\n",
       "      <td>N</td>\n",
       "      <td>Y</td>\n",
       "    </tr>\n",
       "  </tbody>\n",
       "</table>\n",
       "</div>"
      ],
      "text/plain": [
       "                                0           1         2           3          4\n",
       "continent                    Asia        Asia      Asia        Asia       Asia\n",
       "education_of_employee  Bachelor's  Bachelor's  Master's  Bachelor's   Master's\n",
       "has_job_experience              N           N         N           Y          N\n",
       "requires_job_training           N           N         N           N          N\n",
       "no_of_employees              2500        1527      5380        3035        546\n",
       "yr_of_estab                  1971        2013      1998        1907       2014\n",
       "region_of_employment    Northeast       South      West        West      South\n",
       "prevailing_wage            105.87    38764.07  37037.67    89891.32  149133.36\n",
       "unit_of_wage                 Hour        Year      Year        Year       Year\n",
       "full_time_position              Y           Y         Y           N          Y"
      ]
     },
     "execution_count": 12,
     "metadata": {},
     "output_type": "execute_result"
    }
   ],
   "source": [
    "df_train.head().T"
   ]
  },
  {
   "cell_type": "code",
   "execution_count": 13,
   "id": "e6a4e4e7-e7f0-4561-bce6-9ed2d326a9ef",
   "metadata": {},
   "outputs": [
    {
     "data": {
      "text/plain": [
       "array([1, 0, 0, 1, 1])"
      ]
     },
     "execution_count": 13,
     "metadata": {},
     "output_type": "execute_result"
    }
   ],
   "source": [
    "y_train[:5]"
   ]
  },
  {
   "cell_type": "code",
   "execution_count": 14,
   "id": "ad3a1a99-2ee0-479e-bc72-2a06b82c10d7",
   "metadata": {},
   "outputs": [
    {
     "name": "stdout",
     "output_type": "stream",
     "text": [
      "Percentage of classes in training set:\n",
      "case_status\n",
      "1              67.07\n",
      "0              32.93\n",
      "Name: proportion, dtype: float64\n",
      "Percentage of classes in validation set:\n",
      "case_status\n",
      "1              66.58\n",
      "0              33.42\n",
      "Name: proportion, dtype: float64\n"
     ]
    }
   ],
   "source": [
    "print(\"Percentage of classes in training set:\")\n",
    "print(pd.DataFrame(y_train, columns=['case_status']).value_counts(normalize=True).round(4) * 100)\n",
    "\n",
    "print(\"Percentage of classes in validation set:\")\n",
    "print(pd.DataFrame(y_val, columns=['case_status']).value_counts(normalize=True).round(4) * 100)"
   ]
  },
  {
   "cell_type": "code",
   "execution_count": 15,
   "id": "aae62249-2f82-4952-b8e2-288e920d7aae",
   "metadata": {},
   "outputs": [],
   "source": [
    "numerical = df_train.select_dtypes(exclude=\"object\").columns\n",
    "categorical = df_train.select_dtypes(include=\"object\").columns"
   ]
  },
  {
   "cell_type": "code",
   "execution_count": 16,
   "id": "bad65684-ec59-4498-814f-92ac0bea9b76",
   "metadata": {},
   "outputs": [
    {
     "data": {
      "text/plain": [
       "Index(['no_of_employees', 'yr_of_estab', 'prevailing_wage'], dtype='object')"
      ]
     },
     "execution_count": 16,
     "metadata": {},
     "output_type": "execute_result"
    }
   ],
   "source": [
    "numerical"
   ]
  },
  {
   "cell_type": "code",
   "execution_count": 17,
   "id": "0c05bd00-13a8-4a1d-8b86-d3fb6a6a356f",
   "metadata": {},
   "outputs": [
    {
     "data": {
      "text/plain": [
       "Index(['continent', 'education_of_employee', 'has_job_experience',\n",
       "       'requires_job_training', 'region_of_employment', 'unit_of_wage',\n",
       "       'full_time_position'],\n",
       "      dtype='object')"
      ]
     },
     "execution_count": 17,
     "metadata": {},
     "output_type": "execute_result"
    }
   ],
   "source": [
    "categorical"
   ]
  },
  {
   "cell_type": "markdown",
   "id": "efd30ea1-dee1-4a19-b8d2-a9a5e60311d7",
   "metadata": {},
   "source": [
    "### Feature Importance Analysis\n",
    "\n",
    "This step aims to determine the most influential factors in predicting the visa application outcome."
   ]
  },
  {
   "cell_type": "markdown",
   "id": "5f190e5e-02c5-412c-8c18-84e8db08e131",
   "metadata": {},
   "source": [
    "#### Certify Rate and Risk Ratio\n",
    "These metrics help assess the association between categorical features and the target variable:\n",
    "- **Certify Rate:** \n",
    "  * Calculated as the proportion of certified cases within a specific category of a feature. \n",
    "  * A higher certify rate (diff $> 0$) within a category suggests a greater likelihood of certification for that category.\n",
    "  * The difference between a category's certify rate and the overall certification rate provides an indication of the category's association with the target variable. \n",
    "  * Larger differences generally signify stronger associations.\n",
    "- **Risk Ratio:** \n",
    "  * Calculated as the ratio of the probability of certification within a specific category to the overall probability of certification.\n",
    "  * A risk ratio greater than 1 indicates that the category is more likely to be certified compared to the overall average. \n",
    "  * A risk ratio less than 1 indicates a lower likelihood of certification for that category. \n",
    "  * Risk ratios provide a relative measure of the association between a category and the target variable."
   ]
  },
  {
   "cell_type": "code",
   "execution_count": 18,
   "id": "03953b78-bd2d-4a6f-941b-8d617b1e6340",
   "metadata": {},
   "outputs": [
    {
     "data": {
      "text/plain": [
       "0.67"
      ]
     },
     "execution_count": 18,
     "metadata": {},
     "output_type": "execute_result"
    }
   ],
   "source": [
    "# Calculate the certify rate of the entire full train dataset\n",
    "global_certify_rate = df_full_train.case_status.mean()\n",
    "round(global_certify_rate, 2)"
   ]
  },
  {
   "cell_type": "code",
   "execution_count": 19,
   "id": "5a31a3e3-93df-4ee8-8b6f-02b2a90c9c97",
   "metadata": {},
   "outputs": [],
   "source": [
    "from IPython.display import display"
   ]
  },
  {
   "cell_type": "code",
   "execution_count": 20,
   "id": "712aabed-17d3-40cc-871b-59df830151c9",
   "metadata": {},
   "outputs": [
    {
     "name": "stdout",
     "output_type": "stream",
     "text": [
      "continent\n"
     ]
    },
    {
     "data": {
      "text/html": [
       "<div>\n",
       "<style scoped>\n",
       "    .dataframe tbody tr th:only-of-type {\n",
       "        vertical-align: middle;\n",
       "    }\n",
       "\n",
       "    .dataframe tbody tr th {\n",
       "        vertical-align: top;\n",
       "    }\n",
       "\n",
       "    .dataframe thead th {\n",
       "        text-align: right;\n",
       "    }\n",
       "</style>\n",
       "<table border=\"1\" class=\"dataframe\">\n",
       "  <thead>\n",
       "    <tr style=\"text-align: right;\">\n",
       "      <th></th>\n",
       "      <th>mean</th>\n",
       "      <th>count</th>\n",
       "      <th>diff</th>\n",
       "      <th>risk</th>\n",
       "    </tr>\n",
       "    <tr>\n",
       "      <th>continent</th>\n",
       "      <th></th>\n",
       "      <th></th>\n",
       "      <th></th>\n",
       "      <th></th>\n",
       "    </tr>\n",
       "  </thead>\n",
       "  <tbody>\n",
       "    <tr>\n",
       "      <th>Africa</th>\n",
       "      <td>0.704225</td>\n",
       "      <td>426</td>\n",
       "      <td>0.034774</td>\n",
       "      <td>1.051944</td>\n",
       "    </tr>\n",
       "    <tr>\n",
       "      <th>Asia</th>\n",
       "      <td>0.655190</td>\n",
       "      <td>13506</td>\n",
       "      <td>-0.014261</td>\n",
       "      <td>0.978697</td>\n",
       "    </tr>\n",
       "    <tr>\n",
       "      <th>Europe</th>\n",
       "      <td>0.792256</td>\n",
       "      <td>2970</td>\n",
       "      <td>0.122804</td>\n",
       "      <td>1.183440</td>\n",
       "    </tr>\n",
       "    <tr>\n",
       "      <th>North America</th>\n",
       "      <td>0.624667</td>\n",
       "      <td>2627</td>\n",
       "      <td>-0.044785</td>\n",
       "      <td>0.933103</td>\n",
       "    </tr>\n",
       "    <tr>\n",
       "      <th>Oceania</th>\n",
       "      <td>0.640000</td>\n",
       "      <td>150</td>\n",
       "      <td>-0.029452</td>\n",
       "      <td>0.956006</td>\n",
       "    </tr>\n",
       "    <tr>\n",
       "      <th>South America</th>\n",
       "      <td>0.572496</td>\n",
       "      <td>669</td>\n",
       "      <td>-0.096955</td>\n",
       "      <td>0.855172</td>\n",
       "    </tr>\n",
       "  </tbody>\n",
       "</table>\n",
       "</div>"
      ],
      "text/plain": [
       "                   mean  count      diff      risk\n",
       "continent                                         \n",
       "Africa         0.704225    426  0.034774  1.051944\n",
       "Asia           0.655190  13506 -0.014261  0.978697\n",
       "Europe         0.792256   2970  0.122804  1.183440\n",
       "North America  0.624667   2627 -0.044785  0.933103\n",
       "Oceania        0.640000    150 -0.029452  0.956006\n",
       "South America  0.572496    669 -0.096955  0.855172"
      ]
     },
     "metadata": {},
     "output_type": "display_data"
    },
    {
     "name": "stdout",
     "output_type": "stream",
     "text": [
      "\n",
      "\n",
      "education_of_employee\n"
     ]
    },
    {
     "data": {
      "text/html": [
       "<div>\n",
       "<style scoped>\n",
       "    .dataframe tbody tr th:only-of-type {\n",
       "        vertical-align: middle;\n",
       "    }\n",
       "\n",
       "    .dataframe tbody tr th {\n",
       "        vertical-align: top;\n",
       "    }\n",
       "\n",
       "    .dataframe thead th {\n",
       "        text-align: right;\n",
       "    }\n",
       "</style>\n",
       "<table border=\"1\" class=\"dataframe\">\n",
       "  <thead>\n",
       "    <tr style=\"text-align: right;\">\n",
       "      <th></th>\n",
       "      <th>mean</th>\n",
       "      <th>count</th>\n",
       "      <th>diff</th>\n",
       "      <th>risk</th>\n",
       "    </tr>\n",
       "    <tr>\n",
       "      <th>education_of_employee</th>\n",
       "      <th></th>\n",
       "      <th></th>\n",
       "      <th></th>\n",
       "      <th></th>\n",
       "    </tr>\n",
       "  </thead>\n",
       "  <tbody>\n",
       "    <tr>\n",
       "      <th>Bachelor's</th>\n",
       "      <td>0.624189</td>\n",
       "      <td>8169</td>\n",
       "      <td>-0.045263</td>\n",
       "      <td>0.932389</td>\n",
       "    </tr>\n",
       "    <tr>\n",
       "      <th>Doctorate</th>\n",
       "      <td>0.867435</td>\n",
       "      <td>1735</td>\n",
       "      <td>0.197984</td>\n",
       "      <td>1.295740</td>\n",
       "    </tr>\n",
       "    <tr>\n",
       "      <th>High School</th>\n",
       "      <td>0.343601</td>\n",
       "      <td>2727</td>\n",
       "      <td>-0.325851</td>\n",
       "      <td>0.513258</td>\n",
       "    </tr>\n",
       "    <tr>\n",
       "      <th>Master's</th>\n",
       "      <td>0.788001</td>\n",
       "      <td>7717</td>\n",
       "      <td>0.118549</td>\n",
       "      <td>1.177084</td>\n",
       "    </tr>\n",
       "  </tbody>\n",
       "</table>\n",
       "</div>"
      ],
      "text/plain": [
       "                           mean  count      diff      risk\n",
       "education_of_employee                                     \n",
       "Bachelor's             0.624189   8169 -0.045263  0.932389\n",
       "Doctorate              0.867435   1735  0.197984  1.295740\n",
       "High School            0.343601   2727 -0.325851  0.513258\n",
       "Master's               0.788001   7717  0.118549  1.177084"
      ]
     },
     "metadata": {},
     "output_type": "display_data"
    },
    {
     "name": "stdout",
     "output_type": "stream",
     "text": [
      "\n",
      "\n",
      "has_job_experience\n"
     ]
    },
    {
     "data": {
      "text/html": [
       "<div>\n",
       "<style scoped>\n",
       "    .dataframe tbody tr th:only-of-type {\n",
       "        vertical-align: middle;\n",
       "    }\n",
       "\n",
       "    .dataframe tbody tr th {\n",
       "        vertical-align: top;\n",
       "    }\n",
       "\n",
       "    .dataframe thead th {\n",
       "        text-align: right;\n",
       "    }\n",
       "</style>\n",
       "<table border=\"1\" class=\"dataframe\">\n",
       "  <thead>\n",
       "    <tr style=\"text-align: right;\">\n",
       "      <th></th>\n",
       "      <th>mean</th>\n",
       "      <th>count</th>\n",
       "      <th>diff</th>\n",
       "      <th>risk</th>\n",
       "    </tr>\n",
       "    <tr>\n",
       "      <th>has_job_experience</th>\n",
       "      <th></th>\n",
       "      <th></th>\n",
       "      <th></th>\n",
       "      <th></th>\n",
       "    </tr>\n",
       "  </thead>\n",
       "  <tbody>\n",
       "    <tr>\n",
       "      <th>N</th>\n",
       "      <td>0.562215</td>\n",
       "      <td>8559</td>\n",
       "      <td>-0.107236</td>\n",
       "      <td>0.839815</td>\n",
       "    </tr>\n",
       "    <tr>\n",
       "      <th>Y</th>\n",
       "      <td>0.747307</td>\n",
       "      <td>11789</td>\n",
       "      <td>0.077855</td>\n",
       "      <td>1.116297</td>\n",
       "    </tr>\n",
       "  </tbody>\n",
       "</table>\n",
       "</div>"
      ],
      "text/plain": [
       "                        mean  count      diff      risk\n",
       "has_job_experience                                     \n",
       "N                   0.562215   8559 -0.107236  0.839815\n",
       "Y                   0.747307  11789  0.077855  1.116297"
      ]
     },
     "metadata": {},
     "output_type": "display_data"
    },
    {
     "name": "stdout",
     "output_type": "stream",
     "text": [
      "\n",
      "\n",
      "requires_job_training\n"
     ]
    },
    {
     "data": {
      "text/html": [
       "<div>\n",
       "<style scoped>\n",
       "    .dataframe tbody tr th:only-of-type {\n",
       "        vertical-align: middle;\n",
       "    }\n",
       "\n",
       "    .dataframe tbody tr th {\n",
       "        vertical-align: top;\n",
       "    }\n",
       "\n",
       "    .dataframe thead th {\n",
       "        text-align: right;\n",
       "    }\n",
       "</style>\n",
       "<table border=\"1\" class=\"dataframe\">\n",
       "  <thead>\n",
       "    <tr style=\"text-align: right;\">\n",
       "      <th></th>\n",
       "      <th>mean</th>\n",
       "      <th>count</th>\n",
       "      <th>diff</th>\n",
       "      <th>risk</th>\n",
       "    </tr>\n",
       "    <tr>\n",
       "      <th>requires_job_training</th>\n",
       "      <th></th>\n",
       "      <th></th>\n",
       "      <th></th>\n",
       "      <th></th>\n",
       "    </tr>\n",
       "  </thead>\n",
       "  <tbody>\n",
       "    <tr>\n",
       "      <th>N</th>\n",
       "      <td>0.667928</td>\n",
       "      <td>17966</td>\n",
       "      <td>-0.001523</td>\n",
       "      <td>0.997725</td>\n",
       "    </tr>\n",
       "    <tr>\n",
       "      <th>Y</th>\n",
       "      <td>0.680940</td>\n",
       "      <td>2382</td>\n",
       "      <td>0.011489</td>\n",
       "      <td>1.017162</td>\n",
       "    </tr>\n",
       "  </tbody>\n",
       "</table>\n",
       "</div>"
      ],
      "text/plain": [
       "                           mean  count      diff      risk\n",
       "requires_job_training                                     \n",
       "N                      0.667928  17966 -0.001523  0.997725\n",
       "Y                      0.680940   2382  0.011489  1.017162"
      ]
     },
     "metadata": {},
     "output_type": "display_data"
    },
    {
     "name": "stdout",
     "output_type": "stream",
     "text": [
      "\n",
      "\n",
      "region_of_employment\n"
     ]
    },
    {
     "data": {
      "text/html": [
       "<div>\n",
       "<style scoped>\n",
       "    .dataframe tbody tr th:only-of-type {\n",
       "        vertical-align: middle;\n",
       "    }\n",
       "\n",
       "    .dataframe tbody tr th {\n",
       "        vertical-align: top;\n",
       "    }\n",
       "\n",
       "    .dataframe thead th {\n",
       "        text-align: right;\n",
       "    }\n",
       "</style>\n",
       "<table border=\"1\" class=\"dataframe\">\n",
       "  <thead>\n",
       "    <tr style=\"text-align: right;\">\n",
       "      <th></th>\n",
       "      <th>mean</th>\n",
       "      <th>count</th>\n",
       "      <th>diff</th>\n",
       "      <th>risk</th>\n",
       "    </tr>\n",
       "    <tr>\n",
       "      <th>region_of_employment</th>\n",
       "      <th></th>\n",
       "      <th></th>\n",
       "      <th></th>\n",
       "      <th></th>\n",
       "    </tr>\n",
       "  </thead>\n",
       "  <tbody>\n",
       "    <tr>\n",
       "      <th>Island</th>\n",
       "      <td>0.590759</td>\n",
       "      <td>303</td>\n",
       "      <td>-0.078692</td>\n",
       "      <td>0.882452</td>\n",
       "    </tr>\n",
       "    <tr>\n",
       "      <th>Midwest</th>\n",
       "      <td>0.759977</td>\n",
       "      <td>3458</td>\n",
       "      <td>0.090525</td>\n",
       "      <td>1.135223</td>\n",
       "    </tr>\n",
       "    <tr>\n",
       "      <th>Northeast</th>\n",
       "      <td>0.635173</td>\n",
       "      <td>5726</td>\n",
       "      <td>-0.034279</td>\n",
       "      <td>0.948796</td>\n",
       "    </tr>\n",
       "    <tr>\n",
       "      <th>South</th>\n",
       "      <td>0.702804</td>\n",
       "      <td>5599</td>\n",
       "      <td>0.033353</td>\n",
       "      <td>1.049821</td>\n",
       "    </tr>\n",
       "    <tr>\n",
       "      <th>West</th>\n",
       "      <td>0.616306</td>\n",
       "      <td>5262</td>\n",
       "      <td>-0.053146</td>\n",
       "      <td>0.920613</td>\n",
       "    </tr>\n",
       "  </tbody>\n",
       "</table>\n",
       "</div>"
      ],
      "text/plain": [
       "                          mean  count      diff      risk\n",
       "region_of_employment                                     \n",
       "Island                0.590759    303 -0.078692  0.882452\n",
       "Midwest               0.759977   3458  0.090525  1.135223\n",
       "Northeast             0.635173   5726 -0.034279  0.948796\n",
       "South                 0.702804   5599  0.033353  1.049821\n",
       "West                  0.616306   5262 -0.053146  0.920613"
      ]
     },
     "metadata": {},
     "output_type": "display_data"
    },
    {
     "name": "stdout",
     "output_type": "stream",
     "text": [
      "\n",
      "\n",
      "unit_of_wage\n"
     ]
    },
    {
     "data": {
      "text/html": [
       "<div>\n",
       "<style scoped>\n",
       "    .dataframe tbody tr th:only-of-type {\n",
       "        vertical-align: middle;\n",
       "    }\n",
       "\n",
       "    .dataframe tbody tr th {\n",
       "        vertical-align: top;\n",
       "    }\n",
       "\n",
       "    .dataframe thead th {\n",
       "        text-align: right;\n",
       "    }\n",
       "</style>\n",
       "<table border=\"1\" class=\"dataframe\">\n",
       "  <thead>\n",
       "    <tr style=\"text-align: right;\">\n",
       "      <th></th>\n",
       "      <th>mean</th>\n",
       "      <th>count</th>\n",
       "      <th>diff</th>\n",
       "      <th>risk</th>\n",
       "    </tr>\n",
       "    <tr>\n",
       "      <th>unit_of_wage</th>\n",
       "      <th></th>\n",
       "      <th></th>\n",
       "      <th></th>\n",
       "      <th></th>\n",
       "    </tr>\n",
       "  </thead>\n",
       "  <tbody>\n",
       "    <tr>\n",
       "      <th>Hour</th>\n",
       "      <td>0.344425</td>\n",
       "      <td>1713</td>\n",
       "      <td>-0.325027</td>\n",
       "      <td>0.514488</td>\n",
       "    </tr>\n",
       "    <tr>\n",
       "      <th>Month</th>\n",
       "      <td>0.557143</td>\n",
       "      <td>70</td>\n",
       "      <td>-0.112309</td>\n",
       "      <td>0.832238</td>\n",
       "    </tr>\n",
       "    <tr>\n",
       "      <th>Week</th>\n",
       "      <td>0.625000</td>\n",
       "      <td>216</td>\n",
       "      <td>-0.044452</td>\n",
       "      <td>0.933600</td>\n",
       "    </tr>\n",
       "    <tr>\n",
       "      <th>Year</th>\n",
       "      <td>0.700747</td>\n",
       "      <td>18349</td>\n",
       "      <td>0.031295</td>\n",
       "      <td>1.046747</td>\n",
       "    </tr>\n",
       "  </tbody>\n",
       "</table>\n",
       "</div>"
      ],
      "text/plain": [
       "                  mean  count      diff      risk\n",
       "unit_of_wage                                     \n",
       "Hour          0.344425   1713 -0.325027  0.514488\n",
       "Month         0.557143     70 -0.112309  0.832238\n",
       "Week          0.625000    216 -0.044452  0.933600\n",
       "Year          0.700747  18349  0.031295  1.046747"
      ]
     },
     "metadata": {},
     "output_type": "display_data"
    },
    {
     "name": "stdout",
     "output_type": "stream",
     "text": [
      "\n",
      "\n",
      "full_time_position\n"
     ]
    },
    {
     "data": {
      "text/html": [
       "<div>\n",
       "<style scoped>\n",
       "    .dataframe tbody tr th:only-of-type {\n",
       "        vertical-align: middle;\n",
       "    }\n",
       "\n",
       "    .dataframe tbody tr th {\n",
       "        vertical-align: top;\n",
       "    }\n",
       "\n",
       "    .dataframe thead th {\n",
       "        text-align: right;\n",
       "    }\n",
       "</style>\n",
       "<table border=\"1\" class=\"dataframe\">\n",
       "  <thead>\n",
       "    <tr style=\"text-align: right;\">\n",
       "      <th></th>\n",
       "      <th>mean</th>\n",
       "      <th>count</th>\n",
       "      <th>diff</th>\n",
       "      <th>risk</th>\n",
       "    </tr>\n",
       "    <tr>\n",
       "      <th>full_time_position</th>\n",
       "      <th></th>\n",
       "      <th></th>\n",
       "      <th></th>\n",
       "      <th></th>\n",
       "    </tr>\n",
       "  </thead>\n",
       "  <tbody>\n",
       "    <tr>\n",
       "      <th>N</th>\n",
       "      <td>0.691667</td>\n",
       "      <td>2160</td>\n",
       "      <td>0.022215</td>\n",
       "      <td>1.033184</td>\n",
       "    </tr>\n",
       "    <tr>\n",
       "      <th>Y</th>\n",
       "      <td>0.666813</td>\n",
       "      <td>18188</td>\n",
       "      <td>-0.002638</td>\n",
       "      <td>0.996059</td>\n",
       "    </tr>\n",
       "  </tbody>\n",
       "</table>\n",
       "</div>"
      ],
      "text/plain": [
       "                        mean  count      diff      risk\n",
       "full_time_position                                     \n",
       "N                   0.691667   2160  0.022215  1.033184\n",
       "Y                   0.666813  18188 -0.002638  0.996059"
      ]
     },
     "metadata": {},
     "output_type": "display_data"
    },
    {
     "name": "stdout",
     "output_type": "stream",
     "text": [
      "\n",
      "\n"
     ]
    }
   ],
   "source": [
    "# Calculate the difference and risk for all categorical variables\n",
    "for c in categorical:\n",
    "    print(c)\n",
    "    df_group = df_full_train.groupby(c).case_status.agg(['mean', 'count'])\n",
    "    df_group['diff'] = df_group['mean'] - global_certify_rate\n",
    "    df_group['risk'] = df_group['mean'] / global_certify_rate\n",
    "    display(df_group)\n",
    "    print()\n",
    "    print()"
   ]
  },
  {
   "cell_type": "markdown",
   "id": "91892eb4-f51c-44fa-a2a5-8710ce68428b",
   "metadata": {},
   "source": [
    "#### Mutual Information \n",
    "Mutual Information (MI) measures the amount of information one variable provides about another. \n",
    "\n",
    "We will rank the features based on their MI scores. The feature with the highest MI score is considered the most important, followed by the feature with the second-highest score, and so on. "
   ]
  },
  {
   "cell_type": "code",
   "execution_count": 21,
   "id": "33639ccb-4fd9-495b-baa0-e01c181b027a",
   "metadata": {},
   "outputs": [],
   "source": [
    "from sklearn.metrics import mutual_info_score"
   ]
  },
  {
   "cell_type": "code",
   "execution_count": 22,
   "id": "8115c3d6-f7a8-4f2d-a18b-b0546c7524a2",
   "metadata": {},
   "outputs": [],
   "source": [
    "def mutual_info_certify_score(series):\n",
    "    return mutual_info_score(series, df_full_train.case_status)"
   ]
  },
  {
   "cell_type": "code",
   "execution_count": 23,
   "id": "2c2aacb2-62a9-4c66-94f0-d20922e8bbd6",
   "metadata": {},
   "outputs": [
    {
     "data": {
      "text/plain": [
       "education_of_employee    0.053302\n",
       "unit_of_wage             0.020692\n",
       "has_job_experience       0.018769\n",
       "continent                0.007012\n",
       "region_of_employment     0.006578\n",
       "full_time_position       0.000134\n",
       "requires_job_training    0.000040\n",
       "dtype: float64"
      ]
     },
     "execution_count": 23,
     "metadata": {},
     "output_type": "execute_result"
    }
   ],
   "source": [
    "# Calculate mutual information scores of all categorical variables\n",
    "mi = df_full_train[categorical].apply(mutual_info_certify_score)\n",
    "# Sort the result such that the most important features come first\n",
    "mi.sort_values(ascending=False)"
   ]
  },
  {
   "cell_type": "code",
   "execution_count": 24,
   "id": "4d1c1614-3a2a-4c8c-a51e-ae591ba07477",
   "metadata": {},
   "outputs": [
    {
     "data": {
      "image/png": "[encoded data removed]",
      "text/plain": [
       "<Figure size 640x480 with 1 Axes>"
      ]
     },
     "metadata": {},
     "output_type": "display_data"
    }
   ],
   "source": [
    "# Plot the bar graph\n",
    "mi.nlargest(20).plot(kind='barh', ec='black', color=['lightpink', 'paleturquoise', 'moccasin', 'plum', 'lightcoral', 'sandybrown']).invert_yaxis()"
   ]
  },
  {
   "cell_type": "markdown",
   "id": "05dbe558-bebd-4bae-9c81-defe8c960b90",
   "metadata": {},
   "source": [
    "**Top 5 Features:** \n",
    "* Based on Mutual Information (MI) scores, the top 5 categorical features for inclusion in the model are:\n",
    "    1. `education_of_employee` (MI: 0.052196)\n",
    "    2. `unit_of_wage` (MI: 0.020227)\n",
    "    3. `has_job_experience` (MI: 0.017954)\n",
    "    4. `continent` (MI: 0.007389)\n",
    "    5. `region_of_employment` (MI: 0.006231)\n",
    "\n",
    "**Feature Exclusion:**\n",
    "* `full_time_position` has a very low MI score (0.000091), suggesting limited predictive power. Consider excluding it from the model.\n",
    "* The MI score for `requires_job_training` (0.000004) is extremely low, confirming our earlier finding of no significant association with the target variable using the Chi-Square Test of Independence. This feature will be excluded from the model."
   ]
  },
  {
   "cell_type": "markdown",
   "id": "cede0a90-fb69-4607-8e43-6ff652cf9544",
   "metadata": {},
   "source": [
    "#### Correlation Coefficient\n",
    "\n",
    "The Pearson correlation coefficient measures the linear relationship between two continuous variables. It can be used to assess the strength and direction of the linear relationship between numerical features and the binary target variable."
   ]
  },
  {
   "cell_type": "code",
   "execution_count": 25,
   "id": "ce3a3b71-4e83-483b-98c1-0282fe09204e",
   "metadata": {},
   "outputs": [
    {
     "data": {
      "text/plain": [
       "no_of_employees    0.010961\n",
       "yr_of_estab        0.008774\n",
       "prevailing_wage    0.078885\n",
       "dtype: float64"
      ]
     },
     "execution_count": 25,
     "metadata": {},
     "output_type": "execute_result"
    }
   ],
   "source": [
    "df_full_train[numerical].corrwith(df_full_train.case_status)"
   ]
  },
  {
   "cell_type": "markdown",
   "id": "d5ae3a7e-3ba1-4e9b-abdb-4309772b3510",
   "metadata": {},
   "source": [
    "Based on the correlation coefficient score of 0.075117 for `prevailing_wage`, we can infer a weak positive correlation between prevailing wage and the likelihood of visa certification by the OFLC."
   ]
  },
  {
   "cell_type": "code",
   "execution_count": 26,
   "id": "b6cfd37e-98fe-46af-ad36-3c60f2e95b9e",
   "metadata": {},
   "outputs": [
    {
     "data": {
      "text/plain": [
       "prevailing_wage    0.078885\n",
       "no_of_employees    0.010961\n",
       "yr_of_estab        0.008774\n",
       "dtype: float64"
      ]
     },
     "execution_count": 26,
     "metadata": {},
     "output_type": "execute_result"
    }
   ],
   "source": [
    "# Rank the importance of each numerical features\n",
    "corr_scores_abs = df_full_train[numerical].corrwith(df_full_train.case_status).abs().sort_values(ascending=False)\n",
    "corr_scores_abs"
   ]
  },
  {
   "cell_type": "code",
   "execution_count": 27,
   "id": "f45fe37b-b7ed-4b34-aee3-6d9b0bb6f63b",
   "metadata": {},
   "outputs": [
    {
     "data": {
      "image/png": "[encoded data removed]",
      "text/plain": [
       "<Figure size 640x480 with 1 Axes>"
      ]
     },
     "metadata": {},
     "output_type": "display_data"
    }
   ],
   "source": [
    "# Plot the bar graph\n",
    "corr_scores_abs.nlargest(20).plot(kind='barh', ec='black', color=['lightpink', 'paleturquoise', 'moccasin']).invert_yaxis()"
   ]
  },
  {
   "cell_type": "markdown",
   "id": "47d22f1d-1e9b-4967-b46b-4acc8cecba37",
   "metadata": {},
   "source": [
    "**Observation:** `prevailing_wage` emerged as the most important numerical feature, followed by `yr_of_estab` and then `no_of_employees` in predicting visa application approval. "
   ]
  },
  {
   "cell_type": "markdown",
   "id": "cb4c86a1-5066-4de2-877e-5cc3e876d213",
   "metadata": {},
   "source": [
    "### Baseline Model"
   ]
  },
  {
   "cell_type": "code",
   "execution_count": 28,
   "id": "df001096-130b-49c5-915b-76252b573b8a",
   "metadata": {},
   "outputs": [],
   "source": [
    "from sklearn.feature_extraction import DictVectorizer\n",
    "from sklearn.linear_model import LogisticRegression"
   ]
  },
  {
   "cell_type": "code",
   "execution_count": 29,
   "id": "b404e3d4-02e1-4f8a-9c51-efc53ec9ef1b",
   "metadata": {},
   "outputs": [
    {
     "data": {
      "text/plain": [
       "Index(['no_of_employees', 'yr_of_estab', 'prevailing_wage'], dtype='object')"
      ]
     },
     "execution_count": 29,
     "metadata": {},
     "output_type": "execute_result"
    }
   ],
   "source": [
    "numerical"
   ]
  },
  {
   "cell_type": "code",
   "execution_count": 30,
   "id": "5c1dccfe-6000-4ba2-9258-97a40817e8e8",
   "metadata": {},
   "outputs": [
    {
     "data": {
      "text/plain": [
       "Index(['continent', 'education_of_employee', 'has_job_experience',\n",
       "       'requires_job_training', 'region_of_employment', 'unit_of_wage',\n",
       "       'full_time_position'],\n",
       "      dtype='object')"
      ]
     },
     "execution_count": 30,
     "metadata": {},
     "output_type": "execute_result"
    }
   ],
   "source": [
    "categorical"
   ]
  },
  {
   "cell_type": "code",
   "execution_count": 31,
   "id": "0be837ff-3be0-4469-b4ec-1d2096705108",
   "metadata": {},
   "outputs": [
    {
     "data": {
      "text/plain": [
       "0.7328484371928445"
      ]
     },
     "execution_count": 31,
     "metadata": {},
     "output_type": "execute_result"
    }
   ],
   "source": [
    "dv = DictVectorizer(sparse=False)\n",
    "\n",
    "train_dict = df_train[list(categorical) + list(numerical)].to_dict(orient='records')\n",
    "X_train_baseline = dv.fit_transform(train_dict)\n",
    "\n",
    "val_dict = df_val[list(categorical) + list(numerical)].to_dict(orient='records')\n",
    "X_val_baseline = dv.transform(val_dict)\n",
    "\n",
    "model = LogisticRegression()\n",
    "model.fit(X_train_baseline, y_train)\n",
    "\n",
    "y_pred = model.predict_proba(X_val_baseline)[:, 1]\n",
    "approval_outcome = (y_pred >= 0.5)\n",
    "(y_val == approval_outcome).mean()"
   ]
  },
  {
   "cell_type": "markdown",
   "id": "d7ea60d1-e7c7-4fbc-bb7a-0333fb74abaa",
   "metadata": {},
   "source": [
    "Our baseline logistic regression model achieved an accuracy of 73.3%."
   ]
  },
  {
   "cell_type": "code",
   "execution_count": 32,
   "id": "f0ed009e-d391-4d76-84f8-aa17973af49e",
   "metadata": {},
   "outputs": [
    {
     "name": "stdout",
     "output_type": "stream",
     "text": [
      "0.00 0.666\n",
      "0.05 0.666\n",
      "0.10 0.668\n",
      "0.15 0.672\n",
      "0.20 0.686\n",
      "0.25 0.689\n",
      "0.30 0.694\n",
      "0.35 0.703\n",
      "0.40 0.711\n",
      "0.45 0.725\n",
      "0.50 0.733\n",
      "0.55 0.737\n",
      "0.60 0.731\n",
      "0.65 0.695\n",
      "0.70 0.664\n",
      "0.75 0.657\n",
      "0.80 0.594\n",
      "0.85 0.507\n",
      "0.90 0.438\n",
      "0.95 0.340\n",
      "1.00 0.334\n"
     ]
    }
   ],
   "source": [
    "thresholds = np.linspace(0, 1, 21)\n",
    "scores = []\n",
    "\n",
    "for t in thresholds:\n",
    "    approval_outcome = (y_pred >= t)\n",
    "    score = (y_val == approval_outcome).mean()\n",
    "    print('%.2f %.3f' % (t, score))\n",
    "    scores.append(score)"
   ]
  },
  {
   "cell_type": "code",
   "execution_count": 33,
   "id": "a57e2e63-a1dd-4ee1-a4ad-363136246e3d",
   "metadata": {},
   "outputs": [
    {
     "data": {
      "text/plain": [
       "Text(0.5, 0, 'Threshold')"
      ]
     },
     "execution_count": 33,
     "metadata": {},
     "output_type": "execute_result"
    },
    {
     "data": {
      "image/png": "[encoded data removed]",
      "text/plain": [
       "<Figure size 640x480 with 1 Axes>"
      ]
     },
     "metadata": {},
     "output_type": "display_data"
    }
   ],
   "source": [
    "# Create a plot that shows how accuracy changes depending on the threshold\n",
    "plt.plot(thresholds, scores)\n",
    "plt.ylabel('Accuracy')\n",
    "plt.xlabel('Threshold')"
   ]
  },
  {
   "cell_type": "code",
   "execution_count": 34,
   "id": "45c32cd7-9c5a-4a25-a05e-30649f7910d4",
   "metadata": {},
   "outputs": [
    {
     "data": {
      "text/plain": [
       "0.7379595046196187"
      ]
     },
     "execution_count": 34,
     "metadata": {},
     "output_type": "execute_result"
    }
   ],
   "source": [
    "approval_outcome = (y_pred >= 0.56)\n",
    "score = (y_val == approval_outcome).mean()\n",
    "score"
   ]
  },
  {
   "cell_type": "markdown",
   "id": "02ef19e8-44f3-47c4-bfa2-813d35cc869c",
   "metadata": {},
   "source": [
    "Through experimentation with various thresholds between 0 and 1, we determined that a threshold of 0.56 yielded the highest accuracy (73.8%) for our logistic regression model on this specific dataset."
   ]
  },
  {
   "cell_type": "markdown",
   "id": "6043080f-3af8-4fe0-959d-f7cf2de2c6d1",
   "metadata": {},
   "source": [
    "### Dummy Model"
   ]
  },
  {
   "cell_type": "code",
   "execution_count": 35,
   "id": "59d67732-3888-43d0-a08c-1943d079fd7b",
   "metadata": {},
   "outputs": [],
   "source": [
    "from collections import Counter"
   ]
  },
  {
   "cell_type": "code",
   "execution_count": 36,
   "id": "84c9b84b-199e-4f2a-b428-db702c591e0d",
   "metadata": {},
   "outputs": [
    {
     "data": {
      "text/plain": [
       "5087"
      ]
     },
     "execution_count": 36,
     "metadata": {},
     "output_type": "execute_result"
    }
   ],
   "source": [
    "len(y_val)"
   ]
  },
  {
   "cell_type": "code",
   "execution_count": 37,
   "id": "9e3819b7-5439-4507-ad5d-bc8918baf156",
   "metadata": {},
   "outputs": [
    {
     "data": {
      "text/plain": [
       "Counter({1: 3387, 0: 1700})"
      ]
     },
     "execution_count": 37,
     "metadata": {},
     "output_type": "execute_result"
    }
   ],
   "source": [
    "# Count # of Certified & Denied values in validation set\n",
    "Counter(y_val)"
   ]
  },
  {
   "cell_type": "code",
   "execution_count": 38,
   "id": "cae29ee4-9d9f-4f5e-a8fc-b11c8ddb3994",
   "metadata": {},
   "outputs": [
    {
     "data": {
      "text/plain": [
       "0.6658148220955377"
      ]
     },
     "execution_count": 38,
     "metadata": {},
     "output_type": "execute_result"
    }
   ],
   "source": [
    "y_val.mean()"
   ]
  },
  {
   "cell_type": "code",
   "execution_count": 39,
   "id": "5bc6e4b9-87de-4e46-920f-ff238d55d551",
   "metadata": {},
   "outputs": [
    {
     "data": {
      "text/plain": [
       "0.33418517790446234"
      ]
     },
     "execution_count": 39,
     "metadata": {},
     "output_type": "execute_result"
    }
   ],
   "source": [
    "1 - y_val.mean()"
   ]
  },
  {
   "cell_type": "markdown",
   "id": "1c77d51a-c59e-45fb-b001-774d5d685cfb",
   "metadata": {},
   "source": [
    "**Observations:**\n",
    "* The baseline logistic regression model achieved an accuracy of 73.3%, which is only a slight improvement (6%) over a simple dummy model that always predicts \"Certified.\" \n",
    "* This limited improvement suggests that the model may not be effectively capturing the underlying patterns in the data.\n",
    "\n",
    "**Class Imbalance:**\n",
    "* The dataset exhibits class imbalance, with approximately 67% of applications certified and 33% denied. \n",
    "* In such scenarios, accuracy can be a misleading metric. A model that simply predicts the majority class (in this case, \"Certified\") will achieve high accuracy without necessarily capturing meaningful relationships within the data."
   ]
  },
  {
   "cell_type": "markdown",
   "id": "0d8515a7-baa4-4d32-a603-5901c22910d8",
   "metadata": {},
   "source": [
    "### Baseline Model Evaluation Metrics"
   ]
  },
  {
   "cell_type": "code",
   "execution_count": 40,
   "id": "f2542f25-4773-4422-86b2-edb6b85e1058",
   "metadata": {},
   "outputs": [],
   "source": [
    "# Split the target variable y in validation set into certified and denied\n",
    "actual_positive = (y_val == 1)\n",
    "actual_negative = (y_val == 0)"
   ]
  },
  {
   "cell_type": "code",
   "execution_count": 41,
   "id": "ddaf41d0-61be-4a87-82b2-e0651597d73e",
   "metadata": {},
   "outputs": [],
   "source": [
    "# Split the predictions on validation set into certified and denied\n",
    "t = 0.5\n",
    "predict_positive = (y_pred >= t)\n",
    "predict_negative = (y_pred < t)"
   ]
  },
  {
   "cell_type": "code",
   "execution_count": 42,
   "id": "20c56cfd-c19a-40a1-80eb-f61cd17df144",
   "metadata": {},
   "outputs": [],
   "source": [
    "# Combine prediction and actual into one and count how many of them\n",
    "tp = (predict_positive & actual_positive).sum()\n",
    "tn = (predict_negative & actual_negative).sum()\n",
    "\n",
    "fp = (predict_positive & actual_negative).sum()\n",
    "fn = (predict_negative & actual_positive).sum()"
   ]
  },
  {
   "cell_type": "markdown",
   "id": "052b3409-61e8-4b2c-9618-5ce41c8dd277",
   "metadata": {},
   "source": [
    "#### Confusion Matrix"
   ]
  },
  {
   "cell_type": "code",
   "execution_count": 43,
   "id": "3d51f2c8-b94e-4675-a70f-e28f55848496",
   "metadata": {},
   "outputs": [
    {
     "data": {
      "text/plain": [
       "array([[ 739,  961],\n",
       "       [ 398, 2989]])"
      ]
     },
     "execution_count": 43,
     "metadata": {},
     "output_type": "execute_result"
    }
   ],
   "source": [
    "# Create a confusion matrix\n",
    "confusion_matrix = np.array([\n",
    "    [tn, fp],\n",
    "    [fn, tp]\n",
    "])\n",
    "confusion_matrix"
   ]
  },
  {
   "cell_type": "markdown",
   "id": "23b0ab25-e7ca-4feb-bf7d-4ea232c6b907",
   "metadata": {},
   "source": [
    "Now we know what kind of errors the model makes. We have more false positives than false negatives.\n",
    "\n",
    "Two different types of errors, with false positives being more difficult to catch. "
   ]
  },
  {
   "cell_type": "code",
   "execution_count": 44,
   "id": "a6e3a21d-ab69-4453-b803-8ae5cad78860",
   "metadata": {},
   "outputs": [
    {
     "data": {
      "text/plain": [
       "array([[0.15, 0.19],\n",
       "       [0.08, 0.59]])"
      ]
     },
     "execution_count": 44,
     "metadata": {},
     "output_type": "execute_result"
    }
   ],
   "source": [
    "# Instead of absolute numbers, we can have percentages\n",
    "(confusion_matrix / confusion_matrix.sum()).round(2)"
   ]
  },
  {
   "cell_type": "markdown",
   "id": "c80e2510-0e63-44fa-a536-3dacb020aaf3",
   "metadata": {},
   "source": [
    "**Model Misclassifications:**\n",
    "- **False Positives:** The model predicts that an application will be certified, but it should be denied.\n",
    "  - This can result in unqualified individuals filling positions that could be filled by qualified U.S. citizens, potentially leading to job displacement.\n",
    "- **False Negatives:** The model predicts that an application will be denied, but it should be certified.\n",
    "  - This can lead to the rejection of qualified and skilled foreign workers, potentially hindering economic growth and depriving the U.S. of valuable human resources.\n",
    "\n",
    "**Importance of Minimizing Misclassifications:**\n",
    "\n",
    "Both types of misclassifications have significant consequences.\n",
    "- **False Positives:** Can lead to unfair competition for U.S. workers and potential security concerns.\n",
    "- **False Negatives:** Can result in the loss of skilled labor and hinder economic growth.\n",
    "\n",
    "**Addressing Misclassifications:**\n",
    "- The F1 score is a valuable metric for evaluating the model's performance, as it considers both precision (minimizing false positives) and recall (minimizing false negatives).\n",
    "- Higher F1 scores generally indicate better model performance in minimizing both types of misclassifications."
   ]
  },
  {
   "cell_type": "markdown",
   "id": "110e0f3f-0336-4181-8a2e-73711011db1a",
   "metadata": {},
   "source": [
    "#### Accuracy"
   ]
  },
  {
   "cell_type": "code",
   "execution_count": 45,
   "id": "d8ee4da1-6e37-4939-b4f9-95d933b9ad49",
   "metadata": {},
   "outputs": [
    {
     "data": {
      "text/plain": [
       "0.7328484371928445"
      ]
     },
     "execution_count": 45,
     "metadata": {},
     "output_type": "execute_result"
    }
   ],
   "source": [
    "# Calculate accuracy\n",
    "acc = (tp + tn) / (tp + tn + fp + fn)\n",
    "acc"
   ]
  },
  {
   "cell_type": "markdown",
   "id": "2275e318-97fb-4dde-a788-955efaf9ff21",
   "metadata": {},
   "source": [
    "#### Precision"
   ]
  },
  {
   "cell_type": "code",
   "execution_count": 46,
   "id": "d04e66ac-a060-41e8-bb02-3679888a7f7b",
   "metadata": {},
   "outputs": [
    {
     "data": {
      "text/plain": [
       "0.7567088607594936"
      ]
     },
     "execution_count": 46,
     "metadata": {},
     "output_type": "execute_result"
    }
   ],
   "source": [
    "# Calculate precision\n",
    "p = tp / (tp + fp)\n",
    "p"
   ]
  },
  {
   "cell_type": "code",
   "execution_count": 47,
   "id": "7cd5bb4b-f0cc-4b85-831b-74bf82f8d53d",
   "metadata": {},
   "outputs": [
    {
     "data": {
      "text/plain": [
       "0.24329113924050638"
      ]
     },
     "execution_count": 47,
     "metadata": {},
     "output_type": "execute_result"
    }
   ],
   "source": [
    "1 - p"
   ]
  },
  {
   "cell_type": "markdown",
   "id": "9942c6c5-615e-4048-b615-74da09b2bcb1",
   "metadata": {},
   "source": [
    "Approximately 24% of the model's predictions are false positives, meaning the model incorrectly predicts that an application should be certified when it should actually be denied."
   ]
  },
  {
   "cell_type": "markdown",
   "id": "9c823646-660b-41a7-a29c-3fee7f69ed53",
   "metadata": {},
   "source": [
    "#### Recall"
   ]
  },
  {
   "cell_type": "code",
   "execution_count": 48,
   "id": "7421e412-8e37-4384-8bc2-888de8db8274",
   "metadata": {},
   "outputs": [
    {
     "data": {
      "text/plain": [
       "0.8824918807204015"
      ]
     },
     "execution_count": 48,
     "metadata": {},
     "output_type": "execute_result"
    }
   ],
   "source": [
    "# Calculate recall\n",
    "r = tp / (tp + fn)\n",
    "r"
   ]
  },
  {
   "cell_type": "code",
   "execution_count": 49,
   "id": "8d5cef82-a197-4561-bfc3-4ec0a5bbeac9",
   "metadata": {},
   "outputs": [
    {
     "data": {
      "text/plain": [
       "0.11750811927959848"
      ]
     },
     "execution_count": 49,
     "metadata": {},
     "output_type": "execute_result"
    }
   ],
   "source": [
    "1 - r"
   ]
  },
  {
   "cell_type": "markdown",
   "id": "76a5c2d6-01bd-4647-a2aa-5f4df7ec85b9",
   "metadata": {},
   "source": [
    "Our model failed to identify approximately 12% of applications that should have been certified (false negative rate of 12%).\n",
    "\n",
    "While an overall accuracy of 73.3% might seem decent, it can be misleading due to class imbalance. A closer look at precision and recall reveals that our model exhibits strong performance in identifying true positives."
   ]
  },
  {
   "cell_type": "markdown",
   "id": "359fcad3-9412-418d-bc54-78fd50c9eb8e",
   "metadata": {},
   "source": [
    "#### F1 score"
   ]
  },
  {
   "cell_type": "code",
   "execution_count": 50,
   "id": "26975071-6999-468c-936a-0efb323cf315",
   "metadata": {},
   "outputs": [
    {
     "data": {
      "text/plain": [
       "0.8147744309663351"
      ]
     },
     "execution_count": 50,
     "metadata": {},
     "output_type": "execute_result"
    }
   ],
   "source": [
    "# Calculate f1 score\n",
    "f1_score = 2 * p * r / (p + r)\n",
    "f1_score"
   ]
  },
  {
   "cell_type": "markdown",
   "id": "184452a0-43e6-40f8-a1b5-26157193ab46",
   "metadata": {},
   "source": [
    "With an F1-score of 0.81, the model demonstrates excellent performance. This high score reflects a strong balance between precision and recall, effectively identifying true positives while minimizing both false positives and false negatives. This indicates a highly accurate and reliable model for predicting visa application outcomes. "
   ]
  },
  {
   "cell_type": "markdown",
   "id": "213cd052-9d22-493a-a98f-b1a7305b11f1",
   "metadata": {},
   "source": [
    "#### ROC curve"
   ]
  },
  {
   "cell_type": "code",
   "execution_count": 51,
   "id": "072a0249-179b-4276-9e7f-1a74a330490f",
   "metadata": {},
   "outputs": [],
   "source": [
    "from sklearn.metrics import roc_curve"
   ]
  },
  {
   "cell_type": "code",
   "execution_count": 52,
   "id": "398570c9-6be8-4e3c-8755-74a2029c8f37",
   "metadata": {},
   "outputs": [],
   "source": [
    "fpr, tpr, thresholds = roc_curve(y_val, y_pred)"
   ]
  },
  {
   "cell_type": "code",
   "execution_count": 53,
   "id": "ab89e4dd-006c-41ba-81c4-d8f31050b140",
   "metadata": {},
   "outputs": [
    {
     "data": {
      "image/png": "[encoded data removed]",
      "text/plain": [
       "<Figure size 500x500 with 1 Axes>"
      ]
     },
     "metadata": {},
     "output_type": "display_data"
    }
   ],
   "source": [
    "# Plot the ROC curve\n",
    "plt.figure(figsize=(5, 5))\n",
    "\n",
    "plt.plot(fpr, tpr, label='Model', color='crimson')\n",
    "plt.plot([0, 1], [0, 1], label='Random', linestyle='--', color='midnightblue')\n",
    "plt.xlim(xmin=0.0)\n",
    "plt.ylim(ymin=0.0)\n",
    "\n",
    "plt.title('ROC Curve')\n",
    "plt.xlabel('FPR')\n",
    "plt.ylabel('TPR')\n",
    "\n",
    "plt.legend()\n",
    "plt.show()"
   ]
  },
  {
   "cell_type": "markdown",
   "id": "dc412243-6cd8-4630-aae4-3b0839904e0f",
   "metadata": {},
   "source": [
    "The Receiver Operating Characteristic (ROC) curve visualizes how a model's performance changes as the classification threshold varies. At very high thresholds, all models tend to predict \"Denied,\" leading to low True Positive Rates (TPR) and low False Positive Rates (FPR).\n",
    "\n",
    "Good models exhibit a steep initial increase in TPR with minimal increase in FPR as the threshold decreases. This indicates a strong ability to correctly classify true positives while minimizing false positives. The ROC curve of a good model typically ascends sharply towards the top-left corner of the plot.\n",
    "\n",
    "On the other hand, poor models demonstrate a rapid increase in FPR alongside TPR, indicating a higher rate of false positive predictions. The ROC curve of a poor model tends to have a shallower slope and may curve towards the right sooner."
   ]
  },
  {
   "cell_type": "markdown",
   "id": "14868f9c-711b-4a37-9e46-fb3fd2a02075",
   "metadata": {},
   "source": [
    "#### AUROC"
   ]
  },
  {
   "cell_type": "code",
   "execution_count": 54,
   "id": "460b5ffe-35da-4ed4-8925-f129d5489ab4",
   "metadata": {},
   "outputs": [],
   "source": [
    "from sklearn.metrics import roc_auc_score"
   ]
  },
  {
   "cell_type": "code",
   "execution_count": 55,
   "id": "72fc9f14-daf1-4787-932e-8c11484f702a",
   "metadata": {},
   "outputs": [
    {
     "data": {
      "text/plain": [
       "0.7578002396707133"
      ]
     },
     "execution_count": 55,
     "metadata": {},
     "output_type": "execute_result"
    }
   ],
   "source": [
    "# Calculate AUROC\n",
    "auroc = roc_auc_score(y_val, y_pred)\n",
    "auroc"
   ]
  },
  {
   "cell_type": "markdown",
   "id": "e2fc3f06-a8d5-49ab-a393-656ac4139dc2",
   "metadata": {},
   "source": [
    "The baseline model exhibits an AUROC of 0.7578. While this score is moderate, it suggests that the model may have limited ability to effectively differentiate between positive and negative instances."
   ]
  },
  {
   "cell_type": "markdown",
   "id": "67705016-5cac-4f61-aa09-c440e79f6424",
   "metadata": {},
   "source": [
    "#### PR curve"
   ]
  },
  {
   "cell_type": "code",
   "execution_count": 56,
   "id": "99a3f52b-b359-405f-9420-217bc5963012",
   "metadata": {},
   "outputs": [],
   "source": [
    "from sklearn.metrics import precision_recall_curve, average_precision_score"
   ]
  },
  {
   "cell_type": "code",
   "execution_count": 57,
   "id": "11ef02c1-187c-4755-9caf-c5bc5e8cd601",
   "metadata": {},
   "outputs": [],
   "source": [
    "precision, recall, thresholds = precision_recall_curve(y_val, y_pred)"
   ]
  },
  {
   "cell_type": "code",
   "execution_count": 58,
   "id": "cdb502f8-a1bd-424d-9df3-64209818ed28",
   "metadata": {},
   "outputs": [
    {
     "data": {
      "image/png": "[encoded data removed]",
      "text/plain": [
       "<Figure size 500x500 with 1 Axes>"
      ]
     },
     "metadata": {},
     "output_type": "display_data"
    }
   ],
   "source": [
    "# Plot the PR curve\n",
    "plt.figure(figsize=(5, 5))\n",
    "\n",
    "plt.plot(recall, precision, label='Model', color='crimson')\n",
    "plt.xlim(xmin=0.0)\n",
    "plt.ylim(ymin=0.0)\n",
    "\n",
    "plt.title('PR Curve')\n",
    "plt.xlabel('Recall')\n",
    "plt.ylabel('Precision')\n",
    "\n",
    "plt.legend()\n",
    "plt.show()"
   ]
  },
  {
   "cell_type": "markdown",
   "id": "21f349a2-8915-45d0-b5e2-10a49de83962",
   "metadata": {},
   "source": [
    "A Precision-Recall (PR) curve illustrates the trade-off between precision and recall for our baseline logistic regression model across different classification thresholds."
   ]
  },
  {
   "cell_type": "markdown",
   "id": "ddb00e9f-ac2e-4e53-97fc-d204f6d0b2c2",
   "metadata": {},
   "source": [
    "#### AUPRC"
   ]
  },
  {
   "cell_type": "code",
   "execution_count": 59,
   "id": "04c05aad-e6ff-4d6b-bcc5-ad14b178e17f",
   "metadata": {},
   "outputs": [
    {
     "data": {
      "text/plain": [
       "0.8539331481681338"
      ]
     },
     "execution_count": 59,
     "metadata": {},
     "output_type": "execute_result"
    }
   ],
   "source": [
    "# Calculate AUPRC\n",
    "auprc = average_precision_score(y_val, y_pred)\n",
    "auprc"
   ]
  },
  {
   "cell_type": "markdown",
   "id": "8b2e8fd6-50ad-48af-b346-02c31d3bd91c",
   "metadata": {},
   "source": [
    "Unlike accuracy, which can be misleading in imbalanced datasets, the Area Under the Precision-Recall Curve (AUPRC) provides a more robust evaluation by focusing on the model's performance in identifying the positive class (certified visa applications), even when this class is rare. \n",
    "\n",
    "AUPRC directly incorporates both precision and recall, two crucial metrics that assess the model's ability to accurately identify true positives while minimizing false positives and false negatives. \n",
    "\n",
    "An AUPRC of 0.8539 indicates strong overall performance in identifying and classifying certified visa applications, suggesting a well-balanced model that effectively minimizes both false positives and false negatives."
   ]
  },
  {
   "cell_type": "code",
   "execution_count": 60,
   "id": "67e024ec-29b5-4ea5-8c6f-0fe0189c342a",
   "metadata": {},
   "outputs": [
    {
     "data": {
      "text/plain": [
       "0.6658148220955377"
      ]
     },
     "execution_count": 60,
     "metadata": {},
     "output_type": "execute_result"
    }
   ],
   "source": [
    "# Calculate the fraction of positives: positive examples / total number of examples\n",
    "auprc_baseline = dict(Counter(y_val))[1] / len(y_val)\n",
    "auprc_baseline"
   ]
  },
  {
   "cell_type": "markdown",
   "id": "7523d030-e781-40ce-84e3-0e0952e4258d",
   "metadata": {},
   "source": [
    "The baseline AUPRC for a class is equal to the proportion of positive examples in the dataset. In this case, with 66.58% positive examples, the baseline AUPRC is 0.6658.\n",
    "\n",
    "Achieving an AUPRC of 0.8539 significantly surpasses the baseline, indicating strong performance in identifying true positives (certified visa applications).\n",
    "\n",
    "The higher AUPRC compared to the AUROC score (0.7578) suggests that the baseline logistic regression model is particularly effective at identifying true positives while minimizing false positives. This is crucial in the visa approval prediction context, where minimizing false positives (incorrectly certifying applications) is of paramount importance."
   ]
  },
  {
   "cell_type": "markdown",
   "id": "da3f75ba-0ead-49e0-9c26-b6a5a4a9b902",
   "metadata": {},
   "source": [
    "#### Recursive Feature Elimination"
   ]
  },
  {
   "cell_type": "code",
   "execution_count": 61,
   "id": "d3b5029d-1d79-4891-8460-b01c949982d5",
   "metadata": {},
   "outputs": [],
   "source": [
    "from sklearn.feature_selection import RFECV\n",
    "from sklearn.model_selection import StratifiedKFold"
   ]
  },
  {
   "cell_type": "code",
   "execution_count": 62,
   "id": "5b1498a2-e791-4672-b4c7-27d48d7cdbfd",
   "metadata": {},
   "outputs": [
    {
     "name": "stdout",
     "output_type": "stream",
     "text": [
      "Optimal number of features: 5\n"
     ]
    }
   ],
   "source": [
    "cv = StratifiedKFold(10)\n",
    "\n",
    "# Create an RFE object with cross-validation and F1-score as scoring metric\n",
    "rfecv = RFECV(estimator=model, step=1, cv=cv, scoring='f1') \n",
    "\n",
    "# Fit RFE to the training data\n",
    "rfecv.fit(X_train_baseline, y_train)\n",
    "\n",
    "print(f\"Optimal number of features: {rfecv.n_features_}\")"
   ]
  },
  {
   "cell_type": "code",
   "execution_count": 63,
   "id": "64a413fb-b3da-48c1-bba6-be19af592a4e",
   "metadata": {},
   "outputs": [
    {
     "data": {
      "image/png": "[encoded data removed]",
      "text/plain": [
       "<Figure size 640x480 with 1 Axes>"
      ]
     },
     "metadata": {},
     "output_type": "display_data"
    }
   ],
   "source": [
    "# Visualize the results\n",
    "cv_results = pd.DataFrame(rfecv.cv_results_)\n",
    "\n",
    "plt.figure()\n",
    "plt.xlabel(\"Number of features selected\")\n",
    "plt.ylabel(\"Mean test F1-score\")\n",
    "plt.errorbar(\n",
    "    x=cv_results[\"n_features\"],\n",
    "    y=cv_results[\"mean_test_score\"],\n",
    "    yerr=cv_results[\"std_test_score\"],\n",
    ")\n",
    "plt.title(\"Recursive Feature Elimination with F1-score\")\n",
    "plt.show()"
   ]
  },
  {
   "cell_type": "code",
   "execution_count": 64,
   "id": "8b030caa-627e-4f0d-ad8b-4736e6d48427",
   "metadata": {},
   "outputs": [
    {
     "data": {
      "text/html": [
       "<div>\n",
       "<style scoped>\n",
       "    .dataframe tbody tr th:only-of-type {\n",
       "        vertical-align: middle;\n",
       "    }\n",
       "\n",
       "    .dataframe tbody tr th {\n",
       "        vertical-align: top;\n",
       "    }\n",
       "\n",
       "    .dataframe thead th {\n",
       "        text-align: right;\n",
       "    }\n",
       "</style>\n",
       "<table border=\"1\" class=\"dataframe\">\n",
       "  <thead>\n",
       "    <tr style=\"text-align: right;\">\n",
       "      <th></th>\n",
       "      <th>Feature</th>\n",
       "      <th>Rank</th>\n",
       "    </tr>\n",
       "  </thead>\n",
       "  <tbody>\n",
       "    <tr>\n",
       "      <th>0</th>\n",
       "      <td>unit_of_wage=Hour</td>\n",
       "      <td>1</td>\n",
       "    </tr>\n",
       "    <tr>\n",
       "      <th>1</th>\n",
       "      <td>has_job_experience=N</td>\n",
       "      <td>1</td>\n",
       "    </tr>\n",
       "    <tr>\n",
       "      <th>2</th>\n",
       "      <td>education_of_employee=Master's</td>\n",
       "      <td>1</td>\n",
       "    </tr>\n",
       "    <tr>\n",
       "      <th>3</th>\n",
       "      <td>education_of_employee=Doctorate</td>\n",
       "      <td>1</td>\n",
       "    </tr>\n",
       "    <tr>\n",
       "      <th>4</th>\n",
       "      <td>education_of_employee=High School</td>\n",
       "      <td>1</td>\n",
       "    </tr>\n",
       "    <tr>\n",
       "      <th>5</th>\n",
       "      <td>continent=Europe</td>\n",
       "      <td>2</td>\n",
       "    </tr>\n",
       "    <tr>\n",
       "      <th>6</th>\n",
       "      <td>region_of_employment=Midwest</td>\n",
       "      <td>3</td>\n",
       "    </tr>\n",
       "    <tr>\n",
       "      <th>7</th>\n",
       "      <td>region_of_employment=South</td>\n",
       "      <td>4</td>\n",
       "    </tr>\n",
       "    <tr>\n",
       "      <th>8</th>\n",
       "      <td>unit_of_wage=Year</td>\n",
       "      <td>5</td>\n",
       "    </tr>\n",
       "    <tr>\n",
       "      <th>9</th>\n",
       "      <td>has_job_experience=Y</td>\n",
       "      <td>6</td>\n",
       "    </tr>\n",
       "    <tr>\n",
       "      <th>10</th>\n",
       "      <td>full_time_position=N</td>\n",
       "      <td>7</td>\n",
       "    </tr>\n",
       "    <tr>\n",
       "      <th>11</th>\n",
       "      <td>continent=South America</td>\n",
       "      <td>8</td>\n",
       "    </tr>\n",
       "    <tr>\n",
       "      <th>12</th>\n",
       "      <td>region_of_employment=Island</td>\n",
       "      <td>9</td>\n",
       "    </tr>\n",
       "    <tr>\n",
       "      <th>13</th>\n",
       "      <td>region_of_employment=West</td>\n",
       "      <td>10</td>\n",
       "    </tr>\n",
       "    <tr>\n",
       "      <th>14</th>\n",
       "      <td>education_of_employee=Bachelor's</td>\n",
       "      <td>11</td>\n",
       "    </tr>\n",
       "    <tr>\n",
       "      <th>15</th>\n",
       "      <td>unit_of_wage=Week</td>\n",
       "      <td>12</td>\n",
       "    </tr>\n",
       "    <tr>\n",
       "      <th>16</th>\n",
       "      <td>region_of_employment=Northeast</td>\n",
       "      <td>13</td>\n",
       "    </tr>\n",
       "    <tr>\n",
       "      <th>17</th>\n",
       "      <td>full_time_position=Y</td>\n",
       "      <td>14</td>\n",
       "    </tr>\n",
       "    <tr>\n",
       "      <th>18</th>\n",
       "      <td>continent=North America</td>\n",
       "      <td>15</td>\n",
       "    </tr>\n",
       "    <tr>\n",
       "      <th>19</th>\n",
       "      <td>continent=Asia</td>\n",
       "      <td>16</td>\n",
       "    </tr>\n",
       "    <tr>\n",
       "      <th>20</th>\n",
       "      <td>continent=Oceania</td>\n",
       "      <td>17</td>\n",
       "    </tr>\n",
       "    <tr>\n",
       "      <th>21</th>\n",
       "      <td>requires_job_training=Y</td>\n",
       "      <td>18</td>\n",
       "    </tr>\n",
       "    <tr>\n",
       "      <th>22</th>\n",
       "      <td>unit_of_wage=Month</td>\n",
       "      <td>19</td>\n",
       "    </tr>\n",
       "    <tr>\n",
       "      <th>23</th>\n",
       "      <td>requires_job_training=N</td>\n",
       "      <td>20</td>\n",
       "    </tr>\n",
       "    <tr>\n",
       "      <th>24</th>\n",
       "      <td>continent=Africa</td>\n",
       "      <td>21</td>\n",
       "    </tr>\n",
       "    <tr>\n",
       "      <th>25</th>\n",
       "      <td>yr_of_estab</td>\n",
       "      <td>22</td>\n",
       "    </tr>\n",
       "    <tr>\n",
       "      <th>26</th>\n",
       "      <td>prevailing_wage</td>\n",
       "      <td>23</td>\n",
       "    </tr>\n",
       "    <tr>\n",
       "      <th>27</th>\n",
       "      <td>no_of_employees</td>\n",
       "      <td>24</td>\n",
       "    </tr>\n",
       "  </tbody>\n",
       "</table>\n",
       "</div>"
      ],
      "text/plain": [
       "                              Feature  Rank\n",
       "0                   unit_of_wage=Hour     1\n",
       "1                has_job_experience=N     1\n",
       "2      education_of_employee=Master's     1\n",
       "3     education_of_employee=Doctorate     1\n",
       "4   education_of_employee=High School     1\n",
       "5                    continent=Europe     2\n",
       "6        region_of_employment=Midwest     3\n",
       "7          region_of_employment=South     4\n",
       "8                   unit_of_wage=Year     5\n",
       "9                has_job_experience=Y     6\n",
       "10               full_time_position=N     7\n",
       "11            continent=South America     8\n",
       "12        region_of_employment=Island     9\n",
       "13          region_of_employment=West    10\n",
       "14   education_of_employee=Bachelor's    11\n",
       "15                  unit_of_wage=Week    12\n",
       "16     region_of_employment=Northeast    13\n",
       "17               full_time_position=Y    14\n",
       "18            continent=North America    15\n",
       "19                     continent=Asia    16\n",
       "20                  continent=Oceania    17\n",
       "21            requires_job_training=Y    18\n",
       "22                 unit_of_wage=Month    19\n",
       "23            requires_job_training=N    20\n",
       "24                   continent=Africa    21\n",
       "25                        yr_of_estab    22\n",
       "26                    prevailing_wage    23\n",
       "27                    no_of_employees    24"
      ]
     },
     "execution_count": 64,
     "metadata": {},
     "output_type": "execute_result"
    }
   ],
   "source": [
    "# Retrieve feature names\n",
    "feature_names = list(dv.get_feature_names_out())\n",
    "\n",
    "# Get feature rankings\n",
    "feature_rankings = rfecv.ranking_ \n",
    "\n",
    "# Create a DataFrame sorted by rank\n",
    "feature_importance_df = pd.DataFrame({'Feature': feature_names, \n",
    "                                      'Rank': feature_rankings}).sort_values(by='Rank').reset_index(drop=True)\n",
    "\n",
    "# Show the feature rankings\n",
    "feature_importance_df"
   ]
  },
  {
   "cell_type": "markdown",
   "id": "ad37bc18-1ba6-4c98-a16f-fa2e788d3cae",
   "metadata": {},
   "source": [
    "We performed a preliminary feature importance analysis using Recursive Feature Elimination with cross-validation (RFECV) on a baseline logistic regression model. The RFECV ranking revealed several key insights.\n",
    "\n",
    "**Key Findings:**\n",
    "- Features such as `unit_of_wage=Hour`, `has_job_experience=N`, `education_of_employee=Master's`, `education_of_employee=Doctorate`, and `education_of_employee=High School` were consistently ranked among the most important, indicating they are strongly predictive of visa approval outcomes.\n",
    "\n",
    "- Categorical features related to employee qualifications (education, experience) and job characteristics (full-time position, job training requirements) generally outperformed numerical features (`yr_of_estab`, `prevailing_wage`, `no_of_employees`) in terms of predictive power. This suggests that factors like education level, job experience, and employment type play a significant role in visa approval decisions.\n",
    "\n",
    "- Regional factors (`region_of_employment`) and the applicant's continent of origin (`continent`) exhibited varying degrees of influence, indicating that these factors may play a role in the visa approval process.\n",
    "\n",
    "- The features `has_job_experience=N` and `full_time_position=N` are ranked relatively high, suggesting that applicants with no prior job experience or those seeking part-time positions may face challenges in the visa approval process.\n",
    "\n",
    "**Implications:**\n",
    "- The RFECV results can guide feature selection for subsequent model development. Focusing on the top-ranked features can potentially improve model performance and reduce model complexity.\n",
    "- Further investigation into the relationships between the high-ranking features and visa approval outcomes can provide valuable insights into the decision-making process.\n",
    "- These findings may have implications for policy decisions regarding visa approval criteria and could potentially identify areas for improvement in the application process.\n",
    "\n",
    "**Limitations:**\n",
    "- The feature importance rankings are specific to the baseline logistic regression model and the current dataset. Results may differ with different models or datasets.\n",
    "- The ranking indicates feature importance in terms of prediction, not necessarily a direct causal relationship between the features and visa approval outcomes.\n",
    "- The importance of features may vary depending on evolving immigration policies, economic conditions, and other external factors.\n",
    "\n",
    "**Possible Next Steps:**\n",
    "- Incorporate the insights from this analysis into feature engineering and model development.\n",
    "- Conduct further analysis to explore the relationships between the top-ranked features and visa approval outcomes in more detail.\n",
    "- Combine these insights with domain expertise (e.g., immigration laws, labor market trends) to gain a more comprehensive understanding of the visa approval process."
   ]
  },
  {
   "cell_type": "markdown",
   "id": "aa476034-e80d-4f84-8e63-447042e52606",
   "metadata": {},
   "source": [
    "### Feature Extraction"
   ]
  },
  {
   "cell_type": "markdown",
   "id": "a8acda19-c20c-427e-a32d-03168b674d32",
   "metadata": {},
   "source": [
    "#### Calculate company age (as of 2016)\n",
    "\n",
    "Calculate the age of the company in years by subtracting the `yr_of_estab` from 2016."
   ]
  },
  {
   "cell_type": "code",
   "execution_count": 65,
   "id": "913c7480-7c3a-4d23-8938-9d71f7163568",
   "metadata": {},
   "outputs": [],
   "source": [
    "year = 2016\n",
    "# Add a new column for company age\n",
    "df_train['company_age'] = year - df_train['yr_of_estab']\n",
    "df_val['company_age'] = year - df_val['yr_of_estab']\n",
    "\n",
    "# Remove the year of establishment column\n",
    "del df_train['yr_of_estab']\n",
    "del df_val['yr_of_estab']"
   ]
  },
  {
   "cell_type": "code",
   "execution_count": 66,
   "id": "b6e2b483-3f72-4437-91f6-6157aac218f1",
   "metadata": {},
   "outputs": [
    {
     "data": {
      "text/html": [
       "<div>\n",
       "<style scoped>\n",
       "    .dataframe tbody tr th:only-of-type {\n",
       "        vertical-align: middle;\n",
       "    }\n",
       "\n",
       "    .dataframe tbody tr th {\n",
       "        vertical-align: top;\n",
       "    }\n",
       "\n",
       "    .dataframe thead th {\n",
       "        text-align: right;\n",
       "    }\n",
       "</style>\n",
       "<table border=\"1\" class=\"dataframe\">\n",
       "  <thead>\n",
       "    <tr style=\"text-align: right;\">\n",
       "      <th></th>\n",
       "      <th>0</th>\n",
       "      <th>1</th>\n",
       "      <th>2</th>\n",
       "      <th>3</th>\n",
       "      <th>4</th>\n",
       "    </tr>\n",
       "  </thead>\n",
       "  <tbody>\n",
       "    <tr>\n",
       "      <th>continent</th>\n",
       "      <td>Asia</td>\n",
       "      <td>Asia</td>\n",
       "      <td>Asia</td>\n",
       "      <td>Asia</td>\n",
       "      <td>Asia</td>\n",
       "    </tr>\n",
       "    <tr>\n",
       "      <th>education_of_employee</th>\n",
       "      <td>Bachelor's</td>\n",
       "      <td>Bachelor's</td>\n",
       "      <td>Master's</td>\n",
       "      <td>Bachelor's</td>\n",
       "      <td>Master's</td>\n",
       "    </tr>\n",
       "    <tr>\n",
       "      <th>has_job_experience</th>\n",
       "      <td>N</td>\n",
       "      <td>N</td>\n",
       "      <td>N</td>\n",
       "      <td>Y</td>\n",
       "      <td>N</td>\n",
       "    </tr>\n",
       "    <tr>\n",
       "      <th>requires_job_training</th>\n",
       "      <td>N</td>\n",
       "      <td>N</td>\n",
       "      <td>N</td>\n",
       "      <td>N</td>\n",
       "      <td>N</td>\n",
       "    </tr>\n",
       "    <tr>\n",
       "      <th>no_of_employees</th>\n",
       "      <td>2500</td>\n",
       "      <td>1527</td>\n",
       "      <td>5380</td>\n",
       "      <td>3035</td>\n",
       "      <td>546</td>\n",
       "    </tr>\n",
       "    <tr>\n",
       "      <th>region_of_employment</th>\n",
       "      <td>Northeast</td>\n",
       "      <td>South</td>\n",
       "      <td>West</td>\n",
       "      <td>West</td>\n",
       "      <td>South</td>\n",
       "    </tr>\n",
       "    <tr>\n",
       "      <th>prevailing_wage</th>\n",
       "      <td>105.87</td>\n",
       "      <td>38764.07</td>\n",
       "      <td>37037.67</td>\n",
       "      <td>89891.32</td>\n",
       "      <td>149133.36</td>\n",
       "    </tr>\n",
       "    <tr>\n",
       "      <th>unit_of_wage</th>\n",
       "      <td>Hour</td>\n",
       "      <td>Year</td>\n",
       "      <td>Year</td>\n",
       "      <td>Year</td>\n",
       "      <td>Year</td>\n",
       "    </tr>\n",
       "    <tr>\n",
       "      <th>full_time_position</th>\n",
       "      <td>Y</td>\n",
       "      <td>Y</td>\n",
       "      <td>Y</td>\n",
       "      <td>N</td>\n",
       "      <td>Y</td>\n",
       "    </tr>\n",
       "    <tr>\n",
       "      <th>company_age</th>\n",
       "      <td>45</td>\n",
       "      <td>3</td>\n",
       "      <td>18</td>\n",
       "      <td>109</td>\n",
       "      <td>2</td>\n",
       "    </tr>\n",
       "  </tbody>\n",
       "</table>\n",
       "</div>"
      ],
      "text/plain": [
       "                                0           1         2           3          4\n",
       "continent                    Asia        Asia      Asia        Asia       Asia\n",
       "education_of_employee  Bachelor's  Bachelor's  Master's  Bachelor's   Master's\n",
       "has_job_experience              N           N         N           Y          N\n",
       "requires_job_training           N           N         N           N          N\n",
       "no_of_employees              2500        1527      5380        3035        546\n",
       "region_of_employment    Northeast       South      West        West      South\n",
       "prevailing_wage            105.87    38764.07  37037.67    89891.32  149133.36\n",
       "unit_of_wage                 Hour        Year      Year        Year       Year\n",
       "full_time_position              Y           Y         Y           N          Y\n",
       "company_age                    45           3        18         109          2"
      ]
     },
     "execution_count": 66,
     "metadata": {},
     "output_type": "execute_result"
    }
   ],
   "source": [
    "df_train.head().T"
   ]
  },
  {
   "cell_type": "code",
   "execution_count": 67,
   "id": "1570a0ea-ea31-417a-9118-6d8648daf8f6",
   "metadata": {},
   "outputs": [],
   "source": [
    "numerical = df_train.select_dtypes(exclude=\"object\").columns\n",
    "categorical = df_train.select_dtypes(include=\"object\").columns"
   ]
  },
  {
   "cell_type": "code",
   "execution_count": 68,
   "id": "cccf1fab-f335-4c57-9ca5-b595cb377892",
   "metadata": {},
   "outputs": [
    {
     "data": {
      "text/plain": [
       "Index(['no_of_employees', 'prevailing_wage', 'company_age'], dtype='object')"
      ]
     },
     "execution_count": 68,
     "metadata": {},
     "output_type": "execute_result"
    }
   ],
   "source": [
    "numerical"
   ]
  },
  {
   "cell_type": "code",
   "execution_count": 69,
   "id": "18cc689d-e195-4c02-8f44-4990cd997e5c",
   "metadata": {},
   "outputs": [
    {
     "data": {
      "image/png": "[encoded data removed]",
      "text/plain": [
       "<Figure size 500x500 with 2 Axes>"
      ]
     },
     "metadata": {},
     "output_type": "display_data"
    }
   ],
   "source": [
    "# Compute and plot the correlation coefficient between every pair of features\n",
    "corr_matrix = df_train[numerical].corr()\n",
    "plt.figure(figsize=(5, 5))\n",
    "\n",
    "# Plot the heatmap for correlation matrix\n",
    "cm = sns.heatmap(corr_matrix, annot=True, cmap='RdPu', fmt='.3f', linewidths=0.5, square=True)\n",
    "plt.title('Correlation Matrix')\n",
    "plt.xticks(rotation=20)\n",
    "plt.yticks(rotation=0)\n",
    "\n",
    "plt.show()"
   ]
  },
  {
   "cell_type": "markdown",
   "id": "4e0e2390-d075-459c-b125-df8048513215",
   "metadata": {},
   "source": [
    "**Insights:**\n",
    "- The correlation matrix reveals minimal linear relationships between the numerical features (`no_of_employees`, `prevailing_wage`, and `company_age`). The correlation coefficients are close to zero. \n",
    "- The low correlations suggest that these features are relatively independent of each other. \n",
    "- This lack of strong correlation indicates that multicollinearity is unlikely to be a major concern in this dataset. \n",
    "- Given the low correlations, creating interaction terms between these features may not substantially improve model performance. However, further analysis and experimentation are needed to confirm this."
   ]
  },
  {
   "cell_type": "markdown",
   "id": "2ba3e3f0-1d12-44c4-987e-9feebf4a706b",
   "metadata": {},
   "source": [
    "### Feature Transformation"
   ]
  },
  {
   "cell_type": "code",
   "execution_count": 70,
   "id": "a5472659-cb94-40d2-838e-095c05d73a24",
   "metadata": {},
   "outputs": [
    {
     "data": {
      "image/png": "[encoded data removed]",
      "text/plain": [
       "<Figure size 1200x600 with 3 Axes>"
      ]
     },
     "metadata": {},
     "output_type": "display_data"
    }
   ],
   "source": [
    "# Plot distribution of numerical features before scaling\n",
    "plt.figure(figsize=(12, 6))\n",
    "\n",
    "colors = ['lightpink', 'paleturquoise', 'moccasin']\n",
    "\n",
    "for i, feature in enumerate(numerical):\n",
    "    plt.subplot(2, 2, i+1)\n",
    "    # Plot the histogram\n",
    "    sns.histplot(x=df_train[feature], color=colors[i])\n",
    "    plt.xlabel(feature)\n",
    "    plt.tight_layout()\n",
    "\n",
    "plt.show()"
   ]
  },
  {
   "cell_type": "code",
   "execution_count": 71,
   "id": "47b7d377-2431-46a7-ba1a-0f30714e73cc",
   "metadata": {},
   "outputs": [
    {
     "data": {
      "text/plain": [
       "no_of_employees    12.853625\n",
       "prevailing_wage     0.777704\n",
       "company_age         2.007334\n",
       "dtype: float64"
      ]
     },
     "execution_count": 71,
     "metadata": {},
     "output_type": "execute_result"
    }
   ],
   "source": [
    "# Check Skewness\n",
    "df_train[numerical].skew(axis=0)"
   ]
  },
  {
   "cell_type": "markdown",
   "id": "b419c5c8-7f86-4af4-b375-00941f05f19b",
   "metadata": {},
   "source": [
    "Highly skewed feature distributions can negatively impact the performance of certain machine learning models. While logistic regression is more robust to non-normality than some other models, it can still be affected by skewed features. Skewed features can violate the underlying assumption of linearity between the log-odds of the outcome and the features in logistic regression. This can lead to biased predictions, especially for instances with extreme values in the skewed features, and consequently decrease model accuracy, precision, and recall.\n",
    "\n",
    "**Insights from Skewness:**\n",
    "\n",
    "- `no_of_employees`: The skewness value of 12.85 indicates a highly right-skewed distribution. This means the data is concentrated towards the lower end (fewer employees) with a long tail towards the higher end (a few companies with a very large number of employees).\n",
    "\n",
    "- `prevailing_wage`: A skewness value of 0.777 suggests a moderate right-skewed distribution. This means the data is slightly concentrated towards the lower wages with a longer tail towards the higher wages.\n",
    "\n",
    "- `company_age`: The skewness value of 2.007 indicates a right-skewed distribution. This means the data is concentrated towards younger companies with a longer tail towards older companies."
   ]
  },
  {
   "cell_type": "markdown",
   "id": "27cde732-766d-4e5b-8986-2cba831376c0",
   "metadata": {},
   "source": [
    "#### Experiment with Yeo-Johnson transformation\n",
    "\n",
    "The Yeo-Johnson transformation extends the Box-Cox transformation by accommodating positive, negative, and zero values. Unlike Box-Cox, which is limited to strictly positive values, Yeo-Johnson offers greater flexibility: It effectively handles both right-skewed and left-skewed distributions."
   ]
  },
  {
   "cell_type": "code",
   "execution_count": 72,
   "id": "052c52e6-302d-406d-9deb-a44a28915208",
   "metadata": {},
   "outputs": [],
   "source": [
    "from sklearn.preprocessing import PowerTransformer"
   ]
  },
  {
   "cell_type": "code",
   "execution_count": 73,
   "id": "429efc97-c7a3-4a51-bfb8-f0afca745c32",
   "metadata": {},
   "outputs": [],
   "source": [
    "transform_features = ['no_of_employees', 'company_age']\n",
    "\n",
    "pt = PowerTransformer(method='yeo-johnson')\n",
    "X_train_transformed = pt.fit_transform(df_train[transform_features])"
   ]
  },
  {
   "cell_type": "code",
   "execution_count": 74,
   "id": "7ef692ff-7925-4b63-a2a1-9b93928b5911",
   "metadata": {},
   "outputs": [],
   "source": [
    "df_transformed = pd.DataFrame(X_train_transformed, columns=transform_features)"
   ]
  },
  {
   "cell_type": "code",
   "execution_count": 75,
   "id": "8681acf1-7471-46be-b3dc-4271c3d10bfd",
   "metadata": {},
   "outputs": [
    {
     "data": {
      "image/png": "[encoded data removed]",
      "text/plain": [
       "<Figure size 1200x500 with 2 Axes>"
      ]
     },
     "metadata": {},
     "output_type": "display_data"
    }
   ],
   "source": [
    "# Plot distribution of numerical features after scaling\n",
    "plt.figure(figsize=(12, 5))\n",
    "\n",
    "colors = ['lightpink', 'moccasin']\n",
    "\n",
    "for i, feature in enumerate(transform_features):\n",
    "    plt.subplot(1, 2, i+1)\n",
    "    # Plot the histogram\n",
    "    sns.histplot(x=df_transformed[feature], color=colors[i])\n",
    "    plt.xlabel(feature)\n",
    "    plt.tight_layout()\n",
    "\n",
    "plt.show()"
   ]
  },
  {
   "cell_type": "code",
   "execution_count": 76,
   "id": "a9089cef-80dd-47ec-96c5-739886b6bd20",
   "metadata": {},
   "outputs": [
    {
     "data": {
      "text/plain": [
       "no_of_employees   -0.023475\n",
       "company_age        0.009601\n",
       "dtype: float64"
      ]
     },
     "execution_count": 76,
     "metadata": {},
     "output_type": "execute_result"
    }
   ],
   "source": [
    "# Check Skewness\n",
    "df_transformed.skew(axis=0)"
   ]
  },
  {
   "cell_type": "markdown",
   "id": "94b723a6-04bd-462e-8d55-6eb2ec62a589",
   "metadata": {},
   "source": [
    "**Insights:**\n",
    "- The Yeo-Johnson transformation effectively reduced the skewness in the two numerical features (`no_of_employees` and `company_age`). This is evident from the significantly lower skewness values after the transformation.\n",
    "\n",
    "- By mitigating skewness, the Yeo-Johnson transformation has the potential to improve the performance of models sensitive to non-normality. This is because the transformation brings the data distribution closer to normality, which can enhance model accuracy and predictive power.\n",
    "\n",
    "- It's crucial to remember that after the Yeo-Johnson transformation, the original interpretation of the features changes. The units of `no_of_employees` and `company_age` are no longer directly interpretable as they were before the transformation.\n",
    "\n",
    "**Possible Next Steps:**\n",
    "- Train machine learning models (e.g., logistic regression, random forest) on both the transformed and original data. Evaluate their performance using appropriate metrics (e.g., accuracy, precision, recall, F1-score, AUC) to assess the impact of the Yeo-Johnson transformation on model accuracy and identify the approach that yields the best results.\n",
    "\n",
    "- Experiment with other data transformations, such as the Box-Cox transformation or quantile transformations, to further investigate their impact on model performance and feature interpretability.\n",
    "\n",
    "- Explore the use of robust models that are less sensitive to non-normality, such as tree-based models (e.g., Random Forest, Gradient Boosting Machines). "
   ]
  },
  {
   "cell_type": "markdown",
   "id": "abeca221-3d36-4655-84ab-568e435c8291",
   "metadata": {},
   "source": [
    "#### Encode binary categorical features"
   ]
  },
  {
   "cell_type": "code",
   "execution_count": 77,
   "id": "0f54d92e-b40d-4f39-a933-9108aaee4c97",
   "metadata": {},
   "outputs": [],
   "source": [
    "# Encode binary categorical features using binary encoding (0 for \"N\", 1 for \"Y\")\n",
    "df_train.has_job_experience = (df_train.has_job_experience == 'Y').astype(int)\n",
    "df_val.has_job_experience = (df_val.has_job_experience == 'Y').astype(int)\n",
    "\n",
    "df_train.full_time_position = (df_train.full_time_position == 'Y').astype(int)\n",
    "df_val.full_time_position = (df_val.full_time_position == 'Y').astype(int)\n",
    "\n",
    "df_train.requires_job_training = (df_train.requires_job_training == 'Y').astype(int)\n",
    "df_val.requires_job_training = (df_val.requires_job_training == 'Y').astype(int)"
   ]
  },
  {
   "cell_type": "code",
   "execution_count": 78,
   "id": "8ea1dd98-7fd7-4e96-a0aa-1065f3352f31",
   "metadata": {},
   "outputs": [
    {
     "data": {
      "text/html": [
       "<div>\n",
       "<style scoped>\n",
       "    .dataframe tbody tr th:only-of-type {\n",
       "        vertical-align: middle;\n",
       "    }\n",
       "\n",
       "    .dataframe tbody tr th {\n",
       "        vertical-align: top;\n",
       "    }\n",
       "\n",
       "    .dataframe thead th {\n",
       "        text-align: right;\n",
       "    }\n",
       "</style>\n",
       "<table border=\"1\" class=\"dataframe\">\n",
       "  <thead>\n",
       "    <tr style=\"text-align: right;\">\n",
       "      <th></th>\n",
       "      <th>continent</th>\n",
       "      <th>education_of_employee</th>\n",
       "      <th>has_job_experience</th>\n",
       "      <th>requires_job_training</th>\n",
       "      <th>no_of_employees</th>\n",
       "      <th>region_of_employment</th>\n",
       "      <th>prevailing_wage</th>\n",
       "      <th>unit_of_wage</th>\n",
       "      <th>full_time_position</th>\n",
       "      <th>company_age</th>\n",
       "    </tr>\n",
       "  </thead>\n",
       "  <tbody>\n",
       "    <tr>\n",
       "      <th>0</th>\n",
       "      <td>Asia</td>\n",
       "      <td>Bachelor's</td>\n",
       "      <td>0</td>\n",
       "      <td>0</td>\n",
       "      <td>2500</td>\n",
       "      <td>Northeast</td>\n",
       "      <td>105.87</td>\n",
       "      <td>Hour</td>\n",
       "      <td>1</td>\n",
       "      <td>45</td>\n",
       "    </tr>\n",
       "    <tr>\n",
       "      <th>1</th>\n",
       "      <td>Asia</td>\n",
       "      <td>Bachelor's</td>\n",
       "      <td>0</td>\n",
       "      <td>0</td>\n",
       "      <td>1527</td>\n",
       "      <td>South</td>\n",
       "      <td>38764.07</td>\n",
       "      <td>Year</td>\n",
       "      <td>1</td>\n",
       "      <td>3</td>\n",
       "    </tr>\n",
       "    <tr>\n",
       "      <th>2</th>\n",
       "      <td>Asia</td>\n",
       "      <td>Master's</td>\n",
       "      <td>0</td>\n",
       "      <td>0</td>\n",
       "      <td>5380</td>\n",
       "      <td>West</td>\n",
       "      <td>37037.67</td>\n",
       "      <td>Year</td>\n",
       "      <td>1</td>\n",
       "      <td>18</td>\n",
       "    </tr>\n",
       "    <tr>\n",
       "      <th>3</th>\n",
       "      <td>Asia</td>\n",
       "      <td>Bachelor's</td>\n",
       "      <td>1</td>\n",
       "      <td>0</td>\n",
       "      <td>3035</td>\n",
       "      <td>West</td>\n",
       "      <td>89891.32</td>\n",
       "      <td>Year</td>\n",
       "      <td>0</td>\n",
       "      <td>109</td>\n",
       "    </tr>\n",
       "    <tr>\n",
       "      <th>4</th>\n",
       "      <td>Asia</td>\n",
       "      <td>Master's</td>\n",
       "      <td>0</td>\n",
       "      <td>0</td>\n",
       "      <td>546</td>\n",
       "      <td>South</td>\n",
       "      <td>149133.36</td>\n",
       "      <td>Year</td>\n",
       "      <td>1</td>\n",
       "      <td>2</td>\n",
       "    </tr>\n",
       "  </tbody>\n",
       "</table>\n",
       "</div>"
      ],
      "text/plain": [
       "  continent education_of_employee  has_job_experience  requires_job_training  \\\n",
       "0      Asia            Bachelor's                   0                      0   \n",
       "1      Asia            Bachelor's                   0                      0   \n",
       "2      Asia              Master's                   0                      0   \n",
       "3      Asia            Bachelor's                   1                      0   \n",
       "4      Asia              Master's                   0                      0   \n",
       "\n",
       "   no_of_employees region_of_employment  prevailing_wage unit_of_wage  \\\n",
       "0             2500            Northeast           105.87         Hour   \n",
       "1             1527                South         38764.07         Year   \n",
       "2             5380                 West         37037.67         Year   \n",
       "3             3035                 West         89891.32         Year   \n",
       "4              546                South        149133.36         Year   \n",
       "\n",
       "   full_time_position  company_age  \n",
       "0                   1           45  \n",
       "1                   1            3  \n",
       "2                   1           18  \n",
       "3                   0          109  \n",
       "4                   1            2  "
      ]
     },
     "execution_count": 78,
     "metadata": {},
     "output_type": "execute_result"
    }
   ],
   "source": [
    "df_train.head()"
   ]
  },
  {
   "cell_type": "markdown",
   "id": "d3ccab1a-2d6d-4427-a97b-87a9a8421bd6",
   "metadata": {},
   "source": [
    "#### Feature scaling"
   ]
  },
  {
   "cell_type": "code",
   "execution_count": 79,
   "id": "4e4e82eb-fb26-403c-979c-17716cb00033",
   "metadata": {},
   "outputs": [],
   "source": [
    "from sklearn.preprocessing import OneHotEncoder, StandardScaler, PowerTransformer\n",
    "from sklearn.compose import ColumnTransformer\n",
    "from sklearn.pipeline import Pipeline"
   ]
  },
  {
   "cell_type": "code",
   "execution_count": 80,
   "id": "2f009014-3981-4c60-acc5-db3be626412b",
   "metadata": {},
   "outputs": [],
   "source": [
    "# Create ColumnTransformer with 2 types of transformers\n",
    "oh_columns = ['continent', 'unit_of_wage', 'region_of_employment', 'education_of_employee']\n",
    "transform_columns= ['no_of_employees', 'company_age']\n",
    "\n",
    "oh_transformer = OneHotEncoder()\n",
    "\n",
    "transform_pipeline = Pipeline(steps=[\n",
    "    ('transformer', PowerTransformer(method='yeo-johnson'))\n",
    "])\n",
    "\n",
    "# Transform data to have a mean of 0 and a standard deviation of 1\n",
    "numeric_transformer = StandardScaler()\n",
    "\n",
    "preprocessor = ColumnTransformer(\n",
    "    [\n",
    "        ('OneHotEncoder', oh_transformer, oh_columns),\n",
    "        ('Transformer', transform_pipeline, transform_columns),\n",
    "        ('StandardScaler', numeric_transformer, numerical)\n",
    "    ], remainder='passthrough'\n",
    ")"
   ]
  },
  {
   "cell_type": "code",
   "execution_count": 81,
   "id": "1ad7d744-e2a9-4752-9022-15b8f086be02",
   "metadata": {},
   "outputs": [
    {
     "data": {
      "text/plain": [
       "array([ 0.        ,  1.        ,  0.        ,  0.        ,  0.        ,\n",
       "        0.        ,  1.        ,  0.        ,  0.        ,  0.        ,\n",
       "        0.        ,  0.        ,  1.        ,  0.        ,  0.        ,\n",
       "        1.        ,  0.        ,  0.        ,  0.        ,  0.24627662,\n",
       "        0.74036002, -0.13674828, -1.40813909,  0.19025859,  0.        ,\n",
       "        0.        ,  1.        ])"
      ]
     },
     "execution_count": 81,
     "metadata": {},
     "output_type": "execute_result"
    }
   ],
   "source": [
    "X_train = preprocessor.fit_transform(df_train)\n",
    "X_train[0]"
   ]
  },
  {
   "cell_type": "code",
   "execution_count": 82,
   "id": "c9a1ca5b-b965-4238-8085-5074407c09f1",
   "metadata": {},
   "outputs": [
    {
     "data": {
      "text/plain": [
       "(15261, 27)"
      ]
     },
     "execution_count": 82,
     "metadata": {},
     "output_type": "execute_result"
    }
   ],
   "source": [
    "X_train.shape"
   ]
  },
  {
   "cell_type": "code",
   "execution_count": 83,
   "id": "bd9dcaae-9807-43af-979c-73bbef3bbfe0",
   "metadata": {},
   "outputs": [
    {
     "data": {
      "text/plain": [
       "array(['OneHotEncoder__continent_Africa', 'OneHotEncoder__continent_Asia',\n",
       "       'OneHotEncoder__continent_Europe',\n",
       "       'OneHotEncoder__continent_North America',\n",
       "       'OneHotEncoder__continent_Oceania',\n",
       "       'OneHotEncoder__continent_South America',\n",
       "       'OneHotEncoder__unit_of_wage_Hour',\n",
       "       'OneHotEncoder__unit_of_wage_Month',\n",
       "       'OneHotEncoder__unit_of_wage_Week',\n",
       "       'OneHotEncoder__unit_of_wage_Year',\n",
       "       'OneHotEncoder__region_of_employment_Island',\n",
       "       'OneHotEncoder__region_of_employment_Midwest',\n",
       "       'OneHotEncoder__region_of_employment_Northeast',\n",
       "       'OneHotEncoder__region_of_employment_South',\n",
       "       'OneHotEncoder__region_of_employment_West',\n",
       "       \"OneHotEncoder__education_of_employee_Bachelor's\",\n",
       "       'OneHotEncoder__education_of_employee_Doctorate',\n",
       "       'OneHotEncoder__education_of_employee_High School',\n",
       "       \"OneHotEncoder__education_of_employee_Master's\",\n",
       "       'Transformer__no_of_employees', 'Transformer__company_age',\n",
       "       'StandardScaler__no_of_employees',\n",
       "       'StandardScaler__prevailing_wage', 'StandardScaler__company_age',\n",
       "       'remainder__has_job_experience',\n",
       "       'remainder__requires_job_training',\n",
       "       'remainder__full_time_position'], dtype=object)"
      ]
     },
     "execution_count": 83,
     "metadata": {},
     "output_type": "execute_result"
    }
   ],
   "source": [
    "preprocessor.get_feature_names_out()"
   ]
  },
  {
   "cell_type": "code",
   "execution_count": 84,
   "id": "f2300e63-2b94-45dc-9934-d68ec5308651",
   "metadata": {},
   "outputs": [
    {
     "data": {
      "text/html": [
       "<div>\n",
       "<style scoped>\n",
       "    .dataframe tbody tr th:only-of-type {\n",
       "        vertical-align: middle;\n",
       "    }\n",
       "\n",
       "    .dataframe tbody tr th {\n",
       "        vertical-align: top;\n",
       "    }\n",
       "\n",
       "    .dataframe thead th {\n",
       "        text-align: right;\n",
       "    }\n",
       "</style>\n",
       "<table border=\"1\" class=\"dataframe\">\n",
       "  <thead>\n",
       "    <tr style=\"text-align: right;\">\n",
       "      <th></th>\n",
       "      <th>continent</th>\n",
       "      <th>education_of_employee</th>\n",
       "      <th>has_job_experience</th>\n",
       "      <th>requires_job_training</th>\n",
       "      <th>no_of_employees</th>\n",
       "      <th>region_of_employment</th>\n",
       "      <th>prevailing_wage</th>\n",
       "      <th>unit_of_wage</th>\n",
       "      <th>full_time_position</th>\n",
       "      <th>company_age</th>\n",
       "    </tr>\n",
       "  </thead>\n",
       "  <tbody>\n",
       "    <tr>\n",
       "      <th>0</th>\n",
       "      <td>Asia</td>\n",
       "      <td>Bachelor's</td>\n",
       "      <td>0</td>\n",
       "      <td>0</td>\n",
       "      <td>2500</td>\n",
       "      <td>Northeast</td>\n",
       "      <td>105.87</td>\n",
       "      <td>Hour</td>\n",
       "      <td>1</td>\n",
       "      <td>45</td>\n",
       "    </tr>\n",
       "  </tbody>\n",
       "</table>\n",
       "</div>"
      ],
      "text/plain": [
       "  continent education_of_employee  has_job_experience  requires_job_training  \\\n",
       "0      Asia            Bachelor's                   0                      0   \n",
       "\n",
       "   no_of_employees region_of_employment  prevailing_wage unit_of_wage  \\\n",
       "0             2500            Northeast           105.87         Hour   \n",
       "\n",
       "   full_time_position  company_age  \n",
       "0                   1           45  "
      ]
     },
     "execution_count": 84,
     "metadata": {},
     "output_type": "execute_result"
    }
   ],
   "source": [
    "df_train.head(1)"
   ]
  },
  {
   "cell_type": "code",
   "execution_count": 85,
   "id": "2a44b8b8-2774-4196-88cf-21170e229a43",
   "metadata": {},
   "outputs": [
    {
     "data": {
      "text/plain": [
       "array([ 0.        ,  1.        ,  0.        ,  0.        ,  0.        ,\n",
       "        0.        ,  0.        ,  0.        ,  0.        ,  1.        ,\n",
       "        0.        ,  0.        ,  1.        ,  0.        ,  0.        ,\n",
       "        0.        ,  1.        ,  0.        ,  0.        , -0.69254934,\n",
       "        1.70137852, -0.21065584, -0.48190652,  2.21141788,  0.        ,\n",
       "        0.        ,  1.        ])"
      ]
     },
     "execution_count": 85,
     "metadata": {},
     "output_type": "execute_result"
    }
   ],
   "source": [
    "X_val = preprocessor.transform(df_val)\n",
    "X_val[0]"
   ]
  },
  {
   "cell_type": "code",
   "execution_count": 86,
   "id": "70eae3c6-f274-4687-89fe-8bcc5c82b739",
   "metadata": {},
   "outputs": [
    {
     "data": {
      "text/plain": [
       "(5087, 27)"
      ]
     },
     "execution_count": 86,
     "metadata": {},
     "output_type": "execute_result"
    }
   ],
   "source": [
    "X_val.shape"
   ]
  },
  {
   "cell_type": "code",
   "execution_count": null,
   "id": "6a09f9d7-ddb0-4015-84e5-b9fc5cc35770",
   "metadata": {},
   "outputs": [],
   "source": []
  },
  {
   "cell_type": "markdown",
   "id": "d26ece1c-4766-421a-b64f-7a816b689005",
   "metadata": {},
   "source": [
    "## 5. Data Modeling"
   ]
  },
  {
   "cell_type": "markdown",
   "id": "c98cc409-9501-4e17-9a9e-ee88f8360798",
   "metadata": {},
   "source": [
    "### Model evaluation and metrics"
   ]
  },
  {
   "cell_type": "code",
   "execution_count": 87,
   "id": "81d3f7b4-e390-4beb-a8f4-c5ebfb4d0671",
   "metadata": {},
   "outputs": [],
   "source": [
    "from sklearn.ensemble import RandomForestClassifier, AdaBoostClassifier, GradientBoostingClassifier\n",
    "from sklearn.neighbors import KNeighborsClassifier\n",
    "from sklearn.tree import DecisionTreeClassifier\n",
    "from sklearn.svm import SVC\n",
    "from sklearn.metrics import (accuracy_score, classification_report, precision_score, \n",
    "                            recall_score, f1_score, roc_auc_score, average_precision_score)\n",
    "from sklearn.metrics import ConfusionMatrixDisplay as cmd\n",
    "from xgboost import XGBClassifier\n",
    "from catboost import CatBoostClassifier"
   ]
  },
  {
   "cell_type": "code",
   "execution_count": 88,
   "id": "a5f4a13c-a0d8-4689-892a-58dac08eb360",
   "metadata": {},
   "outputs": [],
   "source": [
    "def evaluate_clf(y, y_pred):\n",
    "    acc = accuracy_score(y, y_pred)\n",
    "    precision = precision_score(y, y_pred)\n",
    "    recall = recall_score(y, y_pred)\n",
    "    f1 = f1_score(y, y_pred)\n",
    "    auroc = roc_auc_score(y, y_pred)\n",
    "    auprc = average_precision_score(y, y_pred)\n",
    "    return acc, precision, recall, f1, auroc, auprc"
   ]
  },
  {
   "cell_type": "code",
   "execution_count": 89,
   "id": "2bcd8050-c663-40ea-8ba0-b4e2e13208e7",
   "metadata": {},
   "outputs": [],
   "source": [
    "models = {\n",
    "    'Random Forest': RandomForestClassifier(random_state=42),\n",
    "    'Decision Tree': DecisionTreeClassifier(random_state=42),\n",
    "    'Gradient Boosting': GradientBoostingClassifier(random_state=42),\n",
    "    'Logistic Regression': LogisticRegression(),\n",
    "    'K-Neighbors Classifier': KNeighborsClassifier(),\n",
    "    'XGBClassifier': XGBClassifier(random_state=42), \n",
    "    'CatBoosting Classifier': CatBoostClassifier(random_state=42, verbose=False),\n",
    "    'Support Vector Classifier': SVC(),\n",
    "    'AdaBoost Classifier': AdaBoostClassifier(random_state=42)\n",
    "}"
   ]
  },
  {
   "cell_type": "code",
   "execution_count": 90,
   "id": "dd5de114-30c8-4a5a-a42a-be806054cb8a",
   "metadata": {},
   "outputs": [],
   "source": [
    "# Evaluate a dictionary of models and return a report \n",
    "def evaluate_models(X_train, y_train, X_val, y_val, models):\n",
    "    train_results = []\n",
    "    val_results = []\n",
    "    \n",
    "    for i in range(len(list(models))):\n",
    "        model = list(models.values())[i]\n",
    "        # Train the model\n",
    "        model.fit(X_train, y_train)\n",
    "\n",
    "        # Make predictions\n",
    "        y_train_pred = model.predict(X_train)\n",
    "        y_val_pred = model.predict(X_val)\n",
    "\n",
    "        # Train set performance\n",
    "        (train_acc, train_precision, train_recall,\n",
    "        train_f1, train_auroc, train_auprc) = evaluate_clf(y_train ,y_train_pred)\n",
    "\n",
    "        # Validation set performance\n",
    "        (val_acc, val_precision, val_recall,\n",
    "        val_f1, val_auroc, val_auprc) = evaluate_clf(y_val, y_val_pred)\n",
    "\n",
    "        # Model performance on Training set\n",
    "        train_result = {\n",
    "            'Model Name': list(models.keys())[i],\n",
    "            'Accuracy': train_acc,\n",
    "            'Precision': train_precision,\n",
    "            'Recall': train_recall,\n",
    "            'F1-score': train_f1,\n",
    "            'AUROC': train_auroc,\n",
    "            'AUPRC': train_auprc\n",
    "        }\n",
    "        train_results.append(train_result)\n",
    "\n",
    "        # Model performance on Validation set\n",
    "        val_result = {\n",
    "            'Model Name': list(models.keys())[i],\n",
    "            'Accuracy': val_acc,\n",
    "            'Precision': val_precision,\n",
    "            'Recall': val_recall,\n",
    "            'F1-score': val_f1,\n",
    "            'AUROC': val_auroc,\n",
    "            'AUPRC': val_auprc\n",
    "        }\n",
    "        val_results.append(val_result)\n",
    "\n",
    "    df_train_report = pd.DataFrame(train_results).sort_values(by=['Accuracy'], ascending=False)\n",
    "    df_val_report = pd.DataFrame(val_results).sort_values(by=['Accuracy'], ascending=False)\n",
    "    return df_train_report, df_val_report"
   ]
  },
  {
   "cell_type": "code",
   "execution_count": null,
   "id": "899f4be1-4bc0-461a-bf2b-8296294bee50",
   "metadata": {},
   "outputs": [],
   "source": []
  },
  {
   "cell_type": "code",
   "execution_count": 91,
   "id": "d06a91c0-14a1-4de2-a8c8-03bdd5a4999a",
   "metadata": {},
   "outputs": [
    {
     "data": {
      "text/plain": [
       "Counter({1: 10235, 0: 5026})"
      ]
     },
     "execution_count": 91,
     "metadata": {},
     "output_type": "execute_result"
    }
   ],
   "source": [
    "Counter(y_train)"
   ]
  },
  {
   "cell_type": "markdown",
   "id": "880105b8-7f60-467a-b194-7222bc461054",
   "metadata": {},
   "source": [
    "The train set exhibits a class imbalance, with approximately twice as many certified applications as denied applications."
   ]
  },
  {
   "cell_type": "code",
   "execution_count": 92,
   "id": "4747e3c2-55fc-44d4-aea4-a55569aacff1",
   "metadata": {},
   "outputs": [],
   "source": [
    "train_perf_report, val_perf_report = evaluate_models(X_train=X_train, y_train=y_train,\n",
    "                                                     X_val=X_val, y_val=y_val, models=models)"
   ]
  },
  {
   "cell_type": "markdown",
   "id": "943a6cbc-c4b0-4edf-9fcf-cab57daa0823",
   "metadata": {},
   "source": [
    "##### Check model performance on train set"
   ]
  },
  {
   "cell_type": "code",
   "execution_count": 93,
   "id": "923e8c8a-efc7-48ec-8d5f-75e723251e35",
   "metadata": {},
   "outputs": [
    {
     "data": {
      "text/html": [
       "<div>\n",
       "<style scoped>\n",
       "    .dataframe tbody tr th:only-of-type {\n",
       "        vertical-align: middle;\n",
       "    }\n",
       "\n",
       "    .dataframe tbody tr th {\n",
       "        vertical-align: top;\n",
       "    }\n",
       "\n",
       "    .dataframe thead th {\n",
       "        text-align: right;\n",
       "    }\n",
       "</style>\n",
       "<table border=\"1\" class=\"dataframe\">\n",
       "  <thead>\n",
       "    <tr style=\"text-align: right;\">\n",
       "      <th></th>\n",
       "      <th>Model Name</th>\n",
       "      <th>Accuracy</th>\n",
       "      <th>Precision</th>\n",
       "      <th>Recall</th>\n",
       "      <th>F1-score</th>\n",
       "      <th>AUROC</th>\n",
       "      <th>AUPRC</th>\n",
       "    </tr>\n",
       "  </thead>\n",
       "  <tbody>\n",
       "    <tr>\n",
       "      <th>0</th>\n",
       "      <td>Random Forest</td>\n",
       "      <td>1.000000</td>\n",
       "      <td>1.000000</td>\n",
       "      <td>1.000000</td>\n",
       "      <td>1.000000</td>\n",
       "      <td>1.000000</td>\n",
       "      <td>1.000000</td>\n",
       "    </tr>\n",
       "    <tr>\n",
       "      <th>1</th>\n",
       "      <td>Decision Tree</td>\n",
       "      <td>1.000000</td>\n",
       "      <td>1.000000</td>\n",
       "      <td>1.000000</td>\n",
       "      <td>1.000000</td>\n",
       "      <td>1.000000</td>\n",
       "      <td>1.000000</td>\n",
       "    </tr>\n",
       "    <tr>\n",
       "      <th>5</th>\n",
       "      <td>XGBClassifier</td>\n",
       "      <td>0.850993</td>\n",
       "      <td>0.853539</td>\n",
       "      <td>0.938935</td>\n",
       "      <td>0.894203</td>\n",
       "      <td>0.805421</td>\n",
       "      <td>0.842372</td>\n",
       "    </tr>\n",
       "    <tr>\n",
       "      <th>6</th>\n",
       "      <td>CatBoosting Classifier</td>\n",
       "      <td>0.798572</td>\n",
       "      <td>0.812680</td>\n",
       "      <td>0.909233</td>\n",
       "      <td>0.858250</td>\n",
       "      <td>0.741226</td>\n",
       "      <td>0.799790</td>\n",
       "    </tr>\n",
       "    <tr>\n",
       "      <th>4</th>\n",
       "      <td>K-Neighbors Classifier</td>\n",
       "      <td>0.793985</td>\n",
       "      <td>0.817954</td>\n",
       "      <td>0.891158</td>\n",
       "      <td>0.852988</td>\n",
       "      <td>0.743629</td>\n",
       "      <td>0.801922</td>\n",
       "    </tr>\n",
       "    <tr>\n",
       "      <th>2</th>\n",
       "      <td>Gradient Boosting</td>\n",
       "      <td>0.758797</td>\n",
       "      <td>0.784659</td>\n",
       "      <td>0.882560</td>\n",
       "      <td>0.830735</td>\n",
       "      <td>0.694662</td>\n",
       "      <td>0.771272</td>\n",
       "    </tr>\n",
       "    <tr>\n",
       "      <th>7</th>\n",
       "      <td>Support Vector Classifier</td>\n",
       "      <td>0.753751</td>\n",
       "      <td>0.773314</td>\n",
       "      <td>0.895261</td>\n",
       "      <td>0.829832</td>\n",
       "      <td>0.680420</td>\n",
       "      <td>0.762563</td>\n",
       "    </tr>\n",
       "    <tr>\n",
       "      <th>3</th>\n",
       "      <td>Logistic Regression</td>\n",
       "      <td>0.740908</td>\n",
       "      <td>0.767801</td>\n",
       "      <td>0.879726</td>\n",
       "      <td>0.819962</td>\n",
       "      <td>0.668972</td>\n",
       "      <td>0.756118</td>\n",
       "    </tr>\n",
       "    <tr>\n",
       "      <th>8</th>\n",
       "      <td>AdaBoost Classifier</td>\n",
       "      <td>0.740581</td>\n",
       "      <td>0.763123</td>\n",
       "      <td>0.889204</td>\n",
       "      <td>0.821353</td>\n",
       "      <td>0.663563</td>\n",
       "      <td>0.752878</td>\n",
       "    </tr>\n",
       "  </tbody>\n",
       "</table>\n",
       "</div>"
      ],
      "text/plain": [
       "                  Model Name  Accuracy  Precision    Recall  F1-score  \\\n",
       "0              Random Forest  1.000000   1.000000  1.000000  1.000000   \n",
       "1              Decision Tree  1.000000   1.000000  1.000000  1.000000   \n",
       "5              XGBClassifier  0.850993   0.853539  0.938935  0.894203   \n",
       "6     CatBoosting Classifier  0.798572   0.812680  0.909233  0.858250   \n",
       "4     K-Neighbors Classifier  0.793985   0.817954  0.891158  0.852988   \n",
       "2          Gradient Boosting  0.758797   0.784659  0.882560  0.830735   \n",
       "7  Support Vector Classifier  0.753751   0.773314  0.895261  0.829832   \n",
       "3        Logistic Regression  0.740908   0.767801  0.879726  0.819962   \n",
       "8        AdaBoost Classifier  0.740581   0.763123  0.889204  0.821353   \n",
       "\n",
       "      AUROC     AUPRC  \n",
       "0  1.000000  1.000000  \n",
       "1  1.000000  1.000000  \n",
       "5  0.805421  0.842372  \n",
       "6  0.741226  0.799790  \n",
       "4  0.743629  0.801922  \n",
       "2  0.694662  0.771272  \n",
       "7  0.680420  0.762563  \n",
       "3  0.668972  0.756118  \n",
       "8  0.663563  0.752878  "
      ]
     },
     "execution_count": 93,
     "metadata": {},
     "output_type": "execute_result"
    }
   ],
   "source": [
    "train_perf_report"
   ]
  },
  {
   "cell_type": "markdown",
   "id": "02f4d6b0-89a8-4b63-98d3-b4e5fb47fb06",
   "metadata": {},
   "source": [
    "##### Check model performance on validation set"
   ]
  },
  {
   "cell_type": "code",
   "execution_count": 94,
   "id": "04dfb077-db30-4c68-af2a-dd8ab2e4223d",
   "metadata": {},
   "outputs": [
    {
     "data": {
      "text/html": [
       "<div>\n",
       "<style scoped>\n",
       "    .dataframe tbody tr th:only-of-type {\n",
       "        vertical-align: middle;\n",
       "    }\n",
       "\n",
       "    .dataframe tbody tr th {\n",
       "        vertical-align: top;\n",
       "    }\n",
       "\n",
       "    .dataframe thead th {\n",
       "        text-align: right;\n",
       "    }\n",
       "</style>\n",
       "<table border=\"1\" class=\"dataframe\">\n",
       "  <thead>\n",
       "    <tr style=\"text-align: right;\">\n",
       "      <th></th>\n",
       "      <th>Model Name</th>\n",
       "      <th>Accuracy</th>\n",
       "      <th>Precision</th>\n",
       "      <th>Recall</th>\n",
       "      <th>F1-score</th>\n",
       "      <th>AUROC</th>\n",
       "      <th>AUPRC</th>\n",
       "    </tr>\n",
       "  </thead>\n",
       "  <tbody>\n",
       "    <tr>\n",
       "      <th>2</th>\n",
       "      <td>Gradient Boosting</td>\n",
       "      <td>0.748575</td>\n",
       "      <td>0.776061</td>\n",
       "      <td>0.874815</td>\n",
       "      <td>0.822484</td>\n",
       "      <td>0.685937</td>\n",
       "      <td>0.762260</td>\n",
       "    </tr>\n",
       "    <tr>\n",
       "      <th>6</th>\n",
       "      <td>CatBoosting Classifier</td>\n",
       "      <td>0.746216</td>\n",
       "      <td>0.774633</td>\n",
       "      <td>0.872749</td>\n",
       "      <td>0.820769</td>\n",
       "      <td>0.683433</td>\n",
       "      <td>0.760786</td>\n",
       "    </tr>\n",
       "    <tr>\n",
       "      <th>7</th>\n",
       "      <td>Support Vector Classifier</td>\n",
       "      <td>0.742481</td>\n",
       "      <td>0.764048</td>\n",
       "      <td>0.887216</td>\n",
       "      <td>0.821038</td>\n",
       "      <td>0.670667</td>\n",
       "      <td>0.752969</td>\n",
       "    </tr>\n",
       "    <tr>\n",
       "      <th>3</th>\n",
       "      <td>Logistic Regression</td>\n",
       "      <td>0.735601</td>\n",
       "      <td>0.761795</td>\n",
       "      <td>0.877177</td>\n",
       "      <td>0.815425</td>\n",
       "      <td>0.665353</td>\n",
       "      <td>0.750006</td>\n",
       "    </tr>\n",
       "    <tr>\n",
       "      <th>8</th>\n",
       "      <td>AdaBoost Classifier</td>\n",
       "      <td>0.730686</td>\n",
       "      <td>0.753583</td>\n",
       "      <td>0.884854</td>\n",
       "      <td>0.813960</td>\n",
       "      <td>0.654192</td>\n",
       "      <td>0.743477</td>\n",
       "    </tr>\n",
       "    <tr>\n",
       "      <th>5</th>\n",
       "      <td>XGBClassifier</td>\n",
       "      <td>0.730489</td>\n",
       "      <td>0.765543</td>\n",
       "      <td>0.857986</td>\n",
       "      <td>0.809133</td>\n",
       "      <td>0.667229</td>\n",
       "      <td>0.751380</td>\n",
       "    </tr>\n",
       "    <tr>\n",
       "      <th>0</th>\n",
       "      <td>Random Forest</td>\n",
       "      <td>0.725772</td>\n",
       "      <td>0.767598</td>\n",
       "      <td>0.843519</td>\n",
       "      <td>0.803770</td>\n",
       "      <td>0.667348</td>\n",
       "      <td>0.751671</td>\n",
       "    </tr>\n",
       "    <tr>\n",
       "      <th>4</th>\n",
       "      <td>K-Neighbors Classifier</td>\n",
       "      <td>0.707686</td>\n",
       "      <td>0.753469</td>\n",
       "      <td>0.833776</td>\n",
       "      <td>0.791591</td>\n",
       "      <td>0.645123</td>\n",
       "      <td>0.738898</td>\n",
       "    </tr>\n",
       "    <tr>\n",
       "      <th>1</th>\n",
       "      <td>Decision Tree</td>\n",
       "      <td>0.652841</td>\n",
       "      <td>0.739864</td>\n",
       "      <td>0.738116</td>\n",
       "      <td>0.738989</td>\n",
       "      <td>0.610529</td>\n",
       "      <td>0.720472</td>\n",
       "    </tr>\n",
       "  </tbody>\n",
       "</table>\n",
       "</div>"
      ],
      "text/plain": [
       "                  Model Name  Accuracy  Precision    Recall  F1-score  \\\n",
       "2          Gradient Boosting  0.748575   0.776061  0.874815  0.822484   \n",
       "6     CatBoosting Classifier  0.746216   0.774633  0.872749  0.820769   \n",
       "7  Support Vector Classifier  0.742481   0.764048  0.887216  0.821038   \n",
       "3        Logistic Regression  0.735601   0.761795  0.877177  0.815425   \n",
       "8        AdaBoost Classifier  0.730686   0.753583  0.884854  0.813960   \n",
       "5              XGBClassifier  0.730489   0.765543  0.857986  0.809133   \n",
       "0              Random Forest  0.725772   0.767598  0.843519  0.803770   \n",
       "4     K-Neighbors Classifier  0.707686   0.753469  0.833776  0.791591   \n",
       "1              Decision Tree  0.652841   0.739864  0.738116  0.738989   \n",
       "\n",
       "      AUROC     AUPRC  \n",
       "2  0.685937  0.762260  \n",
       "6  0.683433  0.760786  \n",
       "7  0.670667  0.752969  \n",
       "3  0.665353  0.750006  \n",
       "8  0.654192  0.743477  \n",
       "5  0.667229  0.751380  \n",
       "0  0.667348  0.751671  \n",
       "4  0.645123  0.738898  \n",
       "1  0.610529  0.720472  "
      ]
     },
     "execution_count": 94,
     "metadata": {},
     "output_type": "execute_result"
    }
   ],
   "source": [
    "val_perf_report"
   ]
  },
  {
   "cell_type": "code",
   "execution_count": null,
   "id": "c6c99b00-d636-4a4c-b0cb-8e3d8b30eeb1",
   "metadata": {},
   "outputs": [],
   "source": []
  },
  {
   "cell_type": "markdown",
   "id": "008f4af2-962f-4979-93db-7bd616c558ef",
   "metadata": {},
   "source": [
    "#### Hyperparameter Tuning"
   ]
  },
  {
   "cell_type": "markdown",
   "id": "91f7acc5-cbaa-4c44-8919-bf0dd3c9e620",
   "metadata": {},
   "source": [
    "Based on the initial model evaluation, **Gradient Boosting**, **CatBoosting Classifier**, and **Support Vector Classifier** emerged as the top-3 performing models. We will now proceed with hyperparameter tuning for these models to potentially enhance their predictive accuracy. "
   ]
  },
  {
   "cell_type": "code",
   "execution_count": null,
   "id": "33e6332a-19a7-4f25-8a39-86d09fb757c9",
   "metadata": {},
   "outputs": [],
   "source": [
    "# Initialize parameters for Hyperparameter Tuning\n",
    "gb_params = {\n",
    "    'n_estimators': [8, 16, 32, 64, 128, 256],\n",
    "    'learning_rate': [0.1, 0.01, 0.05, 0.001],\n",
    "    'max_depth': [3, 4, 5, 6, 8, 10],\n",
    "    'min_samples_leaf': [1, 3, 5, 10, 25, 50]\n",
    "    'subsample': [0.6, 0.7, 0.75, 0.8, 0.85, 0.9]\n",
    "}\n",
    "\n",
    "cb_params = {\n",
    "    'learning_rate': [0.01, 0.03, 0.05, 0.08, 0.1],\n",
    "    'depth': [3, 4, 5, 6, 8, 10],\n",
    "    'iterations': [30, 50, 100, 300, 500]\n",
    "}\n",
    "\n",
    "sv_params = {\n",
    "    'C': [0.1, 1, 10, 100, 1000],  \n",
    "    'gamma': [1, 0.1, 0.01, 0.001, 0.0001], \n",
    "    'kernel': ['rbf']\n",
    "}"
   ]
  },
  {
   "cell_type": "code",
   "execution_count": null,
   "id": "b8edffee-8e2a-483c-ab36-f757a217c2ae",
   "metadata": {},
   "outputs": [],
   "source": []
  },
  {
   "cell_type": "code",
   "execution_count": null,
   "id": "0b19fa05-e94f-49d3-9d44-1d184879f606",
   "metadata": {},
   "outputs": [],
   "source": []
  },
  {
   "cell_type": "code",
   "execution_count": null,
   "id": "e9473b9c-8c57-48b9-b58d-0f5eb9ef0666",
   "metadata": {},
   "outputs": [],
   "source": []
  },
  {
   "cell_type": "code",
   "execution_count": null,
   "id": "da7318b2-6682-4d17-89b6-dcf3c01506e3",
   "metadata": {},
   "outputs": [],
   "source": []
  },
  {
   "cell_type": "markdown",
   "id": "9b608987-1355-4339-827c-f213d6ba1eb4",
   "metadata": {},
   "source": [
    "#### Experiment with SMOTE"
   ]
  },
  {
   "cell_type": "code",
   "execution_count": 96,
   "id": "3cea81e8-e7c7-4fb4-895e-1f20906a0d08",
   "metadata": {},
   "outputs": [],
   "source": [
    "from imblearn.over_sampling import SMOTE"
   ]
  },
  {
   "cell_type": "code",
   "execution_count": 97,
   "id": "497c715f-40c0-486d-b116-014fba565440",
   "metadata": {},
   "outputs": [],
   "source": [
    "smt = SMOTE(random_state=42)\n",
    "X_train_sm, y_train_sm = smt.fit_resample(X_train, y_train)"
   ]
  },
  {
   "cell_type": "code",
   "execution_count": 98,
   "id": "a5224fc3-1f0f-46a7-bcac-142d27927a52",
   "metadata": {},
   "outputs": [
    {
     "data": {
      "text/plain": [
       "Counter({1: 10235, 0: 10235})"
      ]
     },
     "execution_count": 98,
     "metadata": {},
     "output_type": "execute_result"
    }
   ],
   "source": [
    "Counter(y_train_sm)"
   ]
  },
  {
   "cell_type": "code",
   "execution_count": 99,
   "id": "4eb4be25-3b16-4d4e-9e16-9f37c7b97ef8",
   "metadata": {},
   "outputs": [],
   "source": [
    "train_perf_report_sm, val_perf_report_sm = evaluate_models(X_train=X_train_sm, y_train=y_train_sm,\n",
    "                                                           X_val=X_val, y_val=y_val, models=models)"
   ]
  },
  {
   "cell_type": "markdown",
   "id": "57dd4432-4dc1-458f-89aa-f9d52ca5f663",
   "metadata": {},
   "source": [
    "##### Check model performance on train set"
   ]
  },
  {
   "cell_type": "code",
   "execution_count": 104,
   "id": "790b2293-0b5a-4dba-916f-2543734663e2",
   "metadata": {},
   "outputs": [
    {
     "data": {
      "text/html": [
       "<div>\n",
       "<style scoped>\n",
       "    .dataframe tbody tr th:only-of-type {\n",
       "        vertical-align: middle;\n",
       "    }\n",
       "\n",
       "    .dataframe tbody tr th {\n",
       "        vertical-align: top;\n",
       "    }\n",
       "\n",
       "    .dataframe thead th {\n",
       "        text-align: right;\n",
       "    }\n",
       "</style>\n",
       "<table border=\"1\" class=\"dataframe\">\n",
       "  <thead>\n",
       "    <tr style=\"text-align: right;\">\n",
       "      <th></th>\n",
       "      <th>Model Name</th>\n",
       "      <th>Accuracy</th>\n",
       "      <th>Precision</th>\n",
       "      <th>Recall</th>\n",
       "      <th>F1-score</th>\n",
       "      <th>AUROC</th>\n",
       "      <th>AUPRC</th>\n",
       "    </tr>\n",
       "  </thead>\n",
       "  <tbody>\n",
       "    <tr>\n",
       "      <th>0</th>\n",
       "      <td>Random Forest</td>\n",
       "      <td>1.000000</td>\n",
       "      <td>1.000000</td>\n",
       "      <td>1.000000</td>\n",
       "      <td>1.000000</td>\n",
       "      <td>1.000000</td>\n",
       "      <td>1.000000</td>\n",
       "    </tr>\n",
       "    <tr>\n",
       "      <th>1</th>\n",
       "      <td>Decision Tree</td>\n",
       "      <td>1.000000</td>\n",
       "      <td>1.000000</td>\n",
       "      <td>1.000000</td>\n",
       "      <td>1.000000</td>\n",
       "      <td>1.000000</td>\n",
       "      <td>1.000000</td>\n",
       "    </tr>\n",
       "    <tr>\n",
       "      <th>5</th>\n",
       "      <td>XGBClassifier</td>\n",
       "      <td>0.865657</td>\n",
       "      <td>0.852501</td>\n",
       "      <td>0.884319</td>\n",
       "      <td>0.868118</td>\n",
       "      <td>0.865657</td>\n",
       "      <td>0.811723</td>\n",
       "    </tr>\n",
       "    <tr>\n",
       "      <th>4</th>\n",
       "      <td>K-Neighbors Classifier</td>\n",
       "      <td>0.836346</td>\n",
       "      <td>0.889908</td>\n",
       "      <td>0.767660</td>\n",
       "      <td>0.824276</td>\n",
       "      <td>0.836346</td>\n",
       "      <td>0.799317</td>\n",
       "    </tr>\n",
       "    <tr>\n",
       "      <th>6</th>\n",
       "      <td>CatBoosting Classifier</td>\n",
       "      <td>0.835125</td>\n",
       "      <td>0.814390</td>\n",
       "      <td>0.868100</td>\n",
       "      <td>0.840388</td>\n",
       "      <td>0.835125</td>\n",
       "      <td>0.772922</td>\n",
       "    </tr>\n",
       "    <tr>\n",
       "      <th>2</th>\n",
       "      <td>Gradient Boosting</td>\n",
       "      <td>0.761602</td>\n",
       "      <td>0.757675</td>\n",
       "      <td>0.769223</td>\n",
       "      <td>0.763405</td>\n",
       "      <td>0.761602</td>\n",
       "      <td>0.698210</td>\n",
       "    </tr>\n",
       "    <tr>\n",
       "      <th>7</th>\n",
       "      <td>Support Vector Classifier</td>\n",
       "      <td>0.733317</td>\n",
       "      <td>0.715640</td>\n",
       "      <td>0.774304</td>\n",
       "      <td>0.743817</td>\n",
       "      <td>0.733317</td>\n",
       "      <td>0.666971</td>\n",
       "    </tr>\n",
       "    <tr>\n",
       "      <th>8</th>\n",
       "      <td>AdaBoost Classifier</td>\n",
       "      <td>0.720616</td>\n",
       "      <td>0.719992</td>\n",
       "      <td>0.722032</td>\n",
       "      <td>0.721011</td>\n",
       "      <td>0.720616</td>\n",
       "      <td>0.658841</td>\n",
       "    </tr>\n",
       "    <tr>\n",
       "      <th>3</th>\n",
       "      <td>Logistic Regression</td>\n",
       "      <td>0.704543</td>\n",
       "      <td>0.702407</td>\n",
       "      <td>0.709819</td>\n",
       "      <td>0.706094</td>\n",
       "      <td>0.704543</td>\n",
       "      <td>0.643673</td>\n",
       "    </tr>\n",
       "  </tbody>\n",
       "</table>\n",
       "</div>"
      ],
      "text/plain": [
       "                  Model Name  Accuracy  Precision    Recall  F1-score  \\\n",
       "0              Random Forest  1.000000   1.000000  1.000000  1.000000   \n",
       "1              Decision Tree  1.000000   1.000000  1.000000  1.000000   \n",
       "5              XGBClassifier  0.865657   0.852501  0.884319  0.868118   \n",
       "4     K-Neighbors Classifier  0.836346   0.889908  0.767660  0.824276   \n",
       "6     CatBoosting Classifier  0.835125   0.814390  0.868100  0.840388   \n",
       "2          Gradient Boosting  0.761602   0.757675  0.769223  0.763405   \n",
       "7  Support Vector Classifier  0.733317   0.715640  0.774304  0.743817   \n",
       "8        AdaBoost Classifier  0.720616   0.719992  0.722032  0.721011   \n",
       "3        Logistic Regression  0.704543   0.702407  0.709819  0.706094   \n",
       "\n",
       "      AUROC     AUPRC  \n",
       "0  1.000000  1.000000  \n",
       "1  1.000000  1.000000  \n",
       "5  0.865657  0.811723  \n",
       "4  0.836346  0.799317  \n",
       "6  0.835125  0.772922  \n",
       "2  0.761602  0.698210  \n",
       "7  0.733317  0.666971  \n",
       "8  0.720616  0.658841  \n",
       "3  0.704543  0.643673  "
      ]
     },
     "execution_count": 104,
     "metadata": {},
     "output_type": "execute_result"
    }
   ],
   "source": [
    "train_perf_report_sm"
   ]
  },
  {
   "cell_type": "markdown",
   "id": "ea22c2b6-4085-4316-aa19-ef818096e6a4",
   "metadata": {},
   "source": [
    "##### Check model performance on validation set"
   ]
  },
  {
   "cell_type": "code",
   "execution_count": 105,
   "id": "a2fedcb5-139d-4c7a-a1f9-0a7fcc77b39a",
   "metadata": {},
   "outputs": [
    {
     "data": {
      "text/html": [
       "<div>\n",
       "<style scoped>\n",
       "    .dataframe tbody tr th:only-of-type {\n",
       "        vertical-align: middle;\n",
       "    }\n",
       "\n",
       "    .dataframe tbody tr th {\n",
       "        vertical-align: top;\n",
       "    }\n",
       "\n",
       "    .dataframe thead th {\n",
       "        text-align: right;\n",
       "    }\n",
       "</style>\n",
       "<table border=\"1\" class=\"dataframe\">\n",
       "  <thead>\n",
       "    <tr style=\"text-align: right;\">\n",
       "      <th></th>\n",
       "      <th>Model Name</th>\n",
       "      <th>Accuracy</th>\n",
       "      <th>Precision</th>\n",
       "      <th>Recall</th>\n",
       "      <th>F1-score</th>\n",
       "      <th>AUROC</th>\n",
       "      <th>AUPRC</th>\n",
       "    </tr>\n",
       "  </thead>\n",
       "  <tbody>\n",
       "    <tr>\n",
       "      <th>6</th>\n",
       "      <td>CatBoosting Classifier</td>\n",
       "      <td>0.742677</td>\n",
       "      <td>0.791526</td>\n",
       "      <td>0.832890</td>\n",
       "      <td>0.811682</td>\n",
       "      <td>0.697916</td>\n",
       "      <td>0.770519</td>\n",
       "    </tr>\n",
       "    <tr>\n",
       "      <th>2</th>\n",
       "      <td>Gradient Boosting</td>\n",
       "      <td>0.725182</td>\n",
       "      <td>0.815414</td>\n",
       "      <td>0.759079</td>\n",
       "      <td>0.786239</td>\n",
       "      <td>0.708363</td>\n",
       "      <td>0.779372</td>\n",
       "    </tr>\n",
       "    <tr>\n",
       "      <th>0</th>\n",
       "      <td>Random Forest</td>\n",
       "      <td>0.723019</td>\n",
       "      <td>0.794872</td>\n",
       "      <td>0.787127</td>\n",
       "      <td>0.790981</td>\n",
       "      <td>0.691211</td>\n",
       "      <td>0.767399</td>\n",
       "    </tr>\n",
       "    <tr>\n",
       "      <th>7</th>\n",
       "      <td>Support Vector Classifier</td>\n",
       "      <td>0.720661</td>\n",
       "      <td>0.809314</td>\n",
       "      <td>0.759374</td>\n",
       "      <td>0.783549</td>\n",
       "      <td>0.701452</td>\n",
       "      <td>0.774784</td>\n",
       "    </tr>\n",
       "    <tr>\n",
       "      <th>5</th>\n",
       "      <td>XGBClassifier</td>\n",
       "      <td>0.719678</td>\n",
       "      <td>0.784450</td>\n",
       "      <td>0.798347</td>\n",
       "      <td>0.791337</td>\n",
       "      <td>0.680644</td>\n",
       "      <td>0.760527</td>\n",
       "    </tr>\n",
       "    <tr>\n",
       "      <th>3</th>\n",
       "      <td>Logistic Regression</td>\n",
       "      <td>0.698840</td>\n",
       "      <td>0.815155</td>\n",
       "      <td>0.708296</td>\n",
       "      <td>0.757978</td>\n",
       "      <td>0.694148</td>\n",
       "      <td>0.771592</td>\n",
       "    </tr>\n",
       "    <tr>\n",
       "      <th>8</th>\n",
       "      <td>AdaBoost Classifier</td>\n",
       "      <td>0.695105</td>\n",
       "      <td>0.807641</td>\n",
       "      <td>0.711544</td>\n",
       "      <td>0.756553</td>\n",
       "      <td>0.686949</td>\n",
       "      <td>0.766730</td>\n",
       "    </tr>\n",
       "    <tr>\n",
       "      <th>4</th>\n",
       "      <td>K-Neighbors Classifier</td>\n",
       "      <td>0.665618</td>\n",
       "      <td>0.791494</td>\n",
       "      <td>0.675819</td>\n",
       "      <td>0.729097</td>\n",
       "      <td>0.660557</td>\n",
       "      <td>0.750751</td>\n",
       "    </tr>\n",
       "    <tr>\n",
       "      <th>1</th>\n",
       "      <td>Decision Tree</td>\n",
       "      <td>0.651071</td>\n",
       "      <td>0.751404</td>\n",
       "      <td>0.711249</td>\n",
       "      <td>0.730775</td>\n",
       "      <td>0.621213</td>\n",
       "      <td>0.726690</td>\n",
       "    </tr>\n",
       "  </tbody>\n",
       "</table>\n",
       "</div>"
      ],
      "text/plain": [
       "                  Model Name  Accuracy  Precision    Recall  F1-score  \\\n",
       "6     CatBoosting Classifier  0.742677   0.791526  0.832890  0.811682   \n",
       "2          Gradient Boosting  0.725182   0.815414  0.759079  0.786239   \n",
       "0              Random Forest  0.723019   0.794872  0.787127  0.790981   \n",
       "7  Support Vector Classifier  0.720661   0.809314  0.759374  0.783549   \n",
       "5              XGBClassifier  0.719678   0.784450  0.798347  0.791337   \n",
       "3        Logistic Regression  0.698840   0.815155  0.708296  0.757978   \n",
       "8        AdaBoost Classifier  0.695105   0.807641  0.711544  0.756553   \n",
       "4     K-Neighbors Classifier  0.665618   0.791494  0.675819  0.729097   \n",
       "1              Decision Tree  0.651071   0.751404  0.711249  0.730775   \n",
       "\n",
       "      AUROC     AUPRC  \n",
       "6  0.697916  0.770519  \n",
       "2  0.708363  0.779372  \n",
       "0  0.691211  0.767399  \n",
       "7  0.701452  0.774784  \n",
       "5  0.680644  0.760527  \n",
       "3  0.694148  0.771592  \n",
       "8  0.686949  0.766730  \n",
       "4  0.660557  0.750751  \n",
       "1  0.621213  0.726690  "
      ]
     },
     "execution_count": 105,
     "metadata": {},
     "output_type": "execute_result"
    }
   ],
   "source": [
    "val_perf_report_sm"
   ]
  },
  {
   "cell_type": "code",
   "execution_count": null,
   "id": "8bc81956-250c-45e7-9b90-8e4c28a09a8a",
   "metadata": {},
   "outputs": [],
   "source": []
  },
  {
   "cell_type": "markdown",
   "id": "fb053042-db1f-4b6c-83d1-d9be17a63362",
   "metadata": {},
   "source": [
    "#### Experiment with ADASYN"
   ]
  },
  {
   "cell_type": "code",
   "execution_count": 106,
   "id": "8d903441-9a3b-421c-bc7d-681604706729",
   "metadata": {},
   "outputs": [],
   "source": [
    "from imblearn.over_sampling import ADASYN"
   ]
  },
  {
   "cell_type": "code",
   "execution_count": 107,
   "id": "1c7384dd-0d50-4496-9e4f-dc033e0eb38e",
   "metadata": {},
   "outputs": [],
   "source": [
    "ada = ADASYN(random_state=42)\n",
    "X_train_ada, y_train_ada = ada.fit_resample(X_train, y_train)"
   ]
  },
  {
   "cell_type": "code",
   "execution_count": 108,
   "id": "9170ce83-74f4-4f26-bd43-c7ec80ed623d",
   "metadata": {},
   "outputs": [
    {
     "data": {
      "text/plain": [
       "Counter({0: 10390, 1: 10235})"
      ]
     },
     "execution_count": 108,
     "metadata": {},
     "output_type": "execute_result"
    }
   ],
   "source": [
    "Counter(y_train_ada)"
   ]
  },
  {
   "cell_type": "code",
   "execution_count": 109,
   "id": "2b983ff5-92d5-4447-89a7-9bb74865864f",
   "metadata": {},
   "outputs": [],
   "source": [
    "train_perf_report_ada, val_perf_report_ada = evaluate_models(X_train=X_train_ada, y_train=y_train_ada,\n",
    "                                                              X_val=X_val, y_val=y_val, models=models)"
   ]
  },
  {
   "cell_type": "markdown",
   "id": "9249ad08-8cb9-44fd-b13c-369b976a6dfa",
   "metadata": {},
   "source": [
    "##### Check model performance on train set"
   ]
  },
  {
   "cell_type": "code",
   "execution_count": 110,
   "id": "0cf91a9b-d25a-48c3-93ee-2648ef306185",
   "metadata": {},
   "outputs": [
    {
     "data": {
      "text/html": [
       "<div>\n",
       "<style scoped>\n",
       "    .dataframe tbody tr th:only-of-type {\n",
       "        vertical-align: middle;\n",
       "    }\n",
       "\n",
       "    .dataframe tbody tr th {\n",
       "        vertical-align: top;\n",
       "    }\n",
       "\n",
       "    .dataframe thead th {\n",
       "        text-align: right;\n",
       "    }\n",
       "</style>\n",
       "<table border=\"1\" class=\"dataframe\">\n",
       "  <thead>\n",
       "    <tr style=\"text-align: right;\">\n",
       "      <th></th>\n",
       "      <th>Model Name</th>\n",
       "      <th>Accuracy</th>\n",
       "      <th>Precision</th>\n",
       "      <th>Recall</th>\n",
       "      <th>F1-score</th>\n",
       "      <th>AUROC</th>\n",
       "      <th>AUPRC</th>\n",
       "    </tr>\n",
       "  </thead>\n",
       "  <tbody>\n",
       "    <tr>\n",
       "      <th>1</th>\n",
       "      <td>Decision Tree</td>\n",
       "      <td>1.000000</td>\n",
       "      <td>1.000000</td>\n",
       "      <td>1.000000</td>\n",
       "      <td>1.000000</td>\n",
       "      <td>1.000000</td>\n",
       "      <td>1.000000</td>\n",
       "    </tr>\n",
       "    <tr>\n",
       "      <th>0</th>\n",
       "      <td>Random Forest</td>\n",
       "      <td>0.999952</td>\n",
       "      <td>1.000000</td>\n",
       "      <td>0.999902</td>\n",
       "      <td>0.999951</td>\n",
       "      <td>0.999951</td>\n",
       "      <td>0.999951</td>\n",
       "    </tr>\n",
       "    <tr>\n",
       "      <th>5</th>\n",
       "      <td>XGBClassifier</td>\n",
       "      <td>0.862739</td>\n",
       "      <td>0.848785</td>\n",
       "      <td>0.880215</td>\n",
       "      <td>0.864214</td>\n",
       "      <td>0.862870</td>\n",
       "      <td>0.806555</td>\n",
       "    </tr>\n",
       "    <tr>\n",
       "      <th>4</th>\n",
       "      <td>K-Neighbors Classifier</td>\n",
       "      <td>0.835782</td>\n",
       "      <td>0.935070</td>\n",
       "      <td>0.719003</td>\n",
       "      <td>0.812925</td>\n",
       "      <td>0.834911</td>\n",
       "      <td>0.811761</td>\n",
       "    </tr>\n",
       "    <tr>\n",
       "      <th>6</th>\n",
       "      <td>CatBoosting Classifier</td>\n",
       "      <td>0.831224</td>\n",
       "      <td>0.809476</td>\n",
       "      <td>0.863019</td>\n",
       "      <td>0.835390</td>\n",
       "      <td>0.831461</td>\n",
       "      <td>0.766569</td>\n",
       "    </tr>\n",
       "    <tr>\n",
       "      <th>2</th>\n",
       "      <td>Gradient Boosting</td>\n",
       "      <td>0.736388</td>\n",
       "      <td>0.743702</td>\n",
       "      <td>0.715291</td>\n",
       "      <td>0.729220</td>\n",
       "      <td>0.736231</td>\n",
       "      <td>0.673248</td>\n",
       "    </tr>\n",
       "    <tr>\n",
       "      <th>7</th>\n",
       "      <td>Support Vector Classifier</td>\n",
       "      <td>0.704048</td>\n",
       "      <td>0.739146</td>\n",
       "      <td>0.623742</td>\n",
       "      <td>0.676558</td>\n",
       "      <td>0.703449</td>\n",
       "      <td>0.647751</td>\n",
       "    </tr>\n",
       "    <tr>\n",
       "      <th>8</th>\n",
       "      <td>AdaBoost Classifier</td>\n",
       "      <td>0.688727</td>\n",
       "      <td>0.688544</td>\n",
       "      <td>0.680606</td>\n",
       "      <td>0.684552</td>\n",
       "      <td>0.688667</td>\n",
       "      <td>0.627124</td>\n",
       "    </tr>\n",
       "    <tr>\n",
       "      <th>3</th>\n",
       "      <td>Logistic Regression</td>\n",
       "      <td>0.664970</td>\n",
       "      <td>0.666834</td>\n",
       "      <td>0.649243</td>\n",
       "      <td>0.657921</td>\n",
       "      <td>0.664852</td>\n",
       "      <td>0.606998</td>\n",
       "    </tr>\n",
       "  </tbody>\n",
       "</table>\n",
       "</div>"
      ],
      "text/plain": [
       "                  Model Name  Accuracy  Precision    Recall  F1-score  \\\n",
       "1              Decision Tree  1.000000   1.000000  1.000000  1.000000   \n",
       "0              Random Forest  0.999952   1.000000  0.999902  0.999951   \n",
       "5              XGBClassifier  0.862739   0.848785  0.880215  0.864214   \n",
       "4     K-Neighbors Classifier  0.835782   0.935070  0.719003  0.812925   \n",
       "6     CatBoosting Classifier  0.831224   0.809476  0.863019  0.835390   \n",
       "2          Gradient Boosting  0.736388   0.743702  0.715291  0.729220   \n",
       "7  Support Vector Classifier  0.704048   0.739146  0.623742  0.676558   \n",
       "8        AdaBoost Classifier  0.688727   0.688544  0.680606  0.684552   \n",
       "3        Logistic Regression  0.664970   0.666834  0.649243  0.657921   \n",
       "\n",
       "      AUROC     AUPRC  \n",
       "1  1.000000  1.000000  \n",
       "0  0.999951  0.999951  \n",
       "5  0.862870  0.806555  \n",
       "4  0.834911  0.811761  \n",
       "6  0.831461  0.766569  \n",
       "2  0.736231  0.673248  \n",
       "7  0.703449  0.647751  \n",
       "8  0.688667  0.627124  \n",
       "3  0.664852  0.606998  "
      ]
     },
     "execution_count": 110,
     "metadata": {},
     "output_type": "execute_result"
    }
   ],
   "source": [
    "train_perf_report_ada"
   ]
  },
  {
   "cell_type": "markdown",
   "id": "d3a63511-d757-482a-a0d8-6ac275f20566",
   "metadata": {},
   "source": [
    "##### Check model performance on validation set"
   ]
  },
  {
   "cell_type": "code",
   "execution_count": 111,
   "id": "1ddce981-999d-4b6e-93a5-24257ceb4ff1",
   "metadata": {},
   "outputs": [
    {
     "data": {
      "text/html": [
       "<div>\n",
       "<style scoped>\n",
       "    .dataframe tbody tr th:only-of-type {\n",
       "        vertical-align: middle;\n",
       "    }\n",
       "\n",
       "    .dataframe tbody tr th {\n",
       "        vertical-align: top;\n",
       "    }\n",
       "\n",
       "    .dataframe thead th {\n",
       "        text-align: right;\n",
       "    }\n",
       "</style>\n",
       "<table border=\"1\" class=\"dataframe\">\n",
       "  <thead>\n",
       "    <tr style=\"text-align: right;\">\n",
       "      <th></th>\n",
       "      <th>Model Name</th>\n",
       "      <th>Accuracy</th>\n",
       "      <th>Precision</th>\n",
       "      <th>Recall</th>\n",
       "      <th>F1-score</th>\n",
       "      <th>AUROC</th>\n",
       "      <th>AUPRC</th>\n",
       "    </tr>\n",
       "  </thead>\n",
       "  <tbody>\n",
       "    <tr>\n",
       "      <th>6</th>\n",
       "      <td>CatBoosting Classifier</td>\n",
       "      <td>0.739729</td>\n",
       "      <td>0.792957</td>\n",
       "      <td>0.824328</td>\n",
       "      <td>0.808338</td>\n",
       "      <td>0.697752</td>\n",
       "      <td>0.770621</td>\n",
       "    </tr>\n",
       "    <tr>\n",
       "      <th>5</th>\n",
       "      <td>XGBClassifier</td>\n",
       "      <td>0.724985</td>\n",
       "      <td>0.793388</td>\n",
       "      <td>0.793623</td>\n",
       "      <td>0.793506</td>\n",
       "      <td>0.690929</td>\n",
       "      <td>0.767060</td>\n",
       "    </tr>\n",
       "    <tr>\n",
       "      <th>0</th>\n",
       "      <td>Random Forest</td>\n",
       "      <td>0.709259</td>\n",
       "      <td>0.793178</td>\n",
       "      <td>0.762031</td>\n",
       "      <td>0.777293</td>\n",
       "      <td>0.683074</td>\n",
       "      <td>0.762869</td>\n",
       "    </tr>\n",
       "    <tr>\n",
       "      <th>2</th>\n",
       "      <td>Gradient Boosting</td>\n",
       "      <td>0.702968</td>\n",
       "      <td>0.825017</td>\n",
       "      <td>0.702982</td>\n",
       "      <td>0.759126</td>\n",
       "      <td>0.702962</td>\n",
       "      <td>0.777731</td>\n",
       "    </tr>\n",
       "    <tr>\n",
       "      <th>8</th>\n",
       "      <td>AdaBoost Classifier</td>\n",
       "      <td>0.682917</td>\n",
       "      <td>0.816334</td>\n",
       "      <td>0.675819</td>\n",
       "      <td>0.739461</td>\n",
       "      <td>0.686439</td>\n",
       "      <td>0.767538</td>\n",
       "    </tr>\n",
       "    <tr>\n",
       "      <th>3</th>\n",
       "      <td>Logistic Regression</td>\n",
       "      <td>0.679575</td>\n",
       "      <td>0.830636</td>\n",
       "      <td>0.651609</td>\n",
       "      <td>0.730311</td>\n",
       "      <td>0.693452</td>\n",
       "      <td>0.773214</td>\n",
       "    </tr>\n",
       "    <tr>\n",
       "      <th>7</th>\n",
       "      <td>Support Vector Classifier</td>\n",
       "      <td>0.663456</td>\n",
       "      <td>0.845931</td>\n",
       "      <td>0.604665</td>\n",
       "      <td>0.705234</td>\n",
       "      <td>0.692627</td>\n",
       "      <td>0.774725</td>\n",
       "    </tr>\n",
       "    <tr>\n",
       "      <th>1</th>\n",
       "      <td>Decision Tree</td>\n",
       "      <td>0.640849</td>\n",
       "      <td>0.741935</td>\n",
       "      <td>0.706230</td>\n",
       "      <td>0.723642</td>\n",
       "      <td>0.608409</td>\n",
       "      <td>0.719573</td>\n",
       "    </tr>\n",
       "    <tr>\n",
       "      <th>4</th>\n",
       "      <td>K-Neighbors Classifier</td>\n",
       "      <td>0.634952</td>\n",
       "      <td>0.792431</td>\n",
       "      <td>0.612046</td>\n",
       "      <td>0.690655</td>\n",
       "      <td>0.646317</td>\n",
       "      <td>0.743310</td>\n",
       "    </tr>\n",
       "  </tbody>\n",
       "</table>\n",
       "</div>"
      ],
      "text/plain": [
       "                  Model Name  Accuracy  Precision    Recall  F1-score  \\\n",
       "6     CatBoosting Classifier  0.739729   0.792957  0.824328  0.808338   \n",
       "5              XGBClassifier  0.724985   0.793388  0.793623  0.793506   \n",
       "0              Random Forest  0.709259   0.793178  0.762031  0.777293   \n",
       "2          Gradient Boosting  0.702968   0.825017  0.702982  0.759126   \n",
       "8        AdaBoost Classifier  0.682917   0.816334  0.675819  0.739461   \n",
       "3        Logistic Regression  0.679575   0.830636  0.651609  0.730311   \n",
       "7  Support Vector Classifier  0.663456   0.845931  0.604665  0.705234   \n",
       "1              Decision Tree  0.640849   0.741935  0.706230  0.723642   \n",
       "4     K-Neighbors Classifier  0.634952   0.792431  0.612046  0.690655   \n",
       "\n",
       "      AUROC     AUPRC  \n",
       "6  0.697752  0.770621  \n",
       "5  0.690929  0.767060  \n",
       "0  0.683074  0.762869  \n",
       "2  0.702962  0.777731  \n",
       "8  0.686439  0.767538  \n",
       "3  0.693452  0.773214  \n",
       "7  0.692627  0.774725  \n",
       "1  0.608409  0.719573  \n",
       "4  0.646317  0.743310  "
      ]
     },
     "execution_count": 111,
     "metadata": {},
     "output_type": "execute_result"
    }
   ],
   "source": [
    "val_perf_report_ada"
   ]
  },
  {
   "cell_type": "code",
   "execution_count": null,
   "id": "e59fb003-5f3d-4ced-86fa-70318e801093",
   "metadata": {},
   "outputs": [],
   "source": []
  },
  {
   "cell_type": "markdown",
   "id": "5dfcb13b-8d05-43fa-a98a-65a78ebd1a3d",
   "metadata": {},
   "source": [
    "#### Experiment with SMOTETomek"
   ]
  },
  {
   "cell_type": "code",
   "execution_count": 112,
   "id": "5e319950-2cbd-4538-aa2f-5625637fb59d",
   "metadata": {},
   "outputs": [],
   "source": [
    "from imblearn.combine import SMOTETomek"
   ]
  },
  {
   "cell_type": "code",
   "execution_count": 113,
   "id": "cb8949f5-0619-4c46-aadd-ee5cd45b1fc3",
   "metadata": {},
   "outputs": [],
   "source": [
    "smtom = SMOTETomek(random_state=42)\n",
    "X_train_smtom, y_train_smtom = smtom.fit_resample(X_train, y_train)"
   ]
  },
  {
   "cell_type": "code",
   "execution_count": 114,
   "id": "a8f87303-81cf-4f2f-b366-62d1f8a15bce",
   "metadata": {},
   "outputs": [
    {
     "data": {
      "text/plain": [
       "Counter({0: 9458, 1: 9458})"
      ]
     },
     "execution_count": 114,
     "metadata": {},
     "output_type": "execute_result"
    }
   ],
   "source": [
    "Counter(y_train_smtom)"
   ]
  },
  {
   "cell_type": "code",
   "execution_count": 115,
   "id": "a9c7cfda-27c8-4657-b5ca-3644adf1415c",
   "metadata": {},
   "outputs": [],
   "source": [
    "train_perf_report_smtom, val_perf_report_smtom = evaluate_models(X_train=X_train_smtom, y_train=y_train_smtom,\n",
    "                                                                 X_val=X_val, y_val=y_val, models=models)"
   ]
  },
  {
   "cell_type": "markdown",
   "id": "873f8b3b-0be1-4116-816e-e58e44112ebe",
   "metadata": {},
   "source": [
    "##### Check model performance on train set"
   ]
  },
  {
   "cell_type": "code",
   "execution_count": 116,
   "id": "8a61f207-6a2e-49ed-85ad-0048abc6240a",
   "metadata": {},
   "outputs": [
    {
     "data": {
      "text/html": [
       "<div>\n",
       "<style scoped>\n",
       "    .dataframe tbody tr th:only-of-type {\n",
       "        vertical-align: middle;\n",
       "    }\n",
       "\n",
       "    .dataframe tbody tr th {\n",
       "        vertical-align: top;\n",
       "    }\n",
       "\n",
       "    .dataframe thead th {\n",
       "        text-align: right;\n",
       "    }\n",
       "</style>\n",
       "<table border=\"1\" class=\"dataframe\">\n",
       "  <thead>\n",
       "    <tr style=\"text-align: right;\">\n",
       "      <th></th>\n",
       "      <th>Model Name</th>\n",
       "      <th>Accuracy</th>\n",
       "      <th>Precision</th>\n",
       "      <th>Recall</th>\n",
       "      <th>F1-score</th>\n",
       "      <th>AUROC</th>\n",
       "      <th>AUPRC</th>\n",
       "    </tr>\n",
       "  </thead>\n",
       "  <tbody>\n",
       "    <tr>\n",
       "      <th>0</th>\n",
       "      <td>Random Forest</td>\n",
       "      <td>1.000000</td>\n",
       "      <td>1.000000</td>\n",
       "      <td>1.000000</td>\n",
       "      <td>1.000000</td>\n",
       "      <td>1.000000</td>\n",
       "      <td>1.000000</td>\n",
       "    </tr>\n",
       "    <tr>\n",
       "      <th>1</th>\n",
       "      <td>Decision Tree</td>\n",
       "      <td>1.000000</td>\n",
       "      <td>1.000000</td>\n",
       "      <td>1.000000</td>\n",
       "      <td>1.000000</td>\n",
       "      <td>1.000000</td>\n",
       "      <td>1.000000</td>\n",
       "    </tr>\n",
       "    <tr>\n",
       "      <th>5</th>\n",
       "      <td>XGBClassifier</td>\n",
       "      <td>0.884912</td>\n",
       "      <td>0.875193</td>\n",
       "      <td>0.897864</td>\n",
       "      <td>0.886384</td>\n",
       "      <td>0.884912</td>\n",
       "      <td>0.836873</td>\n",
       "    </tr>\n",
       "    <tr>\n",
       "      <th>4</th>\n",
       "      <td>K-Neighbors Classifier</td>\n",
       "      <td>0.856048</td>\n",
       "      <td>0.909622</td>\n",
       "      <td>0.790653</td>\n",
       "      <td>0.845975</td>\n",
       "      <td>0.856048</td>\n",
       "      <td>0.823869</td>\n",
       "    </tr>\n",
       "    <tr>\n",
       "      <th>6</th>\n",
       "      <td>CatBoosting Classifier</td>\n",
       "      <td>0.853087</td>\n",
       "      <td>0.836881</td>\n",
       "      <td>0.877141</td>\n",
       "      <td>0.856538</td>\n",
       "      <td>0.853087</td>\n",
       "      <td>0.795492</td>\n",
       "    </tr>\n",
       "    <tr>\n",
       "      <th>2</th>\n",
       "      <td>Gradient Boosting</td>\n",
       "      <td>0.781349</td>\n",
       "      <td>0.775295</td>\n",
       "      <td>0.792345</td>\n",
       "      <td>0.783727</td>\n",
       "      <td>0.781349</td>\n",
       "      <td>0.718129</td>\n",
       "    </tr>\n",
       "    <tr>\n",
       "      <th>7</th>\n",
       "      <td>Support Vector Classifier</td>\n",
       "      <td>0.752538</td>\n",
       "      <td>0.734052</td>\n",
       "      <td>0.792028</td>\n",
       "      <td>0.761939</td>\n",
       "      <td>0.752538</td>\n",
       "      <td>0.685376</td>\n",
       "    </tr>\n",
       "    <tr>\n",
       "      <th>8</th>\n",
       "      <td>AdaBoost Classifier</td>\n",
       "      <td>0.737471</td>\n",
       "      <td>0.729652</td>\n",
       "      <td>0.754494</td>\n",
       "      <td>0.741865</td>\n",
       "      <td>0.737471</td>\n",
       "      <td>0.673271</td>\n",
       "    </tr>\n",
       "    <tr>\n",
       "      <th>3</th>\n",
       "      <td>Logistic Regression</td>\n",
       "      <td>0.721664</td>\n",
       "      <td>0.719139</td>\n",
       "      <td>0.727427</td>\n",
       "      <td>0.723259</td>\n",
       "      <td>0.721664</td>\n",
       "      <td>0.659407</td>\n",
       "    </tr>\n",
       "  </tbody>\n",
       "</table>\n",
       "</div>"
      ],
      "text/plain": [
       "                  Model Name  Accuracy  Precision    Recall  F1-score  \\\n",
       "0              Random Forest  1.000000   1.000000  1.000000  1.000000   \n",
       "1              Decision Tree  1.000000   1.000000  1.000000  1.000000   \n",
       "5              XGBClassifier  0.884912   0.875193  0.897864  0.886384   \n",
       "4     K-Neighbors Classifier  0.856048   0.909622  0.790653  0.845975   \n",
       "6     CatBoosting Classifier  0.853087   0.836881  0.877141  0.856538   \n",
       "2          Gradient Boosting  0.781349   0.775295  0.792345  0.783727   \n",
       "7  Support Vector Classifier  0.752538   0.734052  0.792028  0.761939   \n",
       "8        AdaBoost Classifier  0.737471   0.729652  0.754494  0.741865   \n",
       "3        Logistic Regression  0.721664   0.719139  0.727427  0.723259   \n",
       "\n",
       "      AUROC     AUPRC  \n",
       "0  1.000000  1.000000  \n",
       "1  1.000000  1.000000  \n",
       "5  0.884912  0.836873  \n",
       "4  0.856048  0.823869  \n",
       "6  0.853087  0.795492  \n",
       "2  0.781349  0.718129  \n",
       "7  0.752538  0.685376  \n",
       "8  0.737471  0.673271  \n",
       "3  0.721664  0.659407  "
      ]
     },
     "execution_count": 116,
     "metadata": {},
     "output_type": "execute_result"
    }
   ],
   "source": [
    "train_perf_report_smtom"
   ]
  },
  {
   "cell_type": "markdown",
   "id": "81854900-7ff5-42b6-8a8e-533988f238a1",
   "metadata": {},
   "source": [
    "##### Check model performance on validation set"
   ]
  },
  {
   "cell_type": "code",
   "execution_count": 117,
   "id": "c20d9135-6699-46ee-b4f8-fb1e590ca0ab",
   "metadata": {},
   "outputs": [
    {
     "data": {
      "text/html": [
       "<div>\n",
       "<style scoped>\n",
       "    .dataframe tbody tr th:only-of-type {\n",
       "        vertical-align: middle;\n",
       "    }\n",
       "\n",
       "    .dataframe tbody tr th {\n",
       "        vertical-align: top;\n",
       "    }\n",
       "\n",
       "    .dataframe thead th {\n",
       "        text-align: right;\n",
       "    }\n",
       "</style>\n",
       "<table border=\"1\" class=\"dataframe\">\n",
       "  <thead>\n",
       "    <tr style=\"text-align: right;\">\n",
       "      <th></th>\n",
       "      <th>Model Name</th>\n",
       "      <th>Accuracy</th>\n",
       "      <th>Precision</th>\n",
       "      <th>Recall</th>\n",
       "      <th>F1-score</th>\n",
       "      <th>AUROC</th>\n",
       "      <th>AUPRC</th>\n",
       "    </tr>\n",
       "  </thead>\n",
       "  <tbody>\n",
       "    <tr>\n",
       "      <th>6</th>\n",
       "      <td>CatBoosting Classifier</td>\n",
       "      <td>0.741301</td>\n",
       "      <td>0.793260</td>\n",
       "      <td>0.826986</td>\n",
       "      <td>0.809772</td>\n",
       "      <td>0.698787</td>\n",
       "      <td>0.771210</td>\n",
       "    </tr>\n",
       "    <tr>\n",
       "      <th>2</th>\n",
       "      <td>Gradient Boosting</td>\n",
       "      <td>0.730883</td>\n",
       "      <td>0.816897</td>\n",
       "      <td>0.767936</td>\n",
       "      <td>0.791660</td>\n",
       "      <td>0.712498</td>\n",
       "      <td>0.781836</td>\n",
       "    </tr>\n",
       "    <tr>\n",
       "      <th>5</th>\n",
       "      <td>XGBClassifier</td>\n",
       "      <td>0.725378</td>\n",
       "      <td>0.789412</td>\n",
       "      <td>0.801299</td>\n",
       "      <td>0.795311</td>\n",
       "      <td>0.687708</td>\n",
       "      <td>0.764853</td>\n",
       "    </tr>\n",
       "    <tr>\n",
       "      <th>7</th>\n",
       "      <td>Support Vector Classifier</td>\n",
       "      <td>0.720857</td>\n",
       "      <td>0.809569</td>\n",
       "      <td>0.759374</td>\n",
       "      <td>0.783668</td>\n",
       "      <td>0.701746</td>\n",
       "      <td>0.774978</td>\n",
       "    </tr>\n",
       "    <tr>\n",
       "      <th>0</th>\n",
       "      <td>Random Forest</td>\n",
       "      <td>0.720267</td>\n",
       "      <td>0.791222</td>\n",
       "      <td>0.787718</td>\n",
       "      <td>0.789466</td>\n",
       "      <td>0.686800</td>\n",
       "      <td>0.764600</td>\n",
       "    </tr>\n",
       "    <tr>\n",
       "      <th>8</th>\n",
       "      <td>AdaBoost Classifier</td>\n",
       "      <td>0.703755</td>\n",
       "      <td>0.807793</td>\n",
       "      <td>0.728373</td>\n",
       "      <td>0.766030</td>\n",
       "      <td>0.691540</td>\n",
       "      <td>0.769228</td>\n",
       "    </tr>\n",
       "    <tr>\n",
       "      <th>3</th>\n",
       "      <td>Logistic Regression</td>\n",
       "      <td>0.699626</td>\n",
       "      <td>0.816049</td>\n",
       "      <td>0.708592</td>\n",
       "      <td>0.758534</td>\n",
       "      <td>0.695178</td>\n",
       "      <td>0.772269</td>\n",
       "    </tr>\n",
       "    <tr>\n",
       "      <th>4</th>\n",
       "      <td>K-Neighbors Classifier</td>\n",
       "      <td>0.671122</td>\n",
       "      <td>0.796951</td>\n",
       "      <td>0.679067</td>\n",
       "      <td>0.733301</td>\n",
       "      <td>0.667181</td>\n",
       "      <td>0.754865</td>\n",
       "    </tr>\n",
       "    <tr>\n",
       "      <th>1</th>\n",
       "      <td>Decision Tree</td>\n",
       "      <td>0.659524</td>\n",
       "      <td>0.753446</td>\n",
       "      <td>0.726306</td>\n",
       "      <td>0.739627</td>\n",
       "      <td>0.626389</td>\n",
       "      <td>0.729462</td>\n",
       "    </tr>\n",
       "  </tbody>\n",
       "</table>\n",
       "</div>"
      ],
      "text/plain": [
       "                  Model Name  Accuracy  Precision    Recall  F1-score  \\\n",
       "6     CatBoosting Classifier  0.741301   0.793260  0.826986  0.809772   \n",
       "2          Gradient Boosting  0.730883   0.816897  0.767936  0.791660   \n",
       "5              XGBClassifier  0.725378   0.789412  0.801299  0.795311   \n",
       "7  Support Vector Classifier  0.720857   0.809569  0.759374  0.783668   \n",
       "0              Random Forest  0.720267   0.791222  0.787718  0.789466   \n",
       "8        AdaBoost Classifier  0.703755   0.807793  0.728373  0.766030   \n",
       "3        Logistic Regression  0.699626   0.816049  0.708592  0.758534   \n",
       "4     K-Neighbors Classifier  0.671122   0.796951  0.679067  0.733301   \n",
       "1              Decision Tree  0.659524   0.753446  0.726306  0.739627   \n",
       "\n",
       "      AUROC     AUPRC  \n",
       "6  0.698787  0.771210  \n",
       "2  0.712498  0.781836  \n",
       "5  0.687708  0.764853  \n",
       "7  0.701746  0.774978  \n",
       "0  0.686800  0.764600  \n",
       "8  0.691540  0.769228  \n",
       "3  0.695178  0.772269  \n",
       "4  0.667181  0.754865  \n",
       "1  0.626389  0.729462  "
      ]
     },
     "execution_count": 117,
     "metadata": {},
     "output_type": "execute_result"
    }
   ],
   "source": [
    "val_perf_report_smtom"
   ]
  },
  {
   "cell_type": "code",
   "execution_count": null,
   "id": "a0fd7bdf-a4a9-43ce-9b0e-f988dde684cb",
   "metadata": {},
   "outputs": [],
   "source": []
  },
  {
   "cell_type": "markdown",
   "id": "85d0fcfd-1678-4871-a13d-5d689bc8c788",
   "metadata": {},
   "source": [
    "#### Experiment with SMOTEENN"
   ]
  },
  {
   "cell_type": "code",
   "execution_count": 118,
   "id": "744698c0-650e-4c62-840b-dd7c5dd6af9e",
   "metadata": {},
   "outputs": [],
   "source": [
    "from imblearn.combine import SMOTEENN"
   ]
  },
  {
   "cell_type": "code",
   "execution_count": 119,
   "id": "124f9252-6602-4271-b785-5de585dcacb5",
   "metadata": {},
   "outputs": [],
   "source": [
    "smte = SMOTEENN(random_state=42)\n",
    "X_train_smte, y_train_smte = smte.fit_resample(X_train, y_train)"
   ]
  },
  {
   "cell_type": "code",
   "execution_count": 120,
   "id": "4838ff33-9dee-4919-b440-40ac974bae7e",
   "metadata": {},
   "outputs": [
    {
     "data": {
      "text/plain": [
       "Counter({0: 5710, 1: 4802})"
      ]
     },
     "execution_count": 120,
     "metadata": {},
     "output_type": "execute_result"
    }
   ],
   "source": [
    "Counter(y_train_smte)"
   ]
  },
  {
   "cell_type": "code",
   "execution_count": 121,
   "id": "34affe09-b240-4c19-b664-ec61a68f2bee",
   "metadata": {},
   "outputs": [],
   "source": [
    "train_perf_report_smte, val_perf_report_smte = evaluate_models(X_train=X_train_smte, y_train=y_train_smte,\n",
    "                                                               X_val=X_val, y_val=y_val, models=models)"
   ]
  },
  {
   "cell_type": "markdown",
   "id": "38ac854c-12ab-40f3-8947-587dd185963c",
   "metadata": {},
   "source": [
    "##### Check model performance on train set"
   ]
  },
  {
   "cell_type": "code",
   "execution_count": 122,
   "id": "58728641-9a3d-4483-a866-c38b8e96e349",
   "metadata": {},
   "outputs": [
    {
     "data": {
      "text/html": [
       "<div>\n",
       "<style scoped>\n",
       "    .dataframe tbody tr th:only-of-type {\n",
       "        vertical-align: middle;\n",
       "    }\n",
       "\n",
       "    .dataframe tbody tr th {\n",
       "        vertical-align: top;\n",
       "    }\n",
       "\n",
       "    .dataframe thead th {\n",
       "        text-align: right;\n",
       "    }\n",
       "</style>\n",
       "<table border=\"1\" class=\"dataframe\">\n",
       "  <thead>\n",
       "    <tr style=\"text-align: right;\">\n",
       "      <th></th>\n",
       "      <th>Model Name</th>\n",
       "      <th>Accuracy</th>\n",
       "      <th>Precision</th>\n",
       "      <th>Recall</th>\n",
       "      <th>F1-score</th>\n",
       "      <th>AUROC</th>\n",
       "      <th>AUPRC</th>\n",
       "    </tr>\n",
       "  </thead>\n",
       "  <tbody>\n",
       "    <tr>\n",
       "      <th>0</th>\n",
       "      <td>Random Forest</td>\n",
       "      <td>1.000000</td>\n",
       "      <td>1.000000</td>\n",
       "      <td>1.000000</td>\n",
       "      <td>1.000000</td>\n",
       "      <td>1.000000</td>\n",
       "      <td>1.000000</td>\n",
       "    </tr>\n",
       "    <tr>\n",
       "      <th>1</th>\n",
       "      <td>Decision Tree</td>\n",
       "      <td>1.000000</td>\n",
       "      <td>1.000000</td>\n",
       "      <td>1.000000</td>\n",
       "      <td>1.000000</td>\n",
       "      <td>1.000000</td>\n",
       "      <td>1.000000</td>\n",
       "    </tr>\n",
       "    <tr>\n",
       "      <th>5</th>\n",
       "      <td>XGBClassifier</td>\n",
       "      <td>0.985350</td>\n",
       "      <td>0.983965</td>\n",
       "      <td>0.983965</td>\n",
       "      <td>0.983965</td>\n",
       "      <td>0.985240</td>\n",
       "      <td>0.975512</td>\n",
       "    </tr>\n",
       "    <tr>\n",
       "      <th>4</th>\n",
       "      <td>K-Neighbors Classifier</td>\n",
       "      <td>0.974505</td>\n",
       "      <td>0.979687</td>\n",
       "      <td>0.964182</td>\n",
       "      <td>0.971872</td>\n",
       "      <td>0.973684</td>\n",
       "      <td>0.960958</td>\n",
       "    </tr>\n",
       "    <tr>\n",
       "      <th>6</th>\n",
       "      <td>CatBoosting Classifier</td>\n",
       "      <td>0.962424</td>\n",
       "      <td>0.953675</td>\n",
       "      <td>0.964598</td>\n",
       "      <td>0.959105</td>\n",
       "      <td>0.962597</td>\n",
       "      <td>0.936085</td>\n",
       "    </tr>\n",
       "    <tr>\n",
       "      <th>7</th>\n",
       "      <td>Support Vector Classifier</td>\n",
       "      <td>0.907249</td>\n",
       "      <td>0.884160</td>\n",
       "      <td>0.917118</td>\n",
       "      <td>0.900337</td>\n",
       "      <td>0.908034</td>\n",
       "      <td>0.848740</td>\n",
       "    </tr>\n",
       "    <tr>\n",
       "      <th>2</th>\n",
       "      <td>Gradient Boosting</td>\n",
       "      <td>0.899068</td>\n",
       "      <td>0.882125</td>\n",
       "      <td>0.899209</td>\n",
       "      <td>0.890585</td>\n",
       "      <td>0.899079</td>\n",
       "      <td>0.839257</td>\n",
       "    </tr>\n",
       "    <tr>\n",
       "      <th>8</th>\n",
       "      <td>AdaBoost Classifier</td>\n",
       "      <td>0.868817</td>\n",
       "      <td>0.853835</td>\n",
       "      <td>0.860058</td>\n",
       "      <td>0.856935</td>\n",
       "      <td>0.868120</td>\n",
       "      <td>0.798275</td>\n",
       "    </tr>\n",
       "    <tr>\n",
       "      <th>3</th>\n",
       "      <td>Logistic Regression</td>\n",
       "      <td>0.867009</td>\n",
       "      <td>0.848057</td>\n",
       "      <td>0.863599</td>\n",
       "      <td>0.855757</td>\n",
       "      <td>0.866738</td>\n",
       "      <td>0.794691</td>\n",
       "    </tr>\n",
       "  </tbody>\n",
       "</table>\n",
       "</div>"
      ],
      "text/plain": [
       "                  Model Name  Accuracy  Precision    Recall  F1-score  \\\n",
       "0              Random Forest  1.000000   1.000000  1.000000  1.000000   \n",
       "1              Decision Tree  1.000000   1.000000  1.000000  1.000000   \n",
       "5              XGBClassifier  0.985350   0.983965  0.983965  0.983965   \n",
       "4     K-Neighbors Classifier  0.974505   0.979687  0.964182  0.971872   \n",
       "6     CatBoosting Classifier  0.962424   0.953675  0.964598  0.959105   \n",
       "7  Support Vector Classifier  0.907249   0.884160  0.917118  0.900337   \n",
       "2          Gradient Boosting  0.899068   0.882125  0.899209  0.890585   \n",
       "8        AdaBoost Classifier  0.868817   0.853835  0.860058  0.856935   \n",
       "3        Logistic Regression  0.867009   0.848057  0.863599  0.855757   \n",
       "\n",
       "      AUROC     AUPRC  \n",
       "0  1.000000  1.000000  \n",
       "1  1.000000  1.000000  \n",
       "5  0.985240  0.975512  \n",
       "4  0.973684  0.960958  \n",
       "6  0.962597  0.936085  \n",
       "7  0.908034  0.848740  \n",
       "2  0.899079  0.839257  \n",
       "8  0.868120  0.798275  \n",
       "3  0.866738  0.794691  "
      ]
     },
     "execution_count": 122,
     "metadata": {},
     "output_type": "execute_result"
    }
   ],
   "source": [
    "train_perf_report_smte"
   ]
  },
  {
   "cell_type": "markdown",
   "id": "0a21c554-4216-4975-93bd-47547d147aac",
   "metadata": {},
   "source": [
    "##### Check model performance on validation set"
   ]
  },
  {
   "cell_type": "code",
   "execution_count": 123,
   "id": "cf0219f0-feea-41d5-8702-9973d1b74a49",
   "metadata": {},
   "outputs": [
    {
     "data": {
      "text/html": [
       "<div>\n",
       "<style scoped>\n",
       "    .dataframe tbody tr th:only-of-type {\n",
       "        vertical-align: middle;\n",
       "    }\n",
       "\n",
       "    .dataframe tbody tr th {\n",
       "        vertical-align: top;\n",
       "    }\n",
       "\n",
       "    .dataframe thead th {\n",
       "        text-align: right;\n",
       "    }\n",
       "</style>\n",
       "<table border=\"1\" class=\"dataframe\">\n",
       "  <thead>\n",
       "    <tr style=\"text-align: right;\">\n",
       "      <th></th>\n",
       "      <th>Model Name</th>\n",
       "      <th>Accuracy</th>\n",
       "      <th>Precision</th>\n",
       "      <th>Recall</th>\n",
       "      <th>F1-score</th>\n",
       "      <th>AUROC</th>\n",
       "      <th>AUPRC</th>\n",
       "    </tr>\n",
       "  </thead>\n",
       "  <tbody>\n",
       "    <tr>\n",
       "      <th>6</th>\n",
       "      <td>CatBoosting Classifier</td>\n",
       "      <td>0.711225</td>\n",
       "      <td>0.827080</td>\n",
       "      <td>0.715973</td>\n",
       "      <td>0.767527</td>\n",
       "      <td>0.708869</td>\n",
       "      <td>0.781277</td>\n",
       "    </tr>\n",
       "    <tr>\n",
       "      <th>0</th>\n",
       "      <td>Random Forest</td>\n",
       "      <td>0.707883</td>\n",
       "      <td>0.830149</td>\n",
       "      <td>0.705639</td>\n",
       "      <td>0.762847</td>\n",
       "      <td>0.708996</td>\n",
       "      <td>0.781776</td>\n",
       "    </tr>\n",
       "    <tr>\n",
       "      <th>5</th>\n",
       "      <td>XGBClassifier</td>\n",
       "      <td>0.706900</td>\n",
       "      <td>0.818121</td>\n",
       "      <td>0.719811</td>\n",
       "      <td>0.765824</td>\n",
       "      <td>0.700494</td>\n",
       "      <td>0.775446</td>\n",
       "    </tr>\n",
       "    <tr>\n",
       "      <th>2</th>\n",
       "      <td>Gradient Boosting</td>\n",
       "      <td>0.697661</td>\n",
       "      <td>0.836304</td>\n",
       "      <td>0.678772</td>\n",
       "      <td>0.749348</td>\n",
       "      <td>0.707033</td>\n",
       "      <td>0.781538</td>\n",
       "    </tr>\n",
       "    <tr>\n",
       "      <th>7</th>\n",
       "      <td>Support Vector Classifier</td>\n",
       "      <td>0.696678</td>\n",
       "      <td>0.829993</td>\n",
       "      <td>0.684677</td>\n",
       "      <td>0.750364</td>\n",
       "      <td>0.702632</td>\n",
       "      <td>0.778224</td>\n",
       "    </tr>\n",
       "    <tr>\n",
       "      <th>3</th>\n",
       "      <td>Logistic Regression</td>\n",
       "      <td>0.687045</td>\n",
       "      <td>0.837026</td>\n",
       "      <td>0.658105</td>\n",
       "      <td>0.736860</td>\n",
       "      <td>0.701405</td>\n",
       "      <td>0.778490</td>\n",
       "    </tr>\n",
       "    <tr>\n",
       "      <th>1</th>\n",
       "      <td>Decision Tree</td>\n",
       "      <td>0.684686</td>\n",
       "      <td>0.821261</td>\n",
       "      <td>0.672867</td>\n",
       "      <td>0.739695</td>\n",
       "      <td>0.690551</td>\n",
       "      <td>0.770410</td>\n",
       "    </tr>\n",
       "    <tr>\n",
       "      <th>8</th>\n",
       "      <td>AdaBoost Classifier</td>\n",
       "      <td>0.682328</td>\n",
       "      <td>0.830287</td>\n",
       "      <td>0.657219</td>\n",
       "      <td>0.733685</td>\n",
       "      <td>0.694786</td>\n",
       "      <td>0.773909</td>\n",
       "    </tr>\n",
       "    <tr>\n",
       "      <th>4</th>\n",
       "      <td>K-Neighbors Classifier</td>\n",
       "      <td>0.670926</td>\n",
       "      <td>0.823330</td>\n",
       "      <td>0.643933</td>\n",
       "      <td>0.722664</td>\n",
       "      <td>0.684319</td>\n",
       "      <td>0.767244</td>\n",
       "    </tr>\n",
       "  </tbody>\n",
       "</table>\n",
       "</div>"
      ],
      "text/plain": [
       "                  Model Name  Accuracy  Precision    Recall  F1-score  \\\n",
       "6     CatBoosting Classifier  0.711225   0.827080  0.715973  0.767527   \n",
       "0              Random Forest  0.707883   0.830149  0.705639  0.762847   \n",
       "5              XGBClassifier  0.706900   0.818121  0.719811  0.765824   \n",
       "2          Gradient Boosting  0.697661   0.836304  0.678772  0.749348   \n",
       "7  Support Vector Classifier  0.696678   0.829993  0.684677  0.750364   \n",
       "3        Logistic Regression  0.687045   0.837026  0.658105  0.736860   \n",
       "1              Decision Tree  0.684686   0.821261  0.672867  0.739695   \n",
       "8        AdaBoost Classifier  0.682328   0.830287  0.657219  0.733685   \n",
       "4     K-Neighbors Classifier  0.670926   0.823330  0.643933  0.722664   \n",
       "\n",
       "      AUROC     AUPRC  \n",
       "6  0.708869  0.781277  \n",
       "0  0.708996  0.781776  \n",
       "5  0.700494  0.775446  \n",
       "2  0.707033  0.781538  \n",
       "7  0.702632  0.778224  \n",
       "3  0.701405  0.778490  \n",
       "1  0.690551  0.770410  \n",
       "8  0.694786  0.773909  \n",
       "4  0.684319  0.767244  "
      ]
     },
     "execution_count": 123,
     "metadata": {},
     "output_type": "execute_result"
    }
   ],
   "source": [
    "val_perf_report_smte"
   ]
  },
  {
   "cell_type": "code",
   "execution_count": null,
   "id": "61da1903-d8e8-4e26-9339-7b34d467ad90",
   "metadata": {},
   "outputs": [],
   "source": []
  },
  {
   "cell_type": "code",
   "execution_count": null,
   "id": "a173d068-5bc3-4d11-9c9f-d8a9bef88158",
   "metadata": {},
   "outputs": [],
   "source": []
  },
  {
   "cell_type": "code",
   "execution_count": null,
   "id": "23dab916-9e45-48e9-a5f8-c1f5e666aa9b",
   "metadata": {},
   "outputs": [],
   "source": []
  },
  {
   "cell_type": "code",
   "execution_count": null,
   "id": "45754f69-2c4e-4570-923c-060ca5d297f6",
   "metadata": {},
   "outputs": [],
   "source": []
  }
 ],
 "metadata": {
  "kernelspec": {
   "display_name": "Python 3 (ipykernel)",
   "language": "python",
   "name": "python3"
  },
  "language_info": {
   "codemirror_mode": {
    "name": "ipython",
    "version": 3
   },
   "file_extension": ".py",
   "mimetype": "text/x-python",
   "name": "python",
   "nbconvert_exporter": "python",
   "pygments_lexer": "ipython3",
   "version": "3.11.3"
  }
 },
 "nbformat": 4,
 "nbformat_minor": 5
}
